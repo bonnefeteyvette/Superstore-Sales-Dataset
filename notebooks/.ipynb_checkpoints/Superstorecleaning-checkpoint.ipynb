{
 "cells": [
  {
   "cell_type": "markdown",
   "id": "c08fe1f0-ff3f-4f79-9fff-dcf912ea5d7f",
   "metadata": {},
   "source": [
    "## Superstore Performance Dataset – Exploratory and Descriptive Analysis\n",
    "In this notebook, we focus on the **exploratory and descriptive analysis** of the cleaned version of the **Superstore Performance Dataset**, a popular dataset often used for practicing data analysis, visualization, and business intelligence tasks. The dataset contains retail transaction records, customer details, product categories, and regional performance data.\n",
    "\n",
    "Effective exploratory analysis is crucial for uncovering patterns, trends, and potential issues in the data, which guides further analysis and decision-making. Here, we examine key metrics such as **sales, profit, discount, and quantity**, as well as their distribution across **categories, regions, and time periods**.\n",
    "\n"
   ]
  },
  {
   "cell_type": "markdown",
   "id": "f72ecb56-983c-4b5e-8886-7d805c3005ae",
   "metadata": {},
   "source": [
    "We start by importing essential Python libraries for data handling, analysis, and visualization:\n",
    "\n",
    "- `pandas` for structured data operations.\n",
    "\n",
    "- `numpy` for numerical operations.\n",
    "\n",
    "- `os` for interacting with the operating system and directory structures."
   ]
  },
  {
   "cell_type": "code",
   "execution_count": 6,
   "id": "f90eb00c-9f83-43f5-871b-696051e64694",
   "metadata": {},
   "outputs": [],
   "source": [
    "# Import libraries\n",
    "\n",
    "import pandas as pd\n",
    "import numpy as np\n",
    "import os"
   ]
  },
  {
   "cell_type": "markdown",
   "id": "934452c2-6ebf-4505-802d-bad56b592bb1",
   "metadata": {},
   "source": [
    "## Define and Create Directory Paths\n",
    "\n",
    "To ensure reproducibility and organized storage, we programmatically create directories for:\n",
    "\n",
    "- **raw data**\n",
    "- **processed data**\n",
    "- **results**\n",
    "- **documentation**\n",
    "\n",
    "These directories will store intermediate and final outputs for reproducibility."
   ]
  },
  {
   "cell_type": "code",
   "execution_count": 7,
   "id": "f820c350-1190-4539-bd01-c07a29546cc1",
   "metadata": {},
   "outputs": [],
   "source": [
    "# Get working directory\n",
    "current_dir = os.getcwd()\n",
    "# Go one directory up to the root directory\n",
    "project_root_dir = os.path.dirname(current_dir)\n",
    "# define paths to the data files\n",
    "data_dir = os.path.join(project_root_dir, 'data')\n",
    "raw_dir = os.path.join(data_dir, 'raw')\n",
    "processed_dir = os.path.join(data_dir, 'processed')\n",
    "# Define paths to the results folder\n",
    "results_dir  = os.path.join(project_root_dir, 'results')\n",
    "# Define paths to the docs folder\n",
    "docs_dir = os.path.join(project_root_dir, 'docs')\n",
    "\n",
    "# create directories if they do not exist \n",
    "os.makedirs(raw_dir, exist_ok = True )\n",
    "os.makedirs(processed_dir, exist_ok = True )\n",
    "os.makedirs(results_dir, exist_ok = True)\n",
    "os.makedirs(docs_dir, exist_ok = True)"
   ]
  },
  {
   "cell_type": "markdown",
   "id": "661c6b84-65c2-4ee4-a8cd-62f20470ce29",
   "metadata": {},
   "source": [
    "##  Read in the data\r\n",
    "\r\n",
    "We load the **Superstore Performance Dataset** as an Excel file (`Superstore.xlsx`). The dataset consists of multiple sheets: `Orders`, `Returns`, and `People`. These sheets are read separately and then merged to form a comprehensive dataset for analysis.\r\n",
    "\r\n",
    "# 🔑 Key considerations\r\n",
    "- **File structure:** The dataset is stored in a multi-sheet Excel file. It’s important to read each sheet carefully and ensure the correct relationships between them.\r\n",
    "- **Merging data:**  \r\n",
    "  - The `Orders` and `Returns` sheets are merged using `Order ID` to identify which orders were returned. We use a **left join** to keep all orders and add return information where available.  \r\n",
    "  - The `People` sheet is merged on `Region` to associate each order with the responsible regional manager.\r\n",
    "- **Data integrity:** The merge operations may introduce missing values (e.g., orders that weren’t returned or regions with no associated manager). These should be handled carefully in later analysis.\r\n",
    "- **File path handling:** The use of `os.path.join` ensures that file paths are constructed dynamically, improving portability across different systems and directory structures.\r\n",
    "- **Previewing the data:** Displaying the first 10 rows (`head(10)`) helps confirm that the data has been loaded and merged as expected before further analysis.\r\n"
   ]
  },
  {
   "cell_type": "code",
   "execution_count": 8,
   "id": "7dc9242f-1bbd-42f1-bbf7-eb32d1202011",
   "metadata": {},
   "outputs": [
    {
     "data": {
      "text/html": [
       "<div>\n",
       "<style scoped>\n",
       "    .dataframe tbody tr th:only-of-type {\n",
       "        vertical-align: middle;\n",
       "    }\n",
       "\n",
       "    .dataframe tbody tr th {\n",
       "        vertical-align: top;\n",
       "    }\n",
       "\n",
       "    .dataframe thead th {\n",
       "        text-align: right;\n",
       "    }\n",
       "</style>\n",
       "<table border=\"1\" class=\"dataframe\">\n",
       "  <thead>\n",
       "    <tr style=\"text-align: right;\">\n",
       "      <th></th>\n",
       "      <th>Row ID</th>\n",
       "      <th>Order ID</th>\n",
       "      <th>Order Date</th>\n",
       "      <th>Ship Date</th>\n",
       "      <th>Ship Mode</th>\n",
       "      <th>Customer ID</th>\n",
       "      <th>Customer Name</th>\n",
       "      <th>Segment</th>\n",
       "      <th>Country</th>\n",
       "      <th>City</th>\n",
       "      <th>...</th>\n",
       "      <th>Product ID</th>\n",
       "      <th>Category</th>\n",
       "      <th>Sub-Category</th>\n",
       "      <th>Product Name</th>\n",
       "      <th>Sales</th>\n",
       "      <th>Quantity</th>\n",
       "      <th>Discount</th>\n",
       "      <th>Profit</th>\n",
       "      <th>Returned</th>\n",
       "      <th>Person</th>\n",
       "    </tr>\n",
       "  </thead>\n",
       "  <tbody>\n",
       "    <tr>\n",
       "      <th>0</th>\n",
       "      <td>1</td>\n",
       "      <td>CA-2016-152156</td>\n",
       "      <td>2016-11-08</td>\n",
       "      <td>2016-11-11</td>\n",
       "      <td>Second Class</td>\n",
       "      <td>CG-12520</td>\n",
       "      <td>Claire Gute</td>\n",
       "      <td>Consumer</td>\n",
       "      <td>United States</td>\n",
       "      <td>Henderson</td>\n",
       "      <td>...</td>\n",
       "      <td>FUR-BO-10001798</td>\n",
       "      <td>Furniture</td>\n",
       "      <td>Bookcases</td>\n",
       "      <td>Bush Somerset Collection Bookcase</td>\n",
       "      <td>261.9600</td>\n",
       "      <td>2</td>\n",
       "      <td>0.00</td>\n",
       "      <td>41.9136</td>\n",
       "      <td>NaN</td>\n",
       "      <td>Cassandra Brandow</td>\n",
       "    </tr>\n",
       "    <tr>\n",
       "      <th>1</th>\n",
       "      <td>2</td>\n",
       "      <td>CA-2016-152156</td>\n",
       "      <td>2016-11-08</td>\n",
       "      <td>2016-11-11</td>\n",
       "      <td>Second Class</td>\n",
       "      <td>CG-12520</td>\n",
       "      <td>Claire Gute</td>\n",
       "      <td>Consumer</td>\n",
       "      <td>United States</td>\n",
       "      <td>Henderson</td>\n",
       "      <td>...</td>\n",
       "      <td>FUR-CH-10000454</td>\n",
       "      <td>Furniture</td>\n",
       "      <td>Chairs</td>\n",
       "      <td>Hon Deluxe Fabric Upholstered Stacking Chairs,...</td>\n",
       "      <td>731.9400</td>\n",
       "      <td>3</td>\n",
       "      <td>0.00</td>\n",
       "      <td>219.5820</td>\n",
       "      <td>NaN</td>\n",
       "      <td>Cassandra Brandow</td>\n",
       "    </tr>\n",
       "    <tr>\n",
       "      <th>2</th>\n",
       "      <td>3</td>\n",
       "      <td>CA-2016-138688</td>\n",
       "      <td>2016-06-12</td>\n",
       "      <td>2016-06-16</td>\n",
       "      <td>Second Class</td>\n",
       "      <td>DV-13045</td>\n",
       "      <td>Darrin Van Huff</td>\n",
       "      <td>Corporate</td>\n",
       "      <td>United States</td>\n",
       "      <td>Los Angeles</td>\n",
       "      <td>...</td>\n",
       "      <td>OFF-LA-10000240</td>\n",
       "      <td>Office Supplies</td>\n",
       "      <td>Labels</td>\n",
       "      <td>Self-Adhesive Address Labels for Typewriters b...</td>\n",
       "      <td>14.6200</td>\n",
       "      <td>2</td>\n",
       "      <td>0.00</td>\n",
       "      <td>6.8714</td>\n",
       "      <td>NaN</td>\n",
       "      <td>Anna Andreadi</td>\n",
       "    </tr>\n",
       "    <tr>\n",
       "      <th>3</th>\n",
       "      <td>4</td>\n",
       "      <td>US-2015-108966</td>\n",
       "      <td>2015-10-11</td>\n",
       "      <td>2015-10-18</td>\n",
       "      <td>Standard Class</td>\n",
       "      <td>SO-20335</td>\n",
       "      <td>Sean O'Donnell</td>\n",
       "      <td>Consumer</td>\n",
       "      <td>United States</td>\n",
       "      <td>Fort Lauderdale</td>\n",
       "      <td>...</td>\n",
       "      <td>FUR-TA-10000577</td>\n",
       "      <td>Furniture</td>\n",
       "      <td>Tables</td>\n",
       "      <td>Bretford CR4500 Series Slim Rectangular Table</td>\n",
       "      <td>957.5775</td>\n",
       "      <td>5</td>\n",
       "      <td>0.45</td>\n",
       "      <td>-383.0310</td>\n",
       "      <td>NaN</td>\n",
       "      <td>Cassandra Brandow</td>\n",
       "    </tr>\n",
       "    <tr>\n",
       "      <th>4</th>\n",
       "      <td>5</td>\n",
       "      <td>US-2015-108966</td>\n",
       "      <td>2015-10-11</td>\n",
       "      <td>2015-10-18</td>\n",
       "      <td>Standard Class</td>\n",
       "      <td>SO-20335</td>\n",
       "      <td>Sean O'Donnell</td>\n",
       "      <td>Consumer</td>\n",
       "      <td>United States</td>\n",
       "      <td>Fort Lauderdale</td>\n",
       "      <td>...</td>\n",
       "      <td>OFF-ST-10000760</td>\n",
       "      <td>Office Supplies</td>\n",
       "      <td>Storage</td>\n",
       "      <td>Eldon Fold 'N Roll Cart System</td>\n",
       "      <td>22.3680</td>\n",
       "      <td>2</td>\n",
       "      <td>0.20</td>\n",
       "      <td>2.5164</td>\n",
       "      <td>NaN</td>\n",
       "      <td>Cassandra Brandow</td>\n",
       "    </tr>\n",
       "    <tr>\n",
       "      <th>5</th>\n",
       "      <td>6</td>\n",
       "      <td>CA-2014-115812</td>\n",
       "      <td>2014-06-09</td>\n",
       "      <td>2014-06-14</td>\n",
       "      <td>Standard Class</td>\n",
       "      <td>BH-11710</td>\n",
       "      <td>Brosina Hoffman</td>\n",
       "      <td>Consumer</td>\n",
       "      <td>United States</td>\n",
       "      <td>Los Angeles</td>\n",
       "      <td>...</td>\n",
       "      <td>FUR-FU-10001487</td>\n",
       "      <td>Furniture</td>\n",
       "      <td>Furnishings</td>\n",
       "      <td>Eldon Expressions Wood and Plastic Desk Access...</td>\n",
       "      <td>48.8600</td>\n",
       "      <td>7</td>\n",
       "      <td>0.00</td>\n",
       "      <td>14.1694</td>\n",
       "      <td>NaN</td>\n",
       "      <td>Anna Andreadi</td>\n",
       "    </tr>\n",
       "    <tr>\n",
       "      <th>6</th>\n",
       "      <td>7</td>\n",
       "      <td>CA-2014-115812</td>\n",
       "      <td>2014-06-09</td>\n",
       "      <td>2014-06-14</td>\n",
       "      <td>Standard Class</td>\n",
       "      <td>BH-11710</td>\n",
       "      <td>Brosina Hoffman</td>\n",
       "      <td>Consumer</td>\n",
       "      <td>United States</td>\n",
       "      <td>Los Angeles</td>\n",
       "      <td>...</td>\n",
       "      <td>OFF-AR-10002833</td>\n",
       "      <td>Office Supplies</td>\n",
       "      <td>Art</td>\n",
       "      <td>Newell 322</td>\n",
       "      <td>7.2800</td>\n",
       "      <td>4</td>\n",
       "      <td>0.00</td>\n",
       "      <td>1.9656</td>\n",
       "      <td>NaN</td>\n",
       "      <td>Anna Andreadi</td>\n",
       "    </tr>\n",
       "    <tr>\n",
       "      <th>7</th>\n",
       "      <td>8</td>\n",
       "      <td>CA-2014-115812</td>\n",
       "      <td>2014-06-09</td>\n",
       "      <td>2014-06-14</td>\n",
       "      <td>Standard Class</td>\n",
       "      <td>BH-11710</td>\n",
       "      <td>Brosina Hoffman</td>\n",
       "      <td>Consumer</td>\n",
       "      <td>United States</td>\n",
       "      <td>Los Angeles</td>\n",
       "      <td>...</td>\n",
       "      <td>TEC-PH-10002275</td>\n",
       "      <td>Technology</td>\n",
       "      <td>Phones</td>\n",
       "      <td>Mitel 5320 IP Phone VoIP phone</td>\n",
       "      <td>907.1520</td>\n",
       "      <td>6</td>\n",
       "      <td>0.20</td>\n",
       "      <td>90.7152</td>\n",
       "      <td>NaN</td>\n",
       "      <td>Anna Andreadi</td>\n",
       "    </tr>\n",
       "    <tr>\n",
       "      <th>8</th>\n",
       "      <td>9</td>\n",
       "      <td>CA-2014-115812</td>\n",
       "      <td>2014-06-09</td>\n",
       "      <td>2014-06-14</td>\n",
       "      <td>Standard Class</td>\n",
       "      <td>BH-11710</td>\n",
       "      <td>Brosina Hoffman</td>\n",
       "      <td>Consumer</td>\n",
       "      <td>United States</td>\n",
       "      <td>Los Angeles</td>\n",
       "      <td>...</td>\n",
       "      <td>OFF-BI-10003910</td>\n",
       "      <td>Office Supplies</td>\n",
       "      <td>Binders</td>\n",
       "      <td>DXL Angle-View Binders with Locking Rings by S...</td>\n",
       "      <td>18.5040</td>\n",
       "      <td>3</td>\n",
       "      <td>0.20</td>\n",
       "      <td>5.7825</td>\n",
       "      <td>NaN</td>\n",
       "      <td>Anna Andreadi</td>\n",
       "    </tr>\n",
       "    <tr>\n",
       "      <th>9</th>\n",
       "      <td>10</td>\n",
       "      <td>CA-2014-115812</td>\n",
       "      <td>2014-06-09</td>\n",
       "      <td>2014-06-14</td>\n",
       "      <td>Standard Class</td>\n",
       "      <td>BH-11710</td>\n",
       "      <td>Brosina Hoffman</td>\n",
       "      <td>Consumer</td>\n",
       "      <td>United States</td>\n",
       "      <td>Los Angeles</td>\n",
       "      <td>...</td>\n",
       "      <td>OFF-AP-10002892</td>\n",
       "      <td>Office Supplies</td>\n",
       "      <td>Appliances</td>\n",
       "      <td>Belkin F5C206VTEL 6 Outlet Surge</td>\n",
       "      <td>114.9000</td>\n",
       "      <td>5</td>\n",
       "      <td>0.00</td>\n",
       "      <td>34.4700</td>\n",
       "      <td>NaN</td>\n",
       "      <td>Anna Andreadi</td>\n",
       "    </tr>\n",
       "  </tbody>\n",
       "</table>\n",
       "<p>10 rows × 23 columns</p>\n",
       "</div>"
      ],
      "text/plain": [
       "   Row ID        Order ID Order Date  Ship Date       Ship Mode Customer ID  \\\n",
       "0       1  CA-2016-152156 2016-11-08 2016-11-11    Second Class    CG-12520   \n",
       "1       2  CA-2016-152156 2016-11-08 2016-11-11    Second Class    CG-12520   \n",
       "2       3  CA-2016-138688 2016-06-12 2016-06-16    Second Class    DV-13045   \n",
       "3       4  US-2015-108966 2015-10-11 2015-10-18  Standard Class    SO-20335   \n",
       "4       5  US-2015-108966 2015-10-11 2015-10-18  Standard Class    SO-20335   \n",
       "5       6  CA-2014-115812 2014-06-09 2014-06-14  Standard Class    BH-11710   \n",
       "6       7  CA-2014-115812 2014-06-09 2014-06-14  Standard Class    BH-11710   \n",
       "7       8  CA-2014-115812 2014-06-09 2014-06-14  Standard Class    BH-11710   \n",
       "8       9  CA-2014-115812 2014-06-09 2014-06-14  Standard Class    BH-11710   \n",
       "9      10  CA-2014-115812 2014-06-09 2014-06-14  Standard Class    BH-11710   \n",
       "\n",
       "     Customer Name    Segment        Country             City  ...  \\\n",
       "0      Claire Gute   Consumer  United States        Henderson  ...   \n",
       "1      Claire Gute   Consumer  United States        Henderson  ...   \n",
       "2  Darrin Van Huff  Corporate  United States      Los Angeles  ...   \n",
       "3   Sean O'Donnell   Consumer  United States  Fort Lauderdale  ...   \n",
       "4   Sean O'Donnell   Consumer  United States  Fort Lauderdale  ...   \n",
       "5  Brosina Hoffman   Consumer  United States      Los Angeles  ...   \n",
       "6  Brosina Hoffman   Consumer  United States      Los Angeles  ...   \n",
       "7  Brosina Hoffman   Consumer  United States      Los Angeles  ...   \n",
       "8  Brosina Hoffman   Consumer  United States      Los Angeles  ...   \n",
       "9  Brosina Hoffman   Consumer  United States      Los Angeles  ...   \n",
       "\n",
       "        Product ID         Category Sub-Category  \\\n",
       "0  FUR-BO-10001798        Furniture    Bookcases   \n",
       "1  FUR-CH-10000454        Furniture       Chairs   \n",
       "2  OFF-LA-10000240  Office Supplies       Labels   \n",
       "3  FUR-TA-10000577        Furniture       Tables   \n",
       "4  OFF-ST-10000760  Office Supplies      Storage   \n",
       "5  FUR-FU-10001487        Furniture  Furnishings   \n",
       "6  OFF-AR-10002833  Office Supplies          Art   \n",
       "7  TEC-PH-10002275       Technology       Phones   \n",
       "8  OFF-BI-10003910  Office Supplies      Binders   \n",
       "9  OFF-AP-10002892  Office Supplies   Appliances   \n",
       "\n",
       "                                        Product Name     Sales Quantity  \\\n",
       "0                  Bush Somerset Collection Bookcase  261.9600        2   \n",
       "1  Hon Deluxe Fabric Upholstered Stacking Chairs,...  731.9400        3   \n",
       "2  Self-Adhesive Address Labels for Typewriters b...   14.6200        2   \n",
       "3      Bretford CR4500 Series Slim Rectangular Table  957.5775        5   \n",
       "4                     Eldon Fold 'N Roll Cart System   22.3680        2   \n",
       "5  Eldon Expressions Wood and Plastic Desk Access...   48.8600        7   \n",
       "6                                         Newell 322    7.2800        4   \n",
       "7                     Mitel 5320 IP Phone VoIP phone  907.1520        6   \n",
       "8  DXL Angle-View Binders with Locking Rings by S...   18.5040        3   \n",
       "9                   Belkin F5C206VTEL 6 Outlet Surge  114.9000        5   \n",
       "\n",
       "  Discount    Profit  Returned             Person  \n",
       "0     0.00   41.9136       NaN  Cassandra Brandow  \n",
       "1     0.00  219.5820       NaN  Cassandra Brandow  \n",
       "2     0.00    6.8714       NaN      Anna Andreadi  \n",
       "3     0.45 -383.0310       NaN  Cassandra Brandow  \n",
       "4     0.20    2.5164       NaN  Cassandra Brandow  \n",
       "5     0.00   14.1694       NaN      Anna Andreadi  \n",
       "6     0.00    1.9656       NaN      Anna Andreadi  \n",
       "7     0.20   90.7152       NaN      Anna Andreadi  \n",
       "8     0.20    5.7825       NaN      Anna Andreadi  \n",
       "9     0.00   34.4700       NaN      Anna Andreadi  \n",
       "\n",
       "[10 rows x 23 columns]"
      ]
     },
     "execution_count": 8,
     "metadata": {},
     "output_type": "execute_result"
    }
   ],
   "source": [
    "\n",
    "store_data_filename = os.path.join(raw_dir, \"Superstore.xlsx\")\n",
    "\n",
    "# Load the sheets\n",
    "orders_df = pd.read_excel(store_data_filename, sheet_name='Orders')\n",
    "returns_df = pd.read_excel(store_data_filename, sheet_name='Returns')\n",
    "people_df = pd.read_excel(store_data_filename, sheet_name='People')\n",
    "\n",
    "# Merge orders with returns on Order ID\n",
    "orders_with_returns = pd.merge(orders_df, returns_df, on='Order ID', how='left')\n",
    "\n",
    "# Merge with people on Region\n",
    "merged_store = pd.merge(orders_with_returns, people_df, on='Region', how='left')\n",
    "\n",
    "# Show first 10 rows\n",
    "merged_store.head(10)\n"
   ]
  },
  {
   "cell_type": "code",
   "execution_count": 9,
   "id": "8aaf88c3-b016-4f42-b3ce-8abb1547c047",
   "metadata": {},
   "outputs": [
    {
     "data": {
      "text/plain": [
       "(9994, 23)"
      ]
     },
     "execution_count": 9,
     "metadata": {},
     "output_type": "execute_result"
    }
   ],
   "source": [
    "merged_store.shape"
   ]
  },
  {
   "cell_type": "code",
   "execution_count": 10,
   "id": "b728b146-f515-428e-a029-e95719c8579f",
   "metadata": {},
   "outputs": [
    {
     "name": "stdout",
     "output_type": "stream",
     "text": [
      "<class 'pandas.core.frame.DataFrame'>\n",
      "RangeIndex: 9994 entries, 0 to 9993\n",
      "Data columns (total 23 columns):\n",
      " #   Column         Non-Null Count  Dtype         \n",
      "---  ------         --------------  -----         \n",
      " 0   Row ID         9994 non-null   int64         \n",
      " 1   Order ID       9994 non-null   object        \n",
      " 2   Order Date     9994 non-null   datetime64[ns]\n",
      " 3   Ship Date      9994 non-null   datetime64[ns]\n",
      " 4   Ship Mode      9994 non-null   object        \n",
      " 5   Customer ID    9994 non-null   object        \n",
      " 6   Customer Name  9994 non-null   object        \n",
      " 7   Segment        9994 non-null   object        \n",
      " 8   Country        9994 non-null   object        \n",
      " 9   City           9994 non-null   object        \n",
      " 10  State          9994 non-null   object        \n",
      " 11  Postal Code    9994 non-null   int64         \n",
      " 12  Region         9994 non-null   object        \n",
      " 13  Product ID     9994 non-null   object        \n",
      " 14  Category       9994 non-null   object        \n",
      " 15  Sub-Category   9994 non-null   object        \n",
      " 16  Product Name   9994 non-null   object        \n",
      " 17  Sales          9994 non-null   float64       \n",
      " 18  Quantity       9994 non-null   int64         \n",
      " 19  Discount       9994 non-null   float64       \n",
      " 20  Profit         9994 non-null   float64       \n",
      " 21  Returned       800 non-null    object        \n",
      " 22  Person         9994 non-null   object        \n",
      "dtypes: datetime64[ns](2), float64(3), int64(3), object(15)\n",
      "memory usage: 1.8+ MB\n"
     ]
    }
   ],
   "source": [
    "merged_store.info()"
   ]
  },
  {
   "cell_type": "markdown",
   "id": "a3a1b652-4fe0-4bf2-ad69-8bd88f05b90d",
   "metadata": {},
   "source": [
    "## Data Cleaning"
   ]
  },
  {
   "cell_type": "markdown",
   "id": "e7f642e9-c006-4948-a6c4-758ec48bec93",
   "metadata": {},
   "source": [
    "## 1. Understanding the Dataset\n",
    "\n",
    "Before proceeding with data cleaning, it is essential to understand the variables in the **Superstore** dataset. This helps us determine appropriate cleaning and transformation strategies. The table below summarizes the types, descriptions, and typical values or ranges of the variables in our dataset.\n",
    "\n",
    "### Table 1: Summary of variables in the dataset\n",
    "\n",
    "| Variable        | Type         | Description                                  | Example Values / Range |\n",
    "|-----------------|--------------|----------------------------------------------|-----------------------|\n",
    "| Customer ID      | Categorical   | Unique identifier for each customer          | `CG-12520`, `TB-20145` |\n",
    "| Customer Name    | Categorical   | Full name of the customer                    | `Claire Gute`, `Sean Miller` |\n",
    "| Segment          | Categorical   | Market segment the customer belongs to       | `Consumer`, `Corporate`, `Home Office` |\n",
    "| Country          | Categorical   | Country of transaction                       | `United States` |\n",
    "| City             | Categorical   | City where the order was placed              | `Los Angeles`, `New York` |\n",
    "| State            | Categorical   | State where the order was placed             | `California`, `Texas` |\n",
    "| Postal Code      | Categorical/Numeric | Postal code of customer location         | 90036, 10024 |\n",
    "| Region           | Categorical   | Regional division of the business            | `West`, `East`, `Central`, `South` |\n",
    "| Product ID       | Categorical   | Unique identifier for product                | `FUR-BO-10001798` |\n",
    "| Category         | Categorical   | Product category                             | `Furniture`, `Office Supplies`, `Technology` |\n",
    "| Sub-Category     | Categorical   | Product sub-category                         | `Bookcases`, `Chairs`, `Phones` |\n",
    "| Product Name     | Categorical   | Name of the product                          | `Bush Somerset Collection Bookcase` |\n",
    "| Sales            | Numeric       | Dollar amount of sales                       | 2.99 – 22,638.48 |\n",
    "| Quantity         | Numeric       | Number of units sold                         | 1 – 14 |\n",
    "| Discount         | Numeric       | Discount applied to sale (0 to 1)            | 0.0 – 0.8 |\n",
    "| Profit           | Numeric       | Profit amount in dollars                     | -6599.98 – 8399.98 |\n",
    "| Returned         | Categorical   | Indicates if product was returned            | `Yes`, `No`, (can be missing) |\n",
    "| Person           | Categorical   | Salesperson or handler                       | Cassandra Brandow, Anna Andreadi |\n",
    "\n",
    "---\n",
    "\n",
    "\n",
    "                                                      "
   ]
  },
  {
   "cell_type": "code",
   "execution_count": 11,
   "id": "6c20dba2-a8f4-4baf-ae3f-525665851f56",
   "metadata": {},
   "outputs": [
    {
     "data": {
      "text/plain": [
       "Index(['Row ID', 'Order ID', 'Order Date', 'Ship Date', 'Ship Mode',\n",
       "       'Customer ID', 'Customer Name', 'Segment', 'Country', 'City', 'State',\n",
       "       'Postal Code', 'Region', 'Product ID', 'Category', 'Sub-Category',\n",
       "       'Product Name', 'Sales', 'Quantity', 'Discount', 'Profit', 'Returned',\n",
       "       'Person'],\n",
       "      dtype='object')"
      ]
     },
     "execution_count": 11,
     "metadata": {},
     "output_type": "execute_result"
    }
   ],
   "source": [
    "merged_store.columns"
   ]
  },
  {
   "cell_type": "markdown",
   "id": "52efe4c9-c2db-4fda-8e8d-d2c975418e85",
   "metadata": {},
   "source": [
    "## 2. Deal with missing values\n",
    "To ensure the quality of our dataset, we performed an initial check for missing values in the merged dataset `merged_store`. The following code was used to identify any null values across all columns:"
   ]
  },
  {
   "cell_type": "code",
   "execution_count": 13,
   "id": "2aad7e1d-8ac6-4f2b-b8bf-c0b0fd3a64b8",
   "metadata": {},
   "outputs": [
    {
     "data": {
      "text/plain": [
       "Row ID              0\n",
       "Order ID            0\n",
       "Order Date          0\n",
       "Ship Date           0\n",
       "Ship Mode           0\n",
       "Customer ID         0\n",
       "Customer Name       0\n",
       "Segment             0\n",
       "Country             0\n",
       "City                0\n",
       "State               0\n",
       "Postal Code         0\n",
       "Region              0\n",
       "Product ID          0\n",
       "Category            0\n",
       "Sub-Category        0\n",
       "Product Name        0\n",
       "Sales               0\n",
       "Quantity            0\n",
       "Discount            0\n",
       "Profit              0\n",
       "Returned         9194\n",
       "Person              0\n",
       "dtype: int64"
      ]
     },
     "execution_count": 13,
     "metadata": {},
     "output_type": "execute_result"
    }
   ],
   "source": [
    "merged_store.isnull().sum()"
   ]
  },
  {
   "cell_type": "markdown",
   "id": "2617c1f3-9fbb-47fa-ae3f-83097758d672",
   "metadata": {},
   "source": [
    "\r\n",
    "Using the `.isnull().sum()` function, we identified columns with missing values in the **Superstore** dataset. The analysis revealed:\r\n",
    "\r\n",
    "- `Returned` has **9,194 missing values**\r\n",
    "\r\n",
    "To handle this, we applied the following data cleaning approach:\r\n",
    "\r\n",
    "- Imputed missing values in the **`Returned`** column with `\"NO\"` to indicate that these transactions are considered not returned, in the absence of return info].fillna('NO')\r\n"
   ]
  },
  {
   "cell_type": "code",
   "execution_count": 14,
   "id": "1423f8d0-6135-41ac-b3b2-ebd816fe8086",
   "metadata": {},
   "outputs": [],
   "source": [
    "merged_store['Returned'] = merged_store['Returned'].fillna('NO')"
   ]
  },
  {
   "cell_type": "code",
   "execution_count": 16,
   "id": "2172f947-c6a3-485f-abfd-37794560a23a",
   "metadata": {},
   "outputs": [
    {
     "data": {
      "text/plain": [
       "Row ID           0\n",
       "Order ID         0\n",
       "Order Date       0\n",
       "Ship Date        0\n",
       "Ship Mode        0\n",
       "Customer ID      0\n",
       "Customer Name    0\n",
       "Segment          0\n",
       "Country          0\n",
       "City             0\n",
       "State            0\n",
       "Postal Code      0\n",
       "Region           0\n",
       "Product ID       0\n",
       "Category         0\n",
       "Sub-Category     0\n",
       "Product Name     0\n",
       "Sales            0\n",
       "Quantity         0\n",
       "Discount         0\n",
       "Profit           0\n",
       "Returned         0\n",
       "Person           0\n",
       "dtype: int64"
      ]
     },
     "execution_count": 16,
     "metadata": {},
     "output_type": "execute_result"
    }
   ],
   "source": [
    "merged_store.isnull().sum()"
   ]
  },
  {
   "cell_type": "markdown",
   "id": "11ae6c25-6127-4031-ac35-377484308afc",
   "metadata": {},
   "source": [
    "### 3. Removing Duplicates\n",
    "\n",
    "Duplicates can distort statistical summaries and model performance. Using `.duplicated().sum()`, we count duplicate records.\n"
   ]
  },
  {
   "cell_type": "markdown",
   "id": "1f2a2d41-9d1d-4183-bc30-18878cb60fca",
   "metadata": {},
   "source": [
    "We confirm that we have no duplicates in the dataset."
   ]
  },
  {
   "cell_type": "code",
   "execution_count": 17,
   "id": "939c1f14-eebf-443c-beaf-5b3512a4d3ba",
   "metadata": {},
   "outputs": [
    {
     "data": {
      "text/plain": [
       "0"
      ]
     },
     "execution_count": 17,
     "metadata": {},
     "output_type": "execute_result"
    }
   ],
   "source": [
    "merged_store.duplicated().sum()"
   ]
  },
  {
   "cell_type": "markdown",
   "id": "0612ed16-24a9-47b2-996a-7d55a12eed86",
   "metadata": {},
   "source": [
    "We also examined the current structure of the dataset and confirmed that it contains **9,994 rows** and **23 columns**, representing a comprehensive collection of retail transaction records.\n"
   ]
  },
  {
   "cell_type": "code",
   "execution_count": 18,
   "id": "fb7f75f8-de99-4a8c-a1b5-6399a57d9fbf",
   "metadata": {},
   "outputs": [
    {
     "data": {
      "text/plain": [
       "(9994, 23)"
      ]
     },
     "execution_count": 18,
     "metadata": {},
     "output_type": "execute_result"
    }
   ],
   "source": [
    "merged_store.shape"
   ]
  },
  {
   "cell_type": "markdown",
   "id": "f239e0e7-3bb1-43e0-b86f-566ea9cdb656",
   "metadata": {},
   "source": [
    "Finally, we save the clean, processed dataset as a CSV file in our processed directory for future modelling and analysis.\n"
   ]
  },
  {
   "cell_type": "code",
   "execution_count": 19,
   "id": "c2c26d04-9cab-4c5c-926d-1fe4a706fe82",
   "metadata": {},
   "outputs": [],
   "source": [
    "merged_store.to_csv('SuperStore-Cleaned.csv', index=False)"
   ]
  },
  {
   "cell_type": "code",
   "execution_count": null,
   "id": "5cc63a6d-6b3d-46fb-a3d2-3a0132d51ff3",
   "metadata": {},
   "outputs": [],
   "source": []
  }
 ],
 "metadata": {
  "kernelspec": {
   "display_name": "Python 3 (ipykernel)",
   "language": "python",
   "name": "python3"
  },
  "language_info": {
   "codemirror_mode": {
    "name": "ipython",
    "version": 3
   },
   "file_extension": ".py",
   "mimetype": "text/x-python",
   "name": "python",
   "nbconvert_exporter": "python",
   "pygments_lexer": "ipython3",
   "version": "3.11.7"
  },
  "widgets": {
   "application/vnd.jupyter.widget-state+json": {
    "state": {},
    "version_major": 2,
    "version_minor": 0
   }
  }
 },
 "nbformat": 4,
 "nbformat_minor": 5
}
