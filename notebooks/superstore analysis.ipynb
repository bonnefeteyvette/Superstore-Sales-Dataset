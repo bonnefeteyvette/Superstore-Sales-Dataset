{
 "cells": [
  {
   "cell_type": "markdown",
   "id": "c09d6dd5-9cc4-4527-b33d-2359f75722df",
   "metadata": {},
   "source": [
    "# Superstore Performance Dashboard - Exploratory and Descriptive Analysis\r\n",
    "\r\n",
    "In this notebook, we perform an in-depth exploratory and descriptive analysis of the **Superstore Performance Dataset**, a rich dataset capturing retail transaction details across various product categories, regions, and customer segments.\r\n",
    "\r\n",
    "This phase of analysis is crucial for uncovering trends, identifying potential business insights, and gaining a solid understanding of the dataset’s structure before developing visual dashboards or advanced analytics. We explore the distribution of key numerical and categorical variables, examine relationships between sales performance metrics (such as sales, profit, and quantity) and business dimensions (such as region, category, and customer segment), and use visualizations to highlight important patterns. Particular focus is placed on sales performance across regions, product categories, and return behavior, helping to build a strong foundation for actionable recommendations and strategic decision-making.\r\n",
    "\r\n",
    "We begin our analysis by importing the core Python libraries required for data processing, numerical computation, visualization, and directory management:\r\n",
    "\r\n",
    "- **pandas**: Enables efficient manipulation, filtering, and aggregation of structured tabular data, forming the backbone of our analysis pipeline.\r\n",
    "- **numpy**: Provides support for numerical operations, array-based computations, and statistical summaries.\r\n",
    "- **os**: Facilitates interaction with the file system, allowing us to build flexible and portable directory paths for data and output management.\r\n",
    "- **plotly.express**: A high-level graphing library that enables creation of interactive, publication-quality visualizations, which we use extensively to uncover patterns and present insights throughout the notebook.\r\n"
   ]
  },
  {
   "cell_type": "code",
   "execution_count": 1,
   "id": "04143bf9-fa84-4640-8e79-bd1323a01701",
   "metadata": {},
   "outputs": [],
   "source": [
    "# Import libraries\n",
    "\n",
    "import pandas as pd\n",
    "import numpy as np\n",
    "import os\n",
    "import plotly.express as px\n"
   ]
  },
  {
   "cell_type": "markdown",
   "id": "0860732b-e625-472e-a18c-f6f522bd0193",
   "metadata": {},
   "source": [
    "## 1. Define and Create Directory Paths\n",
    "\n",
    "To ensure reproducibility and organized storage, we programmatically create directories if they don't already exist for:\n",
    "\n",
    "- **raw data**\n",
    "- **processed data**\n",
    "- **results**\n",
    "- **documentation**\n",
    "\n",
    "These directories will store intermediate and final outputs for reproducibility.\n"
   ]
  },
  {
   "cell_type": "code",
   "execution_count": 2,
   "id": "3b65e634-64a4-42b2-86d6-a208972440e2",
   "metadata": {},
   "outputs": [],
   "source": [
    "# Get working directory\n",
    "current_dir = os.getcwd()\n",
    "# Go one directory up to the root directory\n",
    "project_root_dir = os.path.dirname(current_dir)\n",
    "# define paths to the data files\n",
    "data_dir = os.path.join(project_root_dir, 'data')\n",
    "raw_dir = os.path.join(data_dir, 'raw')\n",
    "processed_dir = os.path.join(data_dir, 'processed')\n",
    "# Define paths to the results folder\n",
    "results_dir  = os.path.join(project_root_dir, 'results')\n",
    "# Define paths to the docs folder\n",
    "docs_dir = os.path.join(project_root_dir, 'docs')\n",
    "\n",
    "# create directories if they do not exist \n",
    "os.makedirs(raw_dir, exist_ok = True )\n",
    "os.makedirs(processed_dir, exist_ok = True )\n",
    "os.makedirs(results_dir, exist_ok = True)\n",
    "os.makedirs(docs_dir, exist_ok = True)"
   ]
  },
  {
   "cell_type": "markdown",
   "id": "74c8d922-9127-430f-9928-d1b0b5148edd",
   "metadata": {},
   "source": [
    "## 2. Loading the Cleaned Dataset\r\n",
    "\r\n",
    "We load the cleaned version of the **Superstore Performance Dataset** from the processed data directory into a Pandas DataFrame. The `head(10)` function displays the first ten records, providing a quick look at key columns such as `Customer ID`, `Segment`, `Country`, `Category`, `Sales`, `Profit`, and `Returned`.\r\n"
   ]
  },
  {
   "cell_type": "code",
   "execution_count": 3,
   "id": "5fbc4146-d944-4582-ba01-5f7765e8cc5a",
   "metadata": {},
   "outputs": [
    {
     "data": {
      "text/html": [
       "<div>\n",
       "<style scoped>\n",
       "    .dataframe tbody tr th:only-of-type {\n",
       "        vertical-align: middle;\n",
       "    }\n",
       "\n",
       "    .dataframe tbody tr th {\n",
       "        vertical-align: top;\n",
       "    }\n",
       "\n",
       "    .dataframe thead th {\n",
       "        text-align: right;\n",
       "    }\n",
       "</style>\n",
       "<table border=\"1\" class=\"dataframe\">\n",
       "  <thead>\n",
       "    <tr style=\"text-align: right;\">\n",
       "      <th></th>\n",
       "      <th>Row ID</th>\n",
       "      <th>Order ID</th>\n",
       "      <th>Order Date</th>\n",
       "      <th>Ship Date</th>\n",
       "      <th>Ship Mode</th>\n",
       "      <th>Customer ID</th>\n",
       "      <th>Customer Name</th>\n",
       "      <th>Segment</th>\n",
       "      <th>Country</th>\n",
       "      <th>City</th>\n",
       "      <th>...</th>\n",
       "      <th>Product ID</th>\n",
       "      <th>Category</th>\n",
       "      <th>Sub-Category</th>\n",
       "      <th>Product Name</th>\n",
       "      <th>Sales</th>\n",
       "      <th>Quantity</th>\n",
       "      <th>Discount</th>\n",
       "      <th>Profit</th>\n",
       "      <th>Returned</th>\n",
       "      <th>Person</th>\n",
       "    </tr>\n",
       "  </thead>\n",
       "  <tbody>\n",
       "    <tr>\n",
       "      <th>0</th>\n",
       "      <td>1</td>\n",
       "      <td>CA-2016-152156</td>\n",
       "      <td>2016-11-08</td>\n",
       "      <td>2016-11-11</td>\n",
       "      <td>Second Class</td>\n",
       "      <td>CG-12520</td>\n",
       "      <td>Claire Gute</td>\n",
       "      <td>Consumer</td>\n",
       "      <td>United States</td>\n",
       "      <td>Henderson</td>\n",
       "      <td>...</td>\n",
       "      <td>FUR-BO-10001798</td>\n",
       "      <td>Furniture</td>\n",
       "      <td>Bookcases</td>\n",
       "      <td>Bush Somerset Collection Bookcase</td>\n",
       "      <td>261.9600</td>\n",
       "      <td>2</td>\n",
       "      <td>0.00</td>\n",
       "      <td>41.9136</td>\n",
       "      <td>NO</td>\n",
       "      <td>Cassandra Brandow</td>\n",
       "    </tr>\n",
       "    <tr>\n",
       "      <th>1</th>\n",
       "      <td>2</td>\n",
       "      <td>CA-2016-152156</td>\n",
       "      <td>2016-11-08</td>\n",
       "      <td>2016-11-11</td>\n",
       "      <td>Second Class</td>\n",
       "      <td>CG-12520</td>\n",
       "      <td>Claire Gute</td>\n",
       "      <td>Consumer</td>\n",
       "      <td>United States</td>\n",
       "      <td>Henderson</td>\n",
       "      <td>...</td>\n",
       "      <td>FUR-CH-10000454</td>\n",
       "      <td>Furniture</td>\n",
       "      <td>Chairs</td>\n",
       "      <td>Hon Deluxe Fabric Upholstered Stacking Chairs,...</td>\n",
       "      <td>731.9400</td>\n",
       "      <td>3</td>\n",
       "      <td>0.00</td>\n",
       "      <td>219.5820</td>\n",
       "      <td>NO</td>\n",
       "      <td>Cassandra Brandow</td>\n",
       "    </tr>\n",
       "    <tr>\n",
       "      <th>2</th>\n",
       "      <td>3</td>\n",
       "      <td>CA-2016-138688</td>\n",
       "      <td>2016-06-12</td>\n",
       "      <td>2016-06-16</td>\n",
       "      <td>Second Class</td>\n",
       "      <td>DV-13045</td>\n",
       "      <td>Darrin Van Huff</td>\n",
       "      <td>Corporate</td>\n",
       "      <td>United States</td>\n",
       "      <td>Los Angeles</td>\n",
       "      <td>...</td>\n",
       "      <td>OFF-LA-10000240</td>\n",
       "      <td>Office Supplies</td>\n",
       "      <td>Labels</td>\n",
       "      <td>Self-Adhesive Address Labels for Typewriters b...</td>\n",
       "      <td>14.6200</td>\n",
       "      <td>2</td>\n",
       "      <td>0.00</td>\n",
       "      <td>6.8714</td>\n",
       "      <td>NO</td>\n",
       "      <td>Anna Andreadi</td>\n",
       "    </tr>\n",
       "    <tr>\n",
       "      <th>3</th>\n",
       "      <td>4</td>\n",
       "      <td>US-2015-108966</td>\n",
       "      <td>2015-10-11</td>\n",
       "      <td>2015-10-18</td>\n",
       "      <td>Standard Class</td>\n",
       "      <td>SO-20335</td>\n",
       "      <td>Sean O'Donnell</td>\n",
       "      <td>Consumer</td>\n",
       "      <td>United States</td>\n",
       "      <td>Fort Lauderdale</td>\n",
       "      <td>...</td>\n",
       "      <td>FUR-TA-10000577</td>\n",
       "      <td>Furniture</td>\n",
       "      <td>Tables</td>\n",
       "      <td>Bretford CR4500 Series Slim Rectangular Table</td>\n",
       "      <td>957.5775</td>\n",
       "      <td>5</td>\n",
       "      <td>0.45</td>\n",
       "      <td>-383.0310</td>\n",
       "      <td>NO</td>\n",
       "      <td>Cassandra Brandow</td>\n",
       "    </tr>\n",
       "    <tr>\n",
       "      <th>4</th>\n",
       "      <td>5</td>\n",
       "      <td>US-2015-108966</td>\n",
       "      <td>2015-10-11</td>\n",
       "      <td>2015-10-18</td>\n",
       "      <td>Standard Class</td>\n",
       "      <td>SO-20335</td>\n",
       "      <td>Sean O'Donnell</td>\n",
       "      <td>Consumer</td>\n",
       "      <td>United States</td>\n",
       "      <td>Fort Lauderdale</td>\n",
       "      <td>...</td>\n",
       "      <td>OFF-ST-10000760</td>\n",
       "      <td>Office Supplies</td>\n",
       "      <td>Storage</td>\n",
       "      <td>Eldon Fold 'N Roll Cart System</td>\n",
       "      <td>22.3680</td>\n",
       "      <td>2</td>\n",
       "      <td>0.20</td>\n",
       "      <td>2.5164</td>\n",
       "      <td>NO</td>\n",
       "      <td>Cassandra Brandow</td>\n",
       "    </tr>\n",
       "    <tr>\n",
       "      <th>5</th>\n",
       "      <td>6</td>\n",
       "      <td>CA-2014-115812</td>\n",
       "      <td>2014-06-09</td>\n",
       "      <td>2014-06-14</td>\n",
       "      <td>Standard Class</td>\n",
       "      <td>BH-11710</td>\n",
       "      <td>Brosina Hoffman</td>\n",
       "      <td>Consumer</td>\n",
       "      <td>United States</td>\n",
       "      <td>Los Angeles</td>\n",
       "      <td>...</td>\n",
       "      <td>FUR-FU-10001487</td>\n",
       "      <td>Furniture</td>\n",
       "      <td>Furnishings</td>\n",
       "      <td>Eldon Expressions Wood and Plastic Desk Access...</td>\n",
       "      <td>48.8600</td>\n",
       "      <td>7</td>\n",
       "      <td>0.00</td>\n",
       "      <td>14.1694</td>\n",
       "      <td>NO</td>\n",
       "      <td>Anna Andreadi</td>\n",
       "    </tr>\n",
       "    <tr>\n",
       "      <th>6</th>\n",
       "      <td>7</td>\n",
       "      <td>CA-2014-115812</td>\n",
       "      <td>2014-06-09</td>\n",
       "      <td>2014-06-14</td>\n",
       "      <td>Standard Class</td>\n",
       "      <td>BH-11710</td>\n",
       "      <td>Brosina Hoffman</td>\n",
       "      <td>Consumer</td>\n",
       "      <td>United States</td>\n",
       "      <td>Los Angeles</td>\n",
       "      <td>...</td>\n",
       "      <td>OFF-AR-10002833</td>\n",
       "      <td>Office Supplies</td>\n",
       "      <td>Art</td>\n",
       "      <td>Newell 322</td>\n",
       "      <td>7.2800</td>\n",
       "      <td>4</td>\n",
       "      <td>0.00</td>\n",
       "      <td>1.9656</td>\n",
       "      <td>NO</td>\n",
       "      <td>Anna Andreadi</td>\n",
       "    </tr>\n",
       "    <tr>\n",
       "      <th>7</th>\n",
       "      <td>8</td>\n",
       "      <td>CA-2014-115812</td>\n",
       "      <td>2014-06-09</td>\n",
       "      <td>2014-06-14</td>\n",
       "      <td>Standard Class</td>\n",
       "      <td>BH-11710</td>\n",
       "      <td>Brosina Hoffman</td>\n",
       "      <td>Consumer</td>\n",
       "      <td>United States</td>\n",
       "      <td>Los Angeles</td>\n",
       "      <td>...</td>\n",
       "      <td>TEC-PH-10002275</td>\n",
       "      <td>Technology</td>\n",
       "      <td>Phones</td>\n",
       "      <td>Mitel 5320 IP Phone VoIP phone</td>\n",
       "      <td>907.1520</td>\n",
       "      <td>6</td>\n",
       "      <td>0.20</td>\n",
       "      <td>90.7152</td>\n",
       "      <td>NO</td>\n",
       "      <td>Anna Andreadi</td>\n",
       "    </tr>\n",
       "    <tr>\n",
       "      <th>8</th>\n",
       "      <td>9</td>\n",
       "      <td>CA-2014-115812</td>\n",
       "      <td>2014-06-09</td>\n",
       "      <td>2014-06-14</td>\n",
       "      <td>Standard Class</td>\n",
       "      <td>BH-11710</td>\n",
       "      <td>Brosina Hoffman</td>\n",
       "      <td>Consumer</td>\n",
       "      <td>United States</td>\n",
       "      <td>Los Angeles</td>\n",
       "      <td>...</td>\n",
       "      <td>OFF-BI-10003910</td>\n",
       "      <td>Office Supplies</td>\n",
       "      <td>Binders</td>\n",
       "      <td>DXL Angle-View Binders with Locking Rings by S...</td>\n",
       "      <td>18.5040</td>\n",
       "      <td>3</td>\n",
       "      <td>0.20</td>\n",
       "      <td>5.7825</td>\n",
       "      <td>NO</td>\n",
       "      <td>Anna Andreadi</td>\n",
       "    </tr>\n",
       "    <tr>\n",
       "      <th>9</th>\n",
       "      <td>10</td>\n",
       "      <td>CA-2014-115812</td>\n",
       "      <td>2014-06-09</td>\n",
       "      <td>2014-06-14</td>\n",
       "      <td>Standard Class</td>\n",
       "      <td>BH-11710</td>\n",
       "      <td>Brosina Hoffman</td>\n",
       "      <td>Consumer</td>\n",
       "      <td>United States</td>\n",
       "      <td>Los Angeles</td>\n",
       "      <td>...</td>\n",
       "      <td>OFF-AP-10002892</td>\n",
       "      <td>Office Supplies</td>\n",
       "      <td>Appliances</td>\n",
       "      <td>Belkin F5C206VTEL 6 Outlet Surge</td>\n",
       "      <td>114.9000</td>\n",
       "      <td>5</td>\n",
       "      <td>0.00</td>\n",
       "      <td>34.4700</td>\n",
       "      <td>NO</td>\n",
       "      <td>Anna Andreadi</td>\n",
       "    </tr>\n",
       "  </tbody>\n",
       "</table>\n",
       "<p>10 rows × 23 columns</p>\n",
       "</div>"
      ],
      "text/plain": [
       "   Row ID        Order ID  Order Date   Ship Date       Ship Mode Customer ID  \\\n",
       "0       1  CA-2016-152156  2016-11-08  2016-11-11    Second Class    CG-12520   \n",
       "1       2  CA-2016-152156  2016-11-08  2016-11-11    Second Class    CG-12520   \n",
       "2       3  CA-2016-138688  2016-06-12  2016-06-16    Second Class    DV-13045   \n",
       "3       4  US-2015-108966  2015-10-11  2015-10-18  Standard Class    SO-20335   \n",
       "4       5  US-2015-108966  2015-10-11  2015-10-18  Standard Class    SO-20335   \n",
       "5       6  CA-2014-115812  2014-06-09  2014-06-14  Standard Class    BH-11710   \n",
       "6       7  CA-2014-115812  2014-06-09  2014-06-14  Standard Class    BH-11710   \n",
       "7       8  CA-2014-115812  2014-06-09  2014-06-14  Standard Class    BH-11710   \n",
       "8       9  CA-2014-115812  2014-06-09  2014-06-14  Standard Class    BH-11710   \n",
       "9      10  CA-2014-115812  2014-06-09  2014-06-14  Standard Class    BH-11710   \n",
       "\n",
       "     Customer Name    Segment        Country             City  ...  \\\n",
       "0      Claire Gute   Consumer  United States        Henderson  ...   \n",
       "1      Claire Gute   Consumer  United States        Henderson  ...   \n",
       "2  Darrin Van Huff  Corporate  United States      Los Angeles  ...   \n",
       "3   Sean O'Donnell   Consumer  United States  Fort Lauderdale  ...   \n",
       "4   Sean O'Donnell   Consumer  United States  Fort Lauderdale  ...   \n",
       "5  Brosina Hoffman   Consumer  United States      Los Angeles  ...   \n",
       "6  Brosina Hoffman   Consumer  United States      Los Angeles  ...   \n",
       "7  Brosina Hoffman   Consumer  United States      Los Angeles  ...   \n",
       "8  Brosina Hoffman   Consumer  United States      Los Angeles  ...   \n",
       "9  Brosina Hoffman   Consumer  United States      Los Angeles  ...   \n",
       "\n",
       "        Product ID         Category Sub-Category  \\\n",
       "0  FUR-BO-10001798        Furniture    Bookcases   \n",
       "1  FUR-CH-10000454        Furniture       Chairs   \n",
       "2  OFF-LA-10000240  Office Supplies       Labels   \n",
       "3  FUR-TA-10000577        Furniture       Tables   \n",
       "4  OFF-ST-10000760  Office Supplies      Storage   \n",
       "5  FUR-FU-10001487        Furniture  Furnishings   \n",
       "6  OFF-AR-10002833  Office Supplies          Art   \n",
       "7  TEC-PH-10002275       Technology       Phones   \n",
       "8  OFF-BI-10003910  Office Supplies      Binders   \n",
       "9  OFF-AP-10002892  Office Supplies   Appliances   \n",
       "\n",
       "                                        Product Name     Sales Quantity  \\\n",
       "0                  Bush Somerset Collection Bookcase  261.9600        2   \n",
       "1  Hon Deluxe Fabric Upholstered Stacking Chairs,...  731.9400        3   \n",
       "2  Self-Adhesive Address Labels for Typewriters b...   14.6200        2   \n",
       "3      Bretford CR4500 Series Slim Rectangular Table  957.5775        5   \n",
       "4                     Eldon Fold 'N Roll Cart System   22.3680        2   \n",
       "5  Eldon Expressions Wood and Plastic Desk Access...   48.8600        7   \n",
       "6                                         Newell 322    7.2800        4   \n",
       "7                     Mitel 5320 IP Phone VoIP phone  907.1520        6   \n",
       "8  DXL Angle-View Binders with Locking Rings by S...   18.5040        3   \n",
       "9                   Belkin F5C206VTEL 6 Outlet Surge  114.9000        5   \n",
       "\n",
       "  Discount    Profit  Returned             Person  \n",
       "0     0.00   41.9136        NO  Cassandra Brandow  \n",
       "1     0.00  219.5820        NO  Cassandra Brandow  \n",
       "2     0.00    6.8714        NO      Anna Andreadi  \n",
       "3     0.45 -383.0310        NO  Cassandra Brandow  \n",
       "4     0.20    2.5164        NO  Cassandra Brandow  \n",
       "5     0.00   14.1694        NO      Anna Andreadi  \n",
       "6     0.00    1.9656        NO      Anna Andreadi  \n",
       "7     0.20   90.7152        NO      Anna Andreadi  \n",
       "8     0.20    5.7825        NO      Anna Andreadi  \n",
       "9     0.00   34.4700        NO      Anna Andreadi  \n",
       "\n",
       "[10 rows x 23 columns]"
      ]
     },
     "execution_count": 3,
     "metadata": {},
     "output_type": "execute_result"
    }
   ],
   "source": [
    "store_data_filename = os.path.join(processed_dir, \"SuperStore-Cleaned.csv\")\n",
    "super_df = pd.read_csv(store_data_filename)\n",
    "super_df.head(10)"
   ]
  },
  {
   "cell_type": "markdown",
   "id": "0d28448f-d834-42c6-9ad5-d83a7890eaba",
   "metadata": {},
   "source": [
    "## 3. Dataset Dimensions and Data Types\r\n",
    "\r\n",
    "Here, we examine the structure of the Superstore dataset:\r\n",
    "\r\n",
    "- The dataset contain9,994,537** entries an23**17** variables.\r\n",
    "- It includes both **numerical** variables (e.g., `Sales`, `Profit`, `Quantity`, `Discount`) and **categorical** variables (e.g., `Customer ID`, `Segment`, `Region`, `Category`, `Returned`).\r\n",
    "\r\n",
    "Understanding the data types and identifying any null entries is essential before performing detailed analysis, as it guides data cleaning, transformation, and visualization decisions.\r\n"
   ]
  },
  {
   "cell_type": "code",
   "execution_count": 4,
   "id": "adb6002e-dad7-4657-9048-a4e549b6b368",
   "metadata": {},
   "outputs": [
    {
     "data": {
      "text/plain": [
       "(9994, 23)"
      ]
     },
     "execution_count": 4,
     "metadata": {},
     "output_type": "execute_result"
    }
   ],
   "source": [
    "super_df.shape"
   ]
  },
  {
   "cell_type": "code",
   "execution_count": 5,
   "id": "8657b72f-9951-443c-9c6a-90569d8c0112",
   "metadata": {},
   "outputs": [
    {
     "name": "stdout",
     "output_type": "stream",
     "text": [
      "<class 'pandas.core.frame.DataFrame'>\n",
      "RangeIndex: 9994 entries, 0 to 9993\n",
      "Data columns (total 23 columns):\n",
      " #   Column         Non-Null Count  Dtype  \n",
      "---  ------         --------------  -----  \n",
      " 0   Row ID         9994 non-null   int64  \n",
      " 1   Order ID       9994 non-null   object \n",
      " 2   Order Date     9994 non-null   object \n",
      " 3   Ship Date      9994 non-null   object \n",
      " 4   Ship Mode      9994 non-null   object \n",
      " 5   Customer ID    9994 non-null   object \n",
      " 6   Customer Name  9994 non-null   object \n",
      " 7   Segment        9994 non-null   object \n",
      " 8   Country        9994 non-null   object \n",
      " 9   City           9994 non-null   object \n",
      " 10  State          9994 non-null   object \n",
      " 11  Postal Code    9994 non-null   int64  \n",
      " 12  Region         9994 non-null   object \n",
      " 13  Product ID     9994 non-null   object \n",
      " 14  Category       9994 non-null   object \n",
      " 15  Sub-Category   9994 non-null   object \n",
      " 16  Product Name   9994 non-null   object \n",
      " 17  Sales          9994 non-null   float64\n",
      " 18  Quantity       9994 non-null   int64  \n",
      " 19  Discount       9994 non-null   float64\n",
      " 20  Profit         9994 non-null   float64\n",
      " 21  Returned       9994 non-null   object \n",
      " 22  Person         9994 non-null   object \n",
      "dtypes: float64(3), int64(3), object(17)\n",
      "memory usage: 1.8+ MB\n"
     ]
    }
   ],
   "source": [
    "super_df.info()"
   ]
  },
  {
   "cell_type": "markdown",
   "id": "4a188359-784a-4af2-b22a-9ba8478dc93a",
   "metadata": {},
   "source": [
    "## 4. Summary Statistics: Numerical Variables\r\n",
    "\r\n",
    "This summary provides a snapshot of the distribution and spread of key numerical variables in the Superstore dataset. Below are the main insights:\r\n",
    "\r\n",
    "- **Sales** values range fom **$ 0.4 4 to $22,63848**, with a meanof **$22.86**. The large gap between the mean and maximum suggests a right-skewed distribution, where a few high-value sales significantly impact the average. This is typical in retail, where large orders or bulk items create outliers.\r\n",
    "\r\n",
    "- **Profit** also exhibits a wide range,from **–$6,599.98 (a oss)* to **$8,399.98 (again)**. The mean proft is **$8 .66**, with a standard deviation of   ver *$  234**, indicating large variability. The presence of negative values shows that some transactions resulted in financial losses, possibly due to heavy discounts, returns, or operational costs exceeding sales.\r\n",
    "\r\n",
    "- **Discount** values range between **0.0 and 0.8**, with a mean of **0.16**. This suggests that most transactions occur with low to moderate discount rates. The 25th percentile is 0, which indicates that many orders are sold at full price, while a portion receives promotional pricing.\r\n",
    "\r\n",
    "- **Quantity** of products sold per transaction ranges from **1 to 14**, with a median of **3 units**. Most purchases involve small quantities, reflecting individual or household-level buying behavior.\r\n",
    "\r\n",
    "- **Postal Code**, while numeric in format, represents geographical location and is more appropriately treated as a categorical or identifier column rather than a variable for numerical analysis.\r\n",
    "\r\n",
    "- **Row ID** is a simple index from **1 to 9994**, primarily used for tracking rows and not relevant for analysis.\r\n",
    "\r\n",
    "### Descriptive Statistics Table (for key numerical variables)\r\n",
    "\r\n",
    "| Variable      | Min     | 25%     | Median  | Mean     | 75%     | Max       |\r\n",
    "|---------------|---------|---------|---------|----------|---------|-----------|\r\n",
    "| Sales         | 0.44    | 17.28   | 54.49   | 229.86   | 209.94  | 22,638.48 |\r\n",
    "| Quantity      | 1       | 2       | 3       | 3.79     | 5       | 14        |\r\n",
    "| Discount      | 0.0     | 0.0     | 0.2     | 0.16     | 0.2     | 0.8       |\r\n",
    "| Profit        | -6,599.98 | 1.73  | 8.67    | 28.66    | 29.36   | 8,399.98  |\r\n",
    "\r\n",
    "Understanding these patterns helps uncover outliers, pricing strategies, and customer purchasing behavior — providing a data-driven foundation for improving performance, managing profit margins, and identifying risk areas in sales.\r\n",
    "strategies.\r\n"
   ]
  },
  {
   "cell_type": "code",
   "execution_count": 6,
   "id": "6ff54b13-e046-48f5-a919-600c5cf491a3",
   "metadata": {},
   "outputs": [
    {
     "data": {
      "text/html": [
       "<div>\n",
       "<style scoped>\n",
       "    .dataframe tbody tr th:only-of-type {\n",
       "        vertical-align: middle;\n",
       "    }\n",
       "\n",
       "    .dataframe tbody tr th {\n",
       "        vertical-align: top;\n",
       "    }\n",
       "\n",
       "    .dataframe thead th {\n",
       "        text-align: right;\n",
       "    }\n",
       "</style>\n",
       "<table border=\"1\" class=\"dataframe\">\n",
       "  <thead>\n",
       "    <tr style=\"text-align: right;\">\n",
       "      <th></th>\n",
       "      <th>Row ID</th>\n",
       "      <th>Postal Code</th>\n",
       "      <th>Sales</th>\n",
       "      <th>Quantity</th>\n",
       "      <th>Discount</th>\n",
       "      <th>Profit</th>\n",
       "    </tr>\n",
       "  </thead>\n",
       "  <tbody>\n",
       "    <tr>\n",
       "      <th>count</th>\n",
       "      <td>9994.000000</td>\n",
       "      <td>9994.000000</td>\n",
       "      <td>9994.000000</td>\n",
       "      <td>9994.000000</td>\n",
       "      <td>9994.000000</td>\n",
       "      <td>9994.000000</td>\n",
       "    </tr>\n",
       "    <tr>\n",
       "      <th>mean</th>\n",
       "      <td>4997.500000</td>\n",
       "      <td>55190.379428</td>\n",
       "      <td>229.858001</td>\n",
       "      <td>3.789574</td>\n",
       "      <td>0.156203</td>\n",
       "      <td>28.656896</td>\n",
       "    </tr>\n",
       "    <tr>\n",
       "      <th>std</th>\n",
       "      <td>2885.163629</td>\n",
       "      <td>32063.693350</td>\n",
       "      <td>623.245101</td>\n",
       "      <td>2.225110</td>\n",
       "      <td>0.206452</td>\n",
       "      <td>234.260108</td>\n",
       "    </tr>\n",
       "    <tr>\n",
       "      <th>min</th>\n",
       "      <td>1.000000</td>\n",
       "      <td>1040.000000</td>\n",
       "      <td>0.444000</td>\n",
       "      <td>1.000000</td>\n",
       "      <td>0.000000</td>\n",
       "      <td>-6599.978000</td>\n",
       "    </tr>\n",
       "    <tr>\n",
       "      <th>25%</th>\n",
       "      <td>2499.250000</td>\n",
       "      <td>23223.000000</td>\n",
       "      <td>17.280000</td>\n",
       "      <td>2.000000</td>\n",
       "      <td>0.000000</td>\n",
       "      <td>1.728750</td>\n",
       "    </tr>\n",
       "    <tr>\n",
       "      <th>50%</th>\n",
       "      <td>4997.500000</td>\n",
       "      <td>56430.500000</td>\n",
       "      <td>54.490000</td>\n",
       "      <td>3.000000</td>\n",
       "      <td>0.200000</td>\n",
       "      <td>8.666500</td>\n",
       "    </tr>\n",
       "    <tr>\n",
       "      <th>75%</th>\n",
       "      <td>7495.750000</td>\n",
       "      <td>90008.000000</td>\n",
       "      <td>209.940000</td>\n",
       "      <td>5.000000</td>\n",
       "      <td>0.200000</td>\n",
       "      <td>29.364000</td>\n",
       "    </tr>\n",
       "    <tr>\n",
       "      <th>max</th>\n",
       "      <td>9994.000000</td>\n",
       "      <td>99301.000000</td>\n",
       "      <td>22638.480000</td>\n",
       "      <td>14.000000</td>\n",
       "      <td>0.800000</td>\n",
       "      <td>8399.976000</td>\n",
       "    </tr>\n",
       "  </tbody>\n",
       "</table>\n",
       "</div>"
      ],
      "text/plain": [
       "            Row ID   Postal Code         Sales     Quantity     Discount  \\\n",
       "count  9994.000000   9994.000000   9994.000000  9994.000000  9994.000000   \n",
       "mean   4997.500000  55190.379428    229.858001     3.789574     0.156203   \n",
       "std    2885.163629  32063.693350    623.245101     2.225110     0.206452   \n",
       "min       1.000000   1040.000000      0.444000     1.000000     0.000000   \n",
       "25%    2499.250000  23223.000000     17.280000     2.000000     0.000000   \n",
       "50%    4997.500000  56430.500000     54.490000     3.000000     0.200000   \n",
       "75%    7495.750000  90008.000000    209.940000     5.000000     0.200000   \n",
       "max    9994.000000  99301.000000  22638.480000    14.000000     0.800000   \n",
       "\n",
       "            Profit  \n",
       "count  9994.000000  \n",
       "mean     28.656896  \n",
       "std     234.260108  \n",
       "min   -6599.978000  \n",
       "25%       1.728750  \n",
       "50%       8.666500  \n",
       "75%      29.364000  \n",
       "max    8399.976000  "
      ]
     },
     "execution_count": 6,
     "metadata": {},
     "output_type": "execute_result"
    }
   ],
   "source": [
    "super_df.describe()"
   ]
  },
  {
   "cell_type": "markdown",
   "id": "b30d287f-c533-47d0-9c03-b4d7ccc5cced",
   "metadata": {},
   "source": [
    "## 5. Categorical Variables"
   ]
  },
  {
   "cell_type": "code",
   "execution_count": 7,
   "id": "0c0188d4-26e8-418e-aaf6-5501b9551bd2",
   "metadata": {},
   "outputs": [
    {
     "data": {
      "text/html": [
       "<div>\n",
       "<style scoped>\n",
       "    .dataframe tbody tr th:only-of-type {\n",
       "        vertical-align: middle;\n",
       "    }\n",
       "\n",
       "    .dataframe tbody tr th {\n",
       "        vertical-align: top;\n",
       "    }\n",
       "\n",
       "    .dataframe thead th {\n",
       "        text-align: right;\n",
       "    }\n",
       "</style>\n",
       "<table border=\"1\" class=\"dataframe\">\n",
       "  <thead>\n",
       "    <tr style=\"text-align: right;\">\n",
       "      <th></th>\n",
       "      <th>Order ID</th>\n",
       "      <th>Order Date</th>\n",
       "      <th>Ship Date</th>\n",
       "      <th>Ship Mode</th>\n",
       "      <th>Customer ID</th>\n",
       "      <th>Customer Name</th>\n",
       "      <th>Segment</th>\n",
       "      <th>Country</th>\n",
       "      <th>City</th>\n",
       "      <th>State</th>\n",
       "      <th>Region</th>\n",
       "      <th>Product ID</th>\n",
       "      <th>Category</th>\n",
       "      <th>Sub-Category</th>\n",
       "      <th>Product Name</th>\n",
       "      <th>Returned</th>\n",
       "      <th>Person</th>\n",
       "    </tr>\n",
       "  </thead>\n",
       "  <tbody>\n",
       "    <tr>\n",
       "      <th>count</th>\n",
       "      <td>9994</td>\n",
       "      <td>9994</td>\n",
       "      <td>9994</td>\n",
       "      <td>9994</td>\n",
       "      <td>9994</td>\n",
       "      <td>9994</td>\n",
       "      <td>9994</td>\n",
       "      <td>9994</td>\n",
       "      <td>9994</td>\n",
       "      <td>9994</td>\n",
       "      <td>9994</td>\n",
       "      <td>9994</td>\n",
       "      <td>9994</td>\n",
       "      <td>9994</td>\n",
       "      <td>9994</td>\n",
       "      <td>9994</td>\n",
       "      <td>9994</td>\n",
       "    </tr>\n",
       "    <tr>\n",
       "      <th>unique</th>\n",
       "      <td>5009</td>\n",
       "      <td>1237</td>\n",
       "      <td>1334</td>\n",
       "      <td>4</td>\n",
       "      <td>793</td>\n",
       "      <td>793</td>\n",
       "      <td>3</td>\n",
       "      <td>1</td>\n",
       "      <td>531</td>\n",
       "      <td>49</td>\n",
       "      <td>4</td>\n",
       "      <td>1862</td>\n",
       "      <td>3</td>\n",
       "      <td>17</td>\n",
       "      <td>1850</td>\n",
       "      <td>2</td>\n",
       "      <td>4</td>\n",
       "    </tr>\n",
       "    <tr>\n",
       "      <th>top</th>\n",
       "      <td>CA-2017-100111</td>\n",
       "      <td>2016-09-05</td>\n",
       "      <td>2015-12-16</td>\n",
       "      <td>Standard Class</td>\n",
       "      <td>WB-21850</td>\n",
       "      <td>William Brown</td>\n",
       "      <td>Consumer</td>\n",
       "      <td>United States</td>\n",
       "      <td>New York City</td>\n",
       "      <td>California</td>\n",
       "      <td>West</td>\n",
       "      <td>OFF-PA-10001970</td>\n",
       "      <td>Office Supplies</td>\n",
       "      <td>Binders</td>\n",
       "      <td>Staple envelope</td>\n",
       "      <td>NO</td>\n",
       "      <td>Anna Andreadi</td>\n",
       "    </tr>\n",
       "    <tr>\n",
       "      <th>freq</th>\n",
       "      <td>14</td>\n",
       "      <td>38</td>\n",
       "      <td>35</td>\n",
       "      <td>5968</td>\n",
       "      <td>37</td>\n",
       "      <td>37</td>\n",
       "      <td>5191</td>\n",
       "      <td>9994</td>\n",
       "      <td>915</td>\n",
       "      <td>2001</td>\n",
       "      <td>3203</td>\n",
       "      <td>19</td>\n",
       "      <td>6026</td>\n",
       "      <td>1523</td>\n",
       "      <td>48</td>\n",
       "      <td>9194</td>\n",
       "      <td>3203</td>\n",
       "    </tr>\n",
       "  </tbody>\n",
       "</table>\n",
       "</div>"
      ],
      "text/plain": [
       "              Order ID  Order Date   Ship Date       Ship Mode Customer ID  \\\n",
       "count             9994        9994        9994            9994        9994   \n",
       "unique            5009        1237        1334               4         793   \n",
       "top     CA-2017-100111  2016-09-05  2015-12-16  Standard Class    WB-21850   \n",
       "freq                14          38          35            5968          37   \n",
       "\n",
       "        Customer Name   Segment        Country           City       State  \\\n",
       "count            9994      9994           9994           9994        9994   \n",
       "unique            793         3              1            531          49   \n",
       "top     William Brown  Consumer  United States  New York City  California   \n",
       "freq               37      5191           9994            915        2001   \n",
       "\n",
       "       Region       Product ID         Category Sub-Category     Product Name  \\\n",
       "count    9994             9994             9994         9994             9994   \n",
       "unique      4             1862                3           17             1850   \n",
       "top      West  OFF-PA-10001970  Office Supplies      Binders  Staple envelope   \n",
       "freq     3203               19             6026         1523               48   \n",
       "\n",
       "       Returned         Person  \n",
       "count      9994           9994  \n",
       "unique        2              4  \n",
       "top          NO  Anna Andreadi  \n",
       "freq       9194           3203  "
      ]
     },
     "execution_count": 7,
     "metadata": {},
     "output_type": "execute_result"
    }
   ],
   "source": [
    "super_df.describe(include='object')"
   ]
  },
  {
   "cell_type": "code",
   "execution_count": 8,
   "id": "0fef47f6-1197-4ae6-8d37-7bd37974ad68",
   "metadata": {},
   "outputs": [
    {
     "data": {
      "text/plain": [
       "Ship Mode\n",
       "Standard Class    0.597158\n",
       "Second Class      0.194617\n",
       "First Class       0.153892\n",
       "Same Day          0.054333\n",
       "Name: proportion, dtype: float64"
      ]
     },
     "execution_count": 8,
     "metadata": {},
     "output_type": "execute_result"
    }
   ],
   "source": [
    "super_df['Ship Mode'].value_counts(normalize=True)"
   ]
  },
  {
   "cell_type": "code",
   "execution_count": 9,
   "id": "d4355b36-fb11-4b52-bef7-cfbd392e87f5",
   "metadata": {},
   "outputs": [
    {
     "data": {
      "text/plain": [
       "Segment\n",
       "Consumer       0.519412\n",
       "Corporate      0.302181\n",
       "Home Office    0.178407\n",
       "Name: proportion, dtype: float64"
      ]
     },
     "execution_count": 9,
     "metadata": {},
     "output_type": "execute_result"
    }
   ],
   "source": [
    "super_df['Segment'].value_counts(normalize=True)"
   ]
  },
  {
   "cell_type": "code",
   "execution_count": 10,
   "id": "7e9c94f6-3c07-4ffd-a4ca-d40d3c21db08",
   "metadata": {},
   "outputs": [
    {
     "data": {
      "text/plain": [
       "City\n",
       "New York City      0.091555\n",
       "Los Angeles        0.074745\n",
       "Philadelphia       0.053732\n",
       "San Francisco      0.051031\n",
       "Seattle            0.042826\n",
       "                     ...   \n",
       "Glenview           0.000100\n",
       "Missouri City      0.000100\n",
       "Rochester Hills    0.000100\n",
       "Palatine           0.000100\n",
       "Manhattan          0.000100\n",
       "Name: proportion, Length: 531, dtype: float64"
      ]
     },
     "execution_count": 10,
     "metadata": {},
     "output_type": "execute_result"
    }
   ],
   "source": [
    "super_df['City'].value_counts(normalize=True)"
   ]
  },
  {
   "cell_type": "code",
   "execution_count": 11,
   "id": "d052ed16-4e60-45cc-9aa3-e4e1877af571",
   "metadata": {},
   "outputs": [
    {
     "data": {
      "text/plain": [
       "Region\n",
       "West       0.320492\n",
       "East       0.284971\n",
       "Central    0.232439\n",
       "South      0.162097\n",
       "Name: proportion, dtype: float64"
      ]
     },
     "execution_count": 11,
     "metadata": {},
     "output_type": "execute_result"
    }
   ],
   "source": [
    "super_df['Region'].value_counts(normalize=True)"
   ]
  },
  {
   "cell_type": "code",
   "execution_count": 12,
   "id": "8b9b5f28-abd8-47ed-8b79-7c378e632fab",
   "metadata": {},
   "outputs": [
    {
     "data": {
      "text/plain": [
       "Sub-Category\n",
       "Binders        0.152391\n",
       "Paper          0.137082\n",
       "Furnishings    0.095757\n",
       "Phones         0.088953\n",
       "Storage        0.084651\n",
       "Art            0.079648\n",
       "Accessories    0.077547\n",
       "Chairs         0.061737\n",
       "Appliances     0.046628\n",
       "Labels         0.036422\n",
       "Tables         0.031919\n",
       "Envelopes      0.025415\n",
       "Bookcases      0.022814\n",
       "Fasteners      0.021713\n",
       "Supplies       0.019011\n",
       "Machines       0.011507\n",
       "Copiers        0.006804\n",
       "Name: proportion, dtype: float64"
      ]
     },
     "execution_count": 12,
     "metadata": {},
     "output_type": "execute_result"
    }
   ],
   "source": [
    "super_df['Sub-Category'].value_counts(normalize=True)"
   ]
  },
  {
   "cell_type": "markdown",
   "id": "70de2d21-75aa-4dcc-bf27-9eb6b7373fad",
   "metadata": {},
   "source": [
    "## 6. Categorical Variables Summary\n",
    "\n",
    "### Ship Mode\n",
    "The **Standard Class** is the most commonly used shipping method, representing approximately **59.7%** of all orders. This reflects customer preference or company policy favoring cost-effective delivery. **Second Class** (19.5%) and **First Class** (15.4%) follow, while **Same Day** shipping is the least common at **5.4%**, likely due to its higher cost or limited availability.\n",
    "\n",
    "### Segment\n",
    "The **Consumer** segment dominates the customer base, accounting for around **52%** of orders. **Corporate** customers represent about **30%**, while the **Home Office** segment makes up the remaining **18%**. This distribution suggests that the business primarily serves individual consumers, but corporate and home office clients still form significant portions of the market.\n",
    "\n",
    "### Region\n",
    "The dataset is fairly balanced across regions, with the **West** holding the largest share at **32%**, followed by the **East** at **28%**, **Central** at **23%**, and **South** at **16%**. This regional distribution reflects the geographical spread of the business’s customer base.\n",
    "\n",
    "### City\n",
    "The dataset includes orders from **531 unique cities**. The top contributors are **New York City (9.2%)**, **Los Angeles (7.5%)**, **Philadelphia (5.4%)**, **San Francisco (5.1%)**, and **Seattle (4.3%)**. The remaining cities each contribute a small fraction of the total orders, indicating a broad but uneven geographical coverage.\n",
    "\n",
    "### Sub-Category\n",
    "Among product sub-categories:\n",
    "- **Binders (15.2%)** and **Paper (13.7%)** are the most frequently sold items, reflecting strong demand for basic office supplies.\n",
    "- **Furnishings (9.6%)**, **Phones (8.9%)**, and **Storage (8.5%)** also have notable shares.\n",
    "- Lower-volume categories include **Machines (1.2%)** and **Copiers (0.7%)**, which may represent high-value but low-frequency purchases.\n"
   ]
  },
  {
   "cell_type": "markdown",
   "id": "5601e81e-4292-4e02-a697-62796b39c40b",
   "metadata": {},
   "source": [
    "# 7. Category Distribution "
   ]
  },
  {
   "cell_type": "code",
   "execution_count": 13,
   "id": "01764bef-532b-479a-bbe2-cf1e90a942e7",
   "metadata": {},
   "outputs": [
    {
     "data": {
      "text/html": [
       "<div>\n",
       "<style scoped>\n",
       "    .dataframe tbody tr th:only-of-type {\n",
       "        vertical-align: middle;\n",
       "    }\n",
       "\n",
       "    .dataframe tbody tr th {\n",
       "        vertical-align: top;\n",
       "    }\n",
       "\n",
       "    .dataframe thead th {\n",
       "        text-align: right;\n",
       "    }\n",
       "</style>\n",
       "<table border=\"1\" class=\"dataframe\">\n",
       "  <thead>\n",
       "    <tr style=\"text-align: right;\">\n",
       "      <th></th>\n",
       "      <th>Category</th>\n",
       "      <th>total</th>\n",
       "    </tr>\n",
       "  </thead>\n",
       "  <tbody>\n",
       "    <tr>\n",
       "      <th>0</th>\n",
       "      <td>Furniture</td>\n",
       "      <td>2121</td>\n",
       "    </tr>\n",
       "    <tr>\n",
       "      <th>1</th>\n",
       "      <td>Office Supplies</td>\n",
       "      <td>6026</td>\n",
       "    </tr>\n",
       "    <tr>\n",
       "      <th>2</th>\n",
       "      <td>Technology</td>\n",
       "      <td>1847</td>\n",
       "    </tr>\n",
       "  </tbody>\n",
       "</table>\n",
       "</div>"
      ],
      "text/plain": [
       "          Category  total\n",
       "0        Furniture   2121\n",
       "1  Office Supplies   6026\n",
       "2       Technology   1847"
      ]
     },
     "execution_count": 13,
     "metadata": {},
     "output_type": "execute_result"
    }
   ],
   "source": [
    "super_df_category = super_df.groupby('Category').size().reset_index(name = 'total')\n",
    "super_df_category"
   ]
  },
  {
   "cell_type": "code",
   "execution_count": 14,
   "id": "83bdc6a1-ecc6-4e89-9eb5-df7f8ea705e6",
   "metadata": {},
   "outputs": [
    {
     "data": {
      "application/vnd.plotly.v1+json": {
       "config": {
        "plotlyServerURL": "https://plot.ly"
       },
       "data": [
        {
         "domain": {
          "x": [
           0,
           1
          ],
          "y": [
           0,
           1
          ]
         },
         "hovertemplate": "Category=%{label}<br>total=%{value}<extra></extra>",
         "labels": [
          "Furniture",
          "Office Supplies",
          "Technology"
         ],
         "legendgroup": "",
         "name": "",
         "showlegend": true,
         "type": "pie",
         "values": {
          "_inputArray": {
           "0": 2121,
           "1": 6026,
           "2": 1847,
           "bdata": "SQiKFzcH",
           "dtype": "i2",
           "shape": "3"
          },
          "bdata": "SQiKFzcH",
          "dtype": "i2"
         }
        }
       ],
       "layout": {
        "autosize": true,
        "legend": {
         "tracegroupgap": 0
        },
        "paper_bgcolor": "rgba(0, 0, 0, 0)",
        "piecolorway": [
         "darkcyan",
         "skyblue",
         "#82EEFD"
        ],
        "plot_bgcolor": "rgba(0, 0, 0, 0)",
        "template": {
         "data": {
          "pie": [
           {
            "automargin": true,
            "type": "pie"
           }
          ],
          "scatter": [
           {
            "line": {
             "width": 3
            },
            "marker": {
             "size": 9
            },
            "type": "scatter"
           }
          ],
          "scatter3d": [
           {
            "line": {
             "width": 3
            },
            "marker": {
             "size": 9
            },
            "type": "scatter3d"
           }
          ],
          "scattergeo": [
           {
            "line": {
             "width": 3
            },
            "marker": {
             "size": 9
            },
            "type": "scattergeo"
           }
          ],
          "scattergl": [
           {
            "line": {
             "width": 3
            },
            "marker": {
             "size": 9
            },
            "type": "scattergl"
           }
          ],
          "scatterpolar": [
           {
            "line": {
             "width": 3
            },
            "marker": {
             "size": 9
            },
            "type": "scatterpolar"
           }
          ],
          "scatterpolargl": [
           {
            "line": {
             "width": 3
            },
            "marker": {
             "size": 9
            },
            "type": "scatterpolargl"
           }
          ],
          "scatterternary": [
           {
            "line": {
             "width": 3
            },
            "marker": {
             "size": 9
            },
            "type": "scatterternary"
           }
          ],
          "table": [
           {
            "cells": {
             "height": 30
            },
            "header": {
             "height": 36
            },
            "type": "table"
           }
          ]
         },
         "layout": {
          "font": {
           "size": 18
          },
          "xaxis": {
           "title": {
            "standoff": 15
           }
          },
          "yaxis": {
           "title": {
            "standoff": 15
           }
          }
         }
        },
        "title": {
         "text": "Overall Category Distribution"
        }
       }
      },
      "image/png": "[encoded data removed]"
     },
     "metadata": {},
     "output_type": "display_data"
    }
   ],
   "source": [
    "fig = px.pie(super_df_category, names='Category', values='total', title='Overall Category Distribution', \n",
    "             color_discrete_sequence=['darkcyan','skyblue','#82EEFD'])\n",
    "fig.update_layout(template=\"presentation\", paper_bgcolor=\"rgba(0, 0, 0, 0)\", plot_bgcolor =\"rgba(0, 0, 0, 0)\")\n",
    "fig.show()\n",
    "fig.write_image(os.path.join(results_dir,'distribution_category_pie_chart.jpg'))\n",
    "fig.write_image(os.path.join(results_dir,'distribution_category_pie_chart.png'))\n",
    "fig.write_html(os.path.join(results_dir,'distribution_category_pie_chart.html'))"
   ]
  },
  {
   "cell_type": "markdown",
   "id": "ab1474bd-c23b-4507-a1c8-7b59053312e5",
   "metadata": {},
   "source": [
    "This pie chart shows the overall category distribution:\r\n",
    "\r\n",
    "- **Furniture:** 2,121 transactions  \r\n",
    "- **Office Supplies:** 6,026 transactions  \r\n",
    "- **Technology:** 1,847 transactions  \r\n",
    "\r\n",
    "Office Supplies dominate the sales volume, accounting for the majority of transactions. Furniture and Technology make up smaller but significant portions of the total sales. This distribution highlights where customer demand is concentrated across product categories.\r\n"
   ]
  },
  {
   "cell_type": "markdown",
   "id": "ea6023b2-0eac-4eb3-94b8-4e58261e012c",
   "metadata": {},
   "source": [
    "## 8. Sales Distribution by Category"
   ]
  },
  {
   "cell_type": "code",
   "execution_count": 15,
   "id": "e4ba6eb2-ae4c-415b-881d-e7c09bcf1afb",
   "metadata": {},
   "outputs": [
    {
     "data": {
      "text/html": [
       "<div>\n",
       "<style scoped>\n",
       "    .dataframe tbody tr th:only-of-type {\n",
       "        vertical-align: middle;\n",
       "    }\n",
       "\n",
       "    .dataframe tbody tr th {\n",
       "        vertical-align: top;\n",
       "    }\n",
       "\n",
       "    .dataframe thead th {\n",
       "        text-align: right;\n",
       "    }\n",
       "</style>\n",
       "<table border=\"1\" class=\"dataframe\">\n",
       "  <thead>\n",
       "    <tr style=\"text-align: right;\">\n",
       "      <th></th>\n",
       "      <th>Category</th>\n",
       "      <th>Sales</th>\n",
       "    </tr>\n",
       "  </thead>\n",
       "  <tbody>\n",
       "    <tr>\n",
       "      <th>0</th>\n",
       "      <td>Furniture</td>\n",
       "      <td>741999.7953</td>\n",
       "    </tr>\n",
       "    <tr>\n",
       "      <th>1</th>\n",
       "      <td>Office Supplies</td>\n",
       "      <td>719047.0320</td>\n",
       "    </tr>\n",
       "    <tr>\n",
       "      <th>2</th>\n",
       "      <td>Technology</td>\n",
       "      <td>836154.0330</td>\n",
       "    </tr>\n",
       "  </tbody>\n",
       "</table>\n",
       "</div>"
      ],
      "text/plain": [
       "          Category        Sales\n",
       "0        Furniture  741999.7953\n",
       "1  Office Supplies  719047.0320\n",
       "2       Technology  836154.0330"
      ]
     },
     "execution_count": 15,
     "metadata": {},
     "output_type": "execute_result"
    }
   ],
   "source": [
    "sales_by_category = super_df.groupby('Category')['Sales'].sum().reset_index()\n",
    "sales_by_category "
   ]
  },
  {
   "cell_type": "code",
   "execution_count": 16,
   "id": "07fc6103-d226-417e-89cf-0e1e9329a060",
   "metadata": {},
   "outputs": [
    {
     "data": {
      "application/vnd.plotly.v1+json": {
       "config": {
        "plotlyServerURL": "https://plot.ly"
       },
       "data": [
        {
         "domain": {
          "x": [
           0,
           1
          ],
          "y": [
           0,
           1
          ]
         },
         "hovertemplate": "Category=%{label}<br>Sales=%{value}<extra></extra>",
         "labels": [
          "Furniture",
          "Office Supplies",
          "Technology"
         ],
         "legendgroup": "",
         "name": "",
         "showlegend": true,
         "type": "pie",
         "values": {
          "_inputArray": {
           "0": 741999.7953,
           "1": 719047.032,
           "2": 836154.033,
           "bdata": "xY8xl9+kJkHTTWIQjvElQUJg5RB0hClB",
           "dtype": "f8",
           "shape": "3"
          },
          "bdata": "xY8xl9+kJkHTTWIQjvElQUJg5RB0hClB",
          "dtype": "f8"
         }
        }
       ],
       "layout": {
        "autosize": true,
        "legend": {
         "tracegroupgap": 0
        },
        "paper_bgcolor": "rgba(0, 0, 0, 0)",
        "piecolorway": [
         "darkcyan",
         "skyblue",
         "#82EEFD"
        ],
        "plot_bgcolor": "rgba(0, 0, 0, 0)",
        "template": {
         "data": {
          "pie": [
           {
            "automargin": true,
            "type": "pie"
           }
          ],
          "scatter": [
           {
            "line": {
             "width": 3
            },
            "marker": {
             "size": 9
            },
            "type": "scatter"
           }
          ],
          "scatter3d": [
           {
            "line": {
             "width": 3
            },
            "marker": {
             "size": 9
            },
            "type": "scatter3d"
           }
          ],
          "scattergeo": [
           {
            "line": {
             "width": 3
            },
            "marker": {
             "size": 9
            },
            "type": "scattergeo"
           }
          ],
          "scattergl": [
           {
            "line": {
             "width": 3
            },
            "marker": {
             "size": 9
            },
            "type": "scattergl"
           }
          ],
          "scatterpolar": [
           {
            "line": {
             "width": 3
            },
            "marker": {
             "size": 9
            },
            "type": "scatterpolar"
           }
          ],
          "scatterpolargl": [
           {
            "line": {
             "width": 3
            },
            "marker": {
             "size": 9
            },
            "type": "scatterpolargl"
           }
          ],
          "scatterternary": [
           {
            "line": {
             "width": 3
            },
            "marker": {
             "size": 9
            },
            "type": "scatterternary"
           }
          ],
          "table": [
           {
            "cells": {
             "height": 30
            },
            "header": {
             "height": 36
            },
            "type": "table"
           }
          ]
         },
         "layout": {
          "font": {
           "size": 18
          },
          "xaxis": {
           "title": {
            "standoff": 15
           }
          },
          "yaxis": {
           "title": {
            "standoff": 15
           }
          }
         }
        },
        "title": {
         "text": "Sales Distribution by Category"
        }
       }
      },
      "image/png": "[encoded data removed]"
     },
     "metadata": {},
     "output_type": "display_data"
    }
   ],
   "source": [
    "fig = px.pie(sales_by_category, names='Category', values='Sales', title='Sales Distribution by Category', \n",
    "             color_discrete_sequence=['darkcyan','skyblue','#82EEFD'])\n",
    "fig.update_layout(template=\"presentation\", paper_bgcolor=\"rgba(0, 0, 0, 0)\", plot_bgcolor =\"rgba(0, 0, 0, 0)\")\n",
    "fig.show()\n",
    "fig.write_image(os.path.join(results_dir,'sales_distribution_category_pie_chart.jpg'))\n",
    "fig.write_image(os.path.join(results_dir,'sales_distribution_category_pie_chart.png'))\n",
    "fig.write_html(os.path.join(results_dir,'sales_distribution_category_pie_chart.html'))"
   ]
  },
  {
   "cell_type": "markdown",
   "id": "f0cff78e-c327-4848-b851-5a3ba39e34ff",
   "metadata": {},
   "source": [
    "This pie chart shows the sales distribution by category:\n",
    "\n",
    "- **Furniture:** $741,999.80\n",
    "\n",
    "- **Office Supplies:**  $719,047.03\n",
    "  \n",
    "- **Technology:** $836,154.03  \n",
    "\n",
    "Technology leads in total sales value, followed closely by Furniture and Office Supplies. This distribution highlights the revenue contributions of each category and helps identify key drivers of overall sales performance.\n"
   ]
  },
  {
   "cell_type": "markdown",
   "id": "10a144d7-21bd-4a46-8537-cf827adfd584",
   "metadata": {},
   "source": [
    "## 9. Sales Distribution by Sub-Category"
   ]
  },
  {
   "cell_type": "code",
   "execution_count": 17,
   "id": "a9a18a88-de33-41dd-a25f-9fb709bfff51",
   "metadata": {},
   "outputs": [
    {
     "data": {
      "text/html": [
       "<div>\n",
       "<style scoped>\n",
       "    .dataframe tbody tr th:only-of-type {\n",
       "        vertical-align: middle;\n",
       "    }\n",
       "\n",
       "    .dataframe tbody tr th {\n",
       "        vertical-align: top;\n",
       "    }\n",
       "\n",
       "    .dataframe thead th {\n",
       "        text-align: right;\n",
       "    }\n",
       "</style>\n",
       "<table border=\"1\" class=\"dataframe\">\n",
       "  <thead>\n",
       "    <tr style=\"text-align: right;\">\n",
       "      <th></th>\n",
       "      <th>Sub-Category</th>\n",
       "      <th>Sales</th>\n",
       "    </tr>\n",
       "  </thead>\n",
       "  <tbody>\n",
       "    <tr>\n",
       "      <th>8</th>\n",
       "      <td>Fasteners</td>\n",
       "      <td>3024.2800</td>\n",
       "    </tr>\n",
       "    <tr>\n",
       "      <th>10</th>\n",
       "      <td>Labels</td>\n",
       "      <td>12486.3120</td>\n",
       "    </tr>\n",
       "    <tr>\n",
       "      <th>7</th>\n",
       "      <td>Envelopes</td>\n",
       "      <td>16476.4020</td>\n",
       "    </tr>\n",
       "    <tr>\n",
       "      <th>2</th>\n",
       "      <td>Art</td>\n",
       "      <td>27118.7920</td>\n",
       "    </tr>\n",
       "    <tr>\n",
       "      <th>15</th>\n",
       "      <td>Supplies</td>\n",
       "      <td>46673.5380</td>\n",
       "    </tr>\n",
       "    <tr>\n",
       "      <th>12</th>\n",
       "      <td>Paper</td>\n",
       "      <td>78479.2060</td>\n",
       "    </tr>\n",
       "    <tr>\n",
       "      <th>9</th>\n",
       "      <td>Furnishings</td>\n",
       "      <td>91705.1640</td>\n",
       "    </tr>\n",
       "    <tr>\n",
       "      <th>1</th>\n",
       "      <td>Appliances</td>\n",
       "      <td>107532.1610</td>\n",
       "    </tr>\n",
       "    <tr>\n",
       "      <th>4</th>\n",
       "      <td>Bookcases</td>\n",
       "      <td>114879.9963</td>\n",
       "    </tr>\n",
       "    <tr>\n",
       "      <th>6</th>\n",
       "      <td>Copiers</td>\n",
       "      <td>149528.0300</td>\n",
       "    </tr>\n",
       "    <tr>\n",
       "      <th>0</th>\n",
       "      <td>Accessories</td>\n",
       "      <td>167380.3180</td>\n",
       "    </tr>\n",
       "    <tr>\n",
       "      <th>11</th>\n",
       "      <td>Machines</td>\n",
       "      <td>189238.6310</td>\n",
       "    </tr>\n",
       "    <tr>\n",
       "      <th>3</th>\n",
       "      <td>Binders</td>\n",
       "      <td>203412.7330</td>\n",
       "    </tr>\n",
       "    <tr>\n",
       "      <th>16</th>\n",
       "      <td>Tables</td>\n",
       "      <td>206965.5320</td>\n",
       "    </tr>\n",
       "    <tr>\n",
       "      <th>14</th>\n",
       "      <td>Storage</td>\n",
       "      <td>223843.6080</td>\n",
       "    </tr>\n",
       "    <tr>\n",
       "      <th>5</th>\n",
       "      <td>Chairs</td>\n",
       "      <td>328449.1030</td>\n",
       "    </tr>\n",
       "    <tr>\n",
       "      <th>13</th>\n",
       "      <td>Phones</td>\n",
       "      <td>330007.0540</td>\n",
       "    </tr>\n",
       "  </tbody>\n",
       "</table>\n",
       "</div>"
      ],
      "text/plain": [
       "   Sub-Category        Sales\n",
       "8     Fasteners    3024.2800\n",
       "10       Labels   12486.3120\n",
       "7     Envelopes   16476.4020\n",
       "2           Art   27118.7920\n",
       "15     Supplies   46673.5380\n",
       "12        Paper   78479.2060\n",
       "9   Furnishings   91705.1640\n",
       "1    Appliances  107532.1610\n",
       "4     Bookcases  114879.9963\n",
       "6       Copiers  149528.0300\n",
       "0   Accessories  167380.3180\n",
       "11     Machines  189238.6310\n",
       "3       Binders  203412.7330\n",
       "16       Tables  206965.5320\n",
       "14      Storage  223843.6080\n",
       "5        Chairs  328449.1030\n",
       "13       Phones  330007.0540"
      ]
     },
     "execution_count": 17,
     "metadata": {},
     "output_type": "execute_result"
    }
   ],
   "source": [
    "sales_by_sub_category = super_df.groupby('Sub-Category')['Sales'].sum().reset_index().sort_values(by='Sales', ascending=True)\n",
    "sales_by_sub_category "
   ]
  },
  {
   "cell_type": "code",
   "execution_count": 18,
   "id": "250b0ff0-16b7-4b15-a700-0ffd378f28e2",
   "metadata": {},
   "outputs": [
    {
     "data": {
      "application/vnd.plotly.v1+json": {
       "config": {
        "plotlyServerURL": "https://plot.ly"
       },
       "data": [
        {
         "hovertemplate": "Sales=%{text}<br>Sub-Category=%{y}<extra></extra>",
         "legendgroup": "",
         "marker": {
          "color": "darkcyan",
          "pattern": {
           "shape": ""
          }
         },
         "name": "",
         "orientation": "h",
         "showlegend": false,
         "text": {
          "_inputArray": {
           "0": 3024.28,
           "1": 12486.312,
           "10": 167380.318,
           "11": 189238.631,
           "12": 203412.733,
           "13": 206965.532,
           "14": 223843.608,
           "15": 328449.103,
           "16": 330007.054,
           "2": 16476.402000000002,
           "3": 27118.792,
           "4": 46673.538,
           "5": 78479.206,
           "6": 91705.164,
           "7": 107532.161,
           "8": 114879.9963,
           "9": 149528.03,
           "bdata": "w/UoXI+gp0Atsp3vJ2PIQEA1XroZF9BAnMQgsLJ72kCoxks3McrmQPCnxkvzKPNAyXa+n5Jj9kBqvHSTwkD6QNBE2PD/C/xA16NwPcBAAkGBlUOLom4EQV66SQy1GQdBoBov3aXUCEFMN4lBrEMJQaAaL90cUwtB/tR4aQQMFEGoxks3XCQUQQ==",
           "dtype": "f8",
           "shape": "17"
          },
          "bdata": "w/UoXI+gp0Atsp3vJ2PIQEA1XroZF9BAnMQgsLJ72kCoxks3McrmQPCnxkvzKPNAyXa+n5Jj9kBqvHSTwkD6QNBE2PD/C/xA16NwPcBAAkGBlUOLom4EQV66SQy1GQdBoBov3aXUCEFMN4lBrEMJQaAaL90cUwtB/tR4aQQMFEGoxks3XCQUQQ==",
          "dtype": "f8"
         },
         "textposition": "inside",
         "texttemplate": "%{x:.0f}",
         "type": "bar",
         "x": {
          "_inputArray": {
           "0": 3024.28,
           "1": 12486.312,
           "10": 167380.318,
           "11": 189238.631,
           "12": 203412.733,
           "13": 206965.532,
           "14": 223843.608,
           "15": 328449.103,
           "16": 330007.054,
           "2": 16476.402000000002,
           "3": 27118.792,
           "4": 46673.538,
           "5": 78479.206,
           "6": 91705.164,
           "7": 107532.161,
           "8": 114879.9963,
           "9": 149528.03,
           "bdata": "w/UoXI+gp0Atsp3vJ2PIQEA1XroZF9BAnMQgsLJ72kCoxks3McrmQPCnxkvzKPNAyXa+n5Jj9kBqvHSTwkD6QNBE2PD/C/xA16NwPcBAAkGBlUOLom4EQV66SQy1GQdBoBov3aXUCEFMN4lBrEMJQaAaL90cUwtB/tR4aQQMFEGoxks3XCQUQQ==",
           "dtype": "f8",
           "shape": "17"
          },
          "bdata": "w/UoXI+gp0Atsp3vJ2PIQEA1XroZF9BAnMQgsLJ72kCoxks3McrmQPCnxkvzKPNAyXa+n5Jj9kBqvHSTwkD6QNBE2PD/C/xA16NwPcBAAkGBlUOLom4EQV66SQy1GQdBoBov3aXUCEFMN4lBrEMJQaAaL90cUwtB/tR4aQQMFEGoxks3XCQUQQ==",
          "dtype": "f8"
         },
         "xaxis": "x",
         "y": [
          "Fasteners",
          "Labels",
          "Envelopes",
          "Art",
          "Supplies",
          "Paper",
          "Furnishings",
          "Appliances",
          "Bookcases",
          "Copiers",
          "Accessories",
          "Machines",
          "Binders",
          "Tables",
          "Storage",
          "Chairs",
          "Phones"
         ],
         "yaxis": "y"
        }
       ],
       "layout": {
        "barmode": "relative",
        "height": 550,
        "legend": {
         "tracegroupgap": 0
        },
        "margin": {
         "b": 50,
         "l": 150,
         "r": 10,
         "t": 50
        },
        "paper_bgcolor": "rgba(0, 0, 0, 0)",
        "plot_bgcolor": "rgba(0, 0, 0, 0)",
        "template": {
         "data": {
          "pie": [
           {
            "automargin": true,
            "type": "pie"
           }
          ],
          "scatter": [
           {
            "line": {
             "width": 3
            },
            "marker": {
             "size": 9
            },
            "type": "scatter"
           }
          ],
          "scatter3d": [
           {
            "line": {
             "width": 3
            },
            "marker": {
             "size": 9
            },
            "type": "scatter3d"
           }
          ],
          "scattergeo": [
           {
            "line": {
             "width": 3
            },
            "marker": {
             "size": 9
            },
            "type": "scattergeo"
           }
          ],
          "scattergl": [
           {
            "line": {
             "width": 3
            },
            "marker": {
             "size": 9
            },
            "type": "scattergl"
           }
          ],
          "scatterpolar": [
           {
            "line": {
             "width": 3
            },
            "marker": {
             "size": 9
            },
            "type": "scatterpolar"
           }
          ],
          "scatterpolargl": [
           {
            "line": {
             "width": 3
            },
            "marker": {
             "size": 9
            },
            "type": "scatterpolargl"
           }
          ],
          "scatterternary": [
           {
            "line": {
             "width": 3
            },
            "marker": {
             "size": 9
            },
            "type": "scatterternary"
           }
          ],
          "table": [
           {
            "cells": {
             "height": 30
            },
            "header": {
             "height": 36
            },
            "type": "table"
           }
          ]
         },
         "layout": {
          "font": {
           "size": 18
          },
          "xaxis": {
           "title": {
            "standoff": 15
           }
          },
          "yaxis": {
           "title": {
            "standoff": 15
           }
          }
         }
        },
        "title": {
         "text": "Sales Distribution by sub-Category"
        },
        "width": 900,
        "xaxis": {
         "anchor": "y",
         "autorange": true,
         "domain": [
          0,
          1
         ],
         "range": [
          0,
          347375.8463157895
         ],
         "title": {
          "text": "Sales"
         },
         "type": "linear"
        },
        "yaxis": {
         "anchor": "x",
         "autorange": true,
         "domain": [
          0,
          1
         ],
         "range": [
          -0.5,
          16.5
         ],
         "title": {
          "text": "Sub-Category"
         },
         "type": "category"
        }
       }
      },
      "image/png": "[encoded data removed]"
     },
     "metadata": {},
     "output_type": "display_data"
    }
   ],
   "source": [
    "fig = px.bar(sales_by_sub_category, \n",
    "             x ='Sales', \n",
    "             y ='Sub-Category', title='Sales Distribution by sub-Category', \n",
    "             color_discrete_sequence=['darkcyan'],\n",
    "             orientation='h',\n",
    "            height= 550,\n",
    "             text = 'Sales',\n",
    "            width= 900)\n",
    "fig.update_traces(texttemplate='%{x:.0f}', textposition = 'inside')\n",
    "fig.update_layout(template=\"presentation\", paper_bgcolor=\"rgba(0, 0, 0, 0)\", plot_bgcolor =\"rgba(0, 0, 0, 0)\",\n",
    "                 margin = dict(l=150, r=10, t=50, b=50))\n",
    "fig.show()\n",
    "fig.write_image(os.path.join(results_dir,'sales_distribution_sub_category_bar_plot.jpg'))\n",
    "fig.write_image(os.path.join(results_dir,'sales_distribution_sub_category_bar_plot.png'))\n",
    "fig.write_html(os.path.join(results_dir,'sales_distribution_sub_category_bar_plot.html'))"
   ]
  },
  {
   "cell_type": "markdown",
   "id": "8a88c1bd-9470-4511-b003-7ec3a024f217",
   "metadata": {},
   "source": [
    "This bar chart shows the sales distribution by product sub-category:\n",
    "\n",
    "- **Fasteners:** $3,024.28\n",
    "  \n",
    "- **Labels:** $12,486.31\n",
    "  \n",
    "- **Envelopes:** $16,476.40\n",
    "   \n",
    "- **Art:** $27,118.79\n",
    "  \n",
    "- **Supplies:** $46,673.54\n",
    "  \n",
    "- **Paper:** $78,479.21\n",
    "   \n",
    "- **Furnishings:** $91,705.16\n",
    "  \n",
    "- **Appliances:** $107,532.16\n",
    "  \n",
    "- **Bookcases:** $114,880.00\n",
    "  \n",
    "- **Copiers:** $149,528.03\n",
    "  \n",
    "- **Accessories:** $167,380.32\n",
    "  \n",
    "- **Machines:** $189,238.63\n",
    "  \n",
    "- **Binders:** $203,412.73\n",
    "   \n",
    "- **Tables:** $206,965.53\n",
    "  \n",
    "- **Storage:** $223,843.61\n",
    "   \n",
    "- **Chairs:** $328,449.10\n",
    "  \n",
    "- **Phones:** $330,007.05  \n",
    "\n",
    "The sales distribution highlights that **Phones**, **Chairs**, and **Storage** are among the highest revenue-generating sub-categories, while **Fasteners** and **Labels** contribute smaller portions. This insight helps prioritize inventory and marketing focus on the most lucrative product lines.\n"
   ]
  },
  {
   "cell_type": "markdown",
   "id": "76e787f8-ae8d-4991-8af8-feef83a08148",
   "metadata": {},
   "source": [
    "## 10. Sales Distribution by Ship Mode"
   ]
  },
  {
   "cell_type": "code",
   "execution_count": 19,
   "id": "c738a022-8ca5-4903-8f33-405cb915570d",
   "metadata": {},
   "outputs": [
    {
     "data": {
      "text/html": [
       "<div>\n",
       "<style scoped>\n",
       "    .dataframe tbody tr th:only-of-type {\n",
       "        vertical-align: middle;\n",
       "    }\n",
       "\n",
       "    .dataframe tbody tr th {\n",
       "        vertical-align: top;\n",
       "    }\n",
       "\n",
       "    .dataframe thead th {\n",
       "        text-align: right;\n",
       "    }\n",
       "</style>\n",
       "<table border=\"1\" class=\"dataframe\">\n",
       "  <thead>\n",
       "    <tr style=\"text-align: right;\">\n",
       "      <th></th>\n",
       "      <th>Ship Mode</th>\n",
       "      <th>Sales</th>\n",
       "    </tr>\n",
       "  </thead>\n",
       "  <tbody>\n",
       "    <tr>\n",
       "      <th>1</th>\n",
       "      <td>Same Day</td>\n",
       "      <td>1.283631e+05</td>\n",
       "    </tr>\n",
       "    <tr>\n",
       "      <th>0</th>\n",
       "      <td>First Class</td>\n",
       "      <td>3.514284e+05</td>\n",
       "    </tr>\n",
       "    <tr>\n",
       "      <th>2</th>\n",
       "      <td>Second Class</td>\n",
       "      <td>4.591936e+05</td>\n",
       "    </tr>\n",
       "    <tr>\n",
       "      <th>3</th>\n",
       "      <td>Standard Class</td>\n",
       "      <td>1.358216e+06</td>\n",
       "    </tr>\n",
       "  </tbody>\n",
       "</table>\n",
       "</div>"
      ],
      "text/plain": [
       "        Ship Mode         Sales\n",
       "1        Same Day  1.283631e+05\n",
       "0     First Class  3.514284e+05\n",
       "2    Second Class  4.591936e+05\n",
       "3  Standard Class  1.358216e+06"
      ]
     },
     "execution_count": 19,
     "metadata": {},
     "output_type": "execute_result"
    }
   ],
   "source": [
    "sales_by_sub_ship = super_df.groupby('Ship Mode')['Sales'].sum().reset_index().sort_values(by='Sales', ascending=True)\n",
    "sales_by_sub_ship"
   ]
  },
  {
   "cell_type": "code",
   "execution_count": 20,
   "id": "7490a2a7-41fc-4de3-8cb7-83fec74ad18a",
   "metadata": {},
   "outputs": [
    {
     "data": {
      "application/vnd.plotly.v1+json": {
       "config": {
        "plotlyServerURL": "https://plot.ly"
       },
       "data": [
        {
         "hovertemplate": "Ship Mode=%{x}<br>Sales=%{text}<extra></extra>",
         "legendgroup": "",
         "marker": {
          "color": "darkcyan",
          "pattern": {
           "shape": ""
          }
         },
         "name": "",
         "orientation": "v",
         "showlegend": false,
         "text": {
          "_inputArray": {
           "0": 128363.125,
           "1": 351428.4229,
           "2": 459193.56940000004,
           "3": 1358215.743,
           "bdata": "AAAAALJW/0CWsgyxEXMVQSrLEEfmBhxBfT81voe5NEE=",
           "dtype": "f8",
           "shape": "4"
          },
          "bdata": "AAAAALJW/0CWsgyxEXMVQSrLEEfmBhxBfT81voe5NEE=",
          "dtype": "f8"
         },
         "textposition": "inside",
         "texttemplate": "%{y:.0f}",
         "type": "bar",
         "x": [
          "Same Day",
          "First Class",
          "Second Class",
          "Standard Class"
         ],
         "xaxis": "x",
         "y": {
          "_inputArray": {
           "0": 128363.125,
           "1": 351428.4229,
           "2": 459193.56940000004,
           "3": 1358215.743,
           "bdata": "AAAAALJW/0CWsgyxEXMVQSrLEEfmBhxBfT81voe5NEE=",
           "dtype": "f8",
           "shape": "4"
          },
          "bdata": "AAAAALJW/0CWsgyxEXMVQSrLEEfmBhxBfT81voe5NEE=",
          "dtype": "f8"
         },
         "yaxis": "y"
        }
       ],
       "layout": {
        "autosize": true,
        "barmode": "relative",
        "legend": {
         "tracegroupgap": 0
        },
        "paper_bgcolor": "rgba(0, 0, 0, 0)",
        "plot_bgcolor": "rgba(0, 0, 0, 0)",
        "template": {
         "data": {
          "pie": [
           {
            "automargin": true,
            "type": "pie"
           }
          ],
          "scatter": [
           {
            "line": {
             "width": 3
            },
            "marker": {
             "size": 9
            },
            "type": "scatter"
           }
          ],
          "scatter3d": [
           {
            "line": {
             "width": 3
            },
            "marker": {
             "size": 9
            },
            "type": "scatter3d"
           }
          ],
          "scattergeo": [
           {
            "line": {
             "width": 3
            },
            "marker": {
             "size": 9
            },
            "type": "scattergeo"
           }
          ],
          "scattergl": [
           {
            "line": {
             "width": 3
            },
            "marker": {
             "size": 9
            },
            "type": "scattergl"
           }
          ],
          "scatterpolar": [
           {
            "line": {
             "width": 3
            },
            "marker": {
             "size": 9
            },
            "type": "scatterpolar"
           }
          ],
          "scatterpolargl": [
           {
            "line": {
             "width": 3
            },
            "marker": {
             "size": 9
            },
            "type": "scatterpolargl"
           }
          ],
          "scatterternary": [
           {
            "line": {
             "width": 3
            },
            "marker": {
             "size": 9
            },
            "type": "scatterternary"
           }
          ],
          "table": [
           {
            "cells": {
             "height": 30
            },
            "header": {
             "height": 36
            },
            "type": "table"
           }
          ]
         },
         "layout": {
          "font": {
           "size": 18
          },
          "xaxis": {
           "title": {
            "standoff": 15
           }
          },
          "yaxis": {
           "title": {
            "standoff": 15
           }
          }
         }
        },
        "title": {
         "text": "Sales Distribution by Ship Mode"
        },
        "xaxis": {
         "anchor": "y",
         "autorange": true,
         "domain": [
          0,
          1
         ],
         "range": [
          -0.5,
          3.5
         ],
         "title": {
          "text": "Ship Mode"
         },
         "type": "category"
        },
        "yaxis": {
         "anchor": "x",
         "autorange": true,
         "domain": [
          0,
          1
         ],
         "range": [
          0,
          1429700.782105263
         ],
         "title": {
          "text": "Sales"
         },
         "type": "linear"
        }
       }
      },
      "image/png": "[encoded data removed]"
     },
     "metadata": {},
     "output_type": "display_data"
    }
   ],
   "source": [
    "fig = px.bar(sales_by_sub_ship, \n",
    "             x='Ship Mode', \n",
    "              y='Sales', title='Sales Distribution by Ship Mode', \n",
    "             color_discrete_sequence=['darkcyan'],\n",
    "             orientation='v',\n",
    "             text='Sales'\n",
    "            )\n",
    "fig.update_traces(texttemplate='%{y:.0f}', textposition = 'inside')\n",
    "fig.update_layout(template=\"presentation\", paper_bgcolor=\"rgba(0, 0, 0, 0)\", plot_bgcolor =\"rgba(0, 0, 0, 0)\",)\n",
    "fig.show()\n",
    "fig.write_image(os.path.join(results_dir,'sales_distribution_shipmode_bar_plot.jpg'))\n",
    "fig.write_image(os.path.join(results_dir,'sales_distribution_shipmode_bar_plot.png'))\n",
    "fig.write_html(os.path.join(results_dir,'sales_distribution_shipmode_bar_plot.html'))"
   ]
  },
  {
   "cell_type": "markdown",
   "id": "d22ecbfc-8870-4f91-b0e5-9e60db4fcbeb",
   "metadata": {},
   "source": [
    "This bar chart shows the sales distribution by Ship Mode:\n",
    "\n",
    "- **Same Day:** $128,363\n",
    "  \n",
    "- **First Class:** $351,428\n",
    "  \n",
    "- **Second Class:** $459,193\n",
    "  \n",
    "- **Standard Class:** $1,358,216 \n",
    "\n",
    "The distribution indicates that **Standard Class** dominates sales volume by a large margin, followed by Second Class and First Class. Same Day shipping accounts for the smallest portion of sales, reflecting its limited use or higher cost.\n"
   ]
  },
  {
   "cell_type": "markdown",
   "id": "27a46f13-b4da-4742-a6ce-7529e15839af",
   "metadata": {},
   "source": [
    "## 11. Sales Distribution by Region"
   ]
  },
  {
   "cell_type": "code",
   "execution_count": 21,
   "id": "9bd4d33e-3b13-4016-864f-94b81d1827c9",
   "metadata": {},
   "outputs": [
    {
     "data": {
      "text/html": [
       "<div>\n",
       "<style scoped>\n",
       "    .dataframe tbody tr th:only-of-type {\n",
       "        vertical-align: middle;\n",
       "    }\n",
       "\n",
       "    .dataframe tbody tr th {\n",
       "        vertical-align: top;\n",
       "    }\n",
       "\n",
       "    .dataframe thead th {\n",
       "        text-align: right;\n",
       "    }\n",
       "</style>\n",
       "<table border=\"1\" class=\"dataframe\">\n",
       "  <thead>\n",
       "    <tr style=\"text-align: right;\">\n",
       "      <th></th>\n",
       "      <th>Region</th>\n",
       "      <th>Sales</th>\n",
       "    </tr>\n",
       "  </thead>\n",
       "  <tbody>\n",
       "    <tr>\n",
       "      <th>2</th>\n",
       "      <td>South</td>\n",
       "      <td>391721.9050</td>\n",
       "    </tr>\n",
       "    <tr>\n",
       "      <th>0</th>\n",
       "      <td>Central</td>\n",
       "      <td>501239.8908</td>\n",
       "    </tr>\n",
       "    <tr>\n",
       "      <th>1</th>\n",
       "      <td>East</td>\n",
       "      <td>678781.2400</td>\n",
       "    </tr>\n",
       "    <tr>\n",
       "      <th>3</th>\n",
       "      <td>West</td>\n",
       "      <td>725457.8245</td>\n",
       "    </tr>\n",
       "  </tbody>\n",
       "</table>\n",
       "</div>"
      ],
      "text/plain": [
       "    Region        Sales\n",
       "2    South  391721.9050\n",
       "0  Central  501239.8908\n",
       "1     East  678781.2400\n",
       "3     West  725457.8245"
      ]
     },
     "execution_count": 21,
     "metadata": {},
     "output_type": "execute_result"
    }
   ],
   "source": [
    "sales_by_region = super_df.groupby('Region')['Sales'].sum().reset_index().sort_values(by='Sales', ascending=True)\n",
    "sales_by_region"
   ]
  },
  {
   "cell_type": "code",
   "execution_count": 22,
   "id": "bdbe3de8-99df-4096-8514-4ff8ec66f6c3",
   "metadata": {},
   "outputs": [
    {
     "data": {
      "application/vnd.plotly.v1+json": {
       "config": {
        "plotlyServerURL": "https://plot.ly"
       },
       "data": [
        {
         "hovertemplate": "Sales=%{text}<br>Region=%{y}<extra></extra>",
         "legendgroup": "",
         "marker": {
          "color": "darkcyan",
          "pattern": {
           "shape": ""
          }
         },
         "name": "",
         "orientation": "h",
         "showlegend": false,
         "text": {
          "_inputArray": {
           "0": 391721.905,
           "1": 501239.8908,
           "2": 678781.24,
           "3": 725457.8245,
           "bdata": "7FG4nqfoF0EN4C2Q35ceQa5H4Xr6tiRBL90kpqMjJkE=",
           "dtype": "f8",
           "shape": "4"
          },
          "bdata": "7FG4nqfoF0EN4C2Q35ceQa5H4Xr6tiRBL90kpqMjJkE=",
          "dtype": "f8"
         },
         "textposition": "inside",
         "texttemplate": "%{x:.0f}",
         "type": "bar",
         "x": {
          "_inputArray": {
           "0": 391721.905,
           "1": 501239.8908,
           "2": 678781.24,
           "3": 725457.8245,
           "bdata": "7FG4nqfoF0EN4C2Q35ceQa5H4Xr6tiRBL90kpqMjJkE=",
           "dtype": "f8",
           "shape": "4"
          },
          "bdata": "7FG4nqfoF0EN4C2Q35ceQa5H4Xr6tiRBL90kpqMjJkE=",
          "dtype": "f8"
         },
         "xaxis": "x",
         "y": [
          "South",
          "Central",
          "East",
          "West"
         ],
         "yaxis": "y"
        }
       ],
       "layout": {
        "autosize": true,
        "barmode": "relative",
        "legend": {
         "tracegroupgap": 0
        },
        "margin": {
         "b": 50,
         "l": 150,
         "r": 10,
         "t": 50
        },
        "paper_bgcolor": "rgba(0, 0, 0, 0)",
        "plot_bgcolor": "rgba(0, 0, 0, 0)",
        "template": {
         "data": {
          "pie": [
           {
            "automargin": true,
            "type": "pie"
           }
          ],
          "scatter": [
           {
            "line": {
             "width": 3
            },
            "marker": {
             "size": 9
            },
            "type": "scatter"
           }
          ],
          "scatter3d": [
           {
            "line": {
             "width": 3
            },
            "marker": {
             "size": 9
            },
            "type": "scatter3d"
           }
          ],
          "scattergeo": [
           {
            "line": {
             "width": 3
            },
            "marker": {
             "size": 9
            },
            "type": "scattergeo"
           }
          ],
          "scattergl": [
           {
            "line": {
             "width": 3
            },
            "marker": {
             "size": 9
            },
            "type": "scattergl"
           }
          ],
          "scatterpolar": [
           {
            "line": {
             "width": 3
            },
            "marker": {
             "size": 9
            },
            "type": "scatterpolar"
           }
          ],
          "scatterpolargl": [
           {
            "line": {
             "width": 3
            },
            "marker": {
             "size": 9
            },
            "type": "scatterpolargl"
           }
          ],
          "scatterternary": [
           {
            "line": {
             "width": 3
            },
            "marker": {
             "size": 9
            },
            "type": "scatterternary"
           }
          ],
          "table": [
           {
            "cells": {
             "height": 30
            },
            "header": {
             "height": 36
            },
            "type": "table"
           }
          ]
         },
         "layout": {
          "font": {
           "size": 18
          },
          "xaxis": {
           "title": {
            "standoff": 15
           }
          },
          "yaxis": {
           "title": {
            "standoff": 15
           }
          }
         }
        },
        "title": {
         "text": "Sales Distribution by Region"
        },
        "xaxis": {
         "anchor": "y",
         "autorange": true,
         "domain": [
          0,
          1
         ],
         "range": [
          0,
          763639.815263158
         ],
         "title": {
          "text": "Sales"
         },
         "type": "linear"
        },
        "yaxis": {
         "anchor": "x",
         "autorange": true,
         "domain": [
          0,
          1
         ],
         "range": [
          -0.5,
          3.5
         ],
         "title": {
          "text": "Region"
         },
         "type": "category"
        }
       }
      },
      "image/png": "[encoded data removed]"
     },
     "metadata": {},
     "output_type": "display_data"
    }
   ],
   "source": [
    "fig = px.bar(sales_by_region, \n",
    "             x='Sales', \n",
    "             y='Region', title='Sales Distribution by Region', \n",
    "             color_discrete_sequence=['darkcyan'],\n",
    "             text='Sales'\n",
    "            )\n",
    "fig.update_layout(template=\"presentation\", paper_bgcolor=\"rgba(0, 0, 0, 0)\", plot_bgcolor =\"rgba(0, 0, 0, 0)\", margin = dict(l=150, r=10, t=50, b=50))\n",
    "fig.update_traces(texttemplate='%{x:.0f}', textposition = 'inside')\n",
    "fig.show()\n",
    "fig.write_image(os.path.join(results_dir,'sales_distribution_region_bar_ploty.jpg'))\n",
    "fig.write_image(os.path.join(results_dir,'sales_distribution_region__bar_ploty.png'))\n",
    "fig.write_html(os.path.join(results_dir,'sales_distribution_region__bar_ploty.html'))"
   ]
  },
  {
   "cell_type": "markdown",
   "id": "727e0fb8-7a38-4977-9ed6-b5bf06ee6c8a",
   "metadata": {},
   "source": [
    "This bar chart shows the sales distribution by Region:\n",
    "\n",
    "- **South:** $391,721\n",
    "\n",
    "- **Central:** $501,239\n",
    "\n",
    "- **East:** $678,781\n",
    "           \n",
    "- **West:** $725,457 \n",
    "\n",
    "The data shows that the **West** region generates the highest sales, followed closely by the **East** region. The **Central** and **South** regions contribute smaller but significant portions to total sales, highlighting regional differences in market size or customer demand.\n"
   ]
  },
  {
   "cell_type": "markdown",
   "id": "268b9e56-ccee-455e-93b2-549fc96db2c7",
   "metadata": {},
   "source": [
    "# 12. Customer Segment Distribution"
   ]
  },
  {
   "cell_type": "code",
   "execution_count": 23,
   "id": "84f13c21-9e95-4113-81ce-e5a12d3bbf7a",
   "metadata": {},
   "outputs": [
    {
     "data": {
      "text/html": [
       "<div>\n",
       "<style scoped>\n",
       "    .dataframe tbody tr th:only-of-type {\n",
       "        vertical-align: middle;\n",
       "    }\n",
       "\n",
       "    .dataframe tbody tr th {\n",
       "        vertical-align: top;\n",
       "    }\n",
       "\n",
       "    .dataframe thead th {\n",
       "        text-align: right;\n",
       "    }\n",
       "</style>\n",
       "<table border=\"1\" class=\"dataframe\">\n",
       "  <thead>\n",
       "    <tr style=\"text-align: right;\">\n",
       "      <th></th>\n",
       "      <th>Segment</th>\n",
       "      <th>total</th>\n",
       "    </tr>\n",
       "  </thead>\n",
       "  <tbody>\n",
       "    <tr>\n",
       "      <th>0</th>\n",
       "      <td>Consumer</td>\n",
       "      <td>5191</td>\n",
       "    </tr>\n",
       "    <tr>\n",
       "      <th>1</th>\n",
       "      <td>Corporate</td>\n",
       "      <td>3020</td>\n",
       "    </tr>\n",
       "    <tr>\n",
       "      <th>2</th>\n",
       "      <td>Home Office</td>\n",
       "      <td>1783</td>\n",
       "    </tr>\n",
       "  </tbody>\n",
       "</table>\n",
       "</div>"
      ],
      "text/plain": [
       "       Segment  total\n",
       "0     Consumer   5191\n",
       "1    Corporate   3020\n",
       "2  Home Office   1783"
      ]
     },
     "execution_count": 23,
     "metadata": {},
     "output_type": "execute_result"
    }
   ],
   "source": [
    "customer_segment = super_df.groupby('Segment').size().reset_index(name = 'total')\n",
    "customer_segment"
   ]
  },
  {
   "cell_type": "code",
   "execution_count": 24,
   "id": "e25a8924-ebca-422a-a6b7-a0a9ccb80998",
   "metadata": {},
   "outputs": [
    {
     "data": {
      "application/vnd.plotly.v1+json": {
       "config": {
        "plotlyServerURL": "https://plot.ly"
       },
       "data": [
        {
         "hovertemplate": "Segment=%{x}<br>total=%{text}<extra></extra>",
         "legendgroup": "",
         "marker": {
          "color": "darkcyan",
          "pattern": {
           "shape": ""
          }
         },
         "name": "",
         "orientation": "v",
         "showlegend": false,
         "text": {
          "_inputArray": {
           "0": 5191,
           "1": 3020,
           "2": 1783,
           "bdata": "AAAAAABHtEAAAAAAAJinQAAAAAAA3JtA",
           "dtype": "f8",
           "shape": "3"
          },
          "bdata": "AAAAAABHtEAAAAAAAJinQAAAAAAA3JtA",
          "dtype": "f8"
         },
         "textposition": "inside",
         "type": "bar",
         "x": [
          "Consumer",
          "Corporate",
          "Home Office"
         ],
         "xaxis": "x",
         "y": {
          "_inputArray": {
           "0": 5191,
           "1": 3020,
           "2": 1783,
           "bdata": "RxTMC/cG",
           "dtype": "i2",
           "shape": "3"
          },
          "bdata": "RxTMC/cG",
          "dtype": "i2"
         },
         "yaxis": "y"
        }
       ],
       "layout": {
        "barmode": "relative",
        "height": 450,
        "legend": {
         "tracegroupgap": 0
        },
        "margin": {
         "b": 50,
         "l": 150,
         "r": 10,
         "t": 50
        },
        "paper_bgcolor": "rgba(0, 0, 0, 0)",
        "plot_bgcolor": "rgba(0, 0, 0, 0)",
        "template": {
         "data": {
          "pie": [
           {
            "automargin": true,
            "type": "pie"
           }
          ],
          "scatter": [
           {
            "line": {
             "width": 3
            },
            "marker": {
             "size": 9
            },
            "type": "scatter"
           }
          ],
          "scatter3d": [
           {
            "line": {
             "width": 3
            },
            "marker": {
             "size": 9
            },
            "type": "scatter3d"
           }
          ],
          "scattergeo": [
           {
            "line": {
             "width": 3
            },
            "marker": {
             "size": 9
            },
            "type": "scattergeo"
           }
          ],
          "scattergl": [
           {
            "line": {
             "width": 3
            },
            "marker": {
             "size": 9
            },
            "type": "scattergl"
           }
          ],
          "scatterpolar": [
           {
            "line": {
             "width": 3
            },
            "marker": {
             "size": 9
            },
            "type": "scatterpolar"
           }
          ],
          "scatterpolargl": [
           {
            "line": {
             "width": 3
            },
            "marker": {
             "size": 9
            },
            "type": "scatterpolargl"
           }
          ],
          "scatterternary": [
           {
            "line": {
             "width": 3
            },
            "marker": {
             "size": 9
            },
            "type": "scatterternary"
           }
          ],
          "table": [
           {
            "cells": {
             "height": 30
            },
            "header": {
             "height": 36
            },
            "type": "table"
           }
          ]
         },
         "layout": {
          "font": {
           "size": 18
          },
          "xaxis": {
           "title": {
            "standoff": 15
           }
          },
          "yaxis": {
           "title": {
            "standoff": 15
           }
          }
         }
        },
        "title": {
         "text": "Customer Segment Distribution"
        },
        "width": 600,
        "xaxis": {
         "anchor": "y",
         "autorange": true,
         "domain": [
          0,
          1
         ],
         "range": [
          -0.5,
          2.5
         ],
         "title": {
          "text": "Segment"
         },
         "type": "category"
        },
        "yaxis": {
         "anchor": "x",
         "autorange": true,
         "domain": [
          0,
          1
         ],
         "range": [
          0,
          5464.210526315789
         ],
         "title": {
          "text": "total"
         },
         "type": "linear"
        }
       }
      },
      "image/png": "[encoded data removed]"
     },
     "metadata": {},
     "output_type": "display_data"
    }
   ],
   "source": [
    "fig = px.bar(customer_segment, \n",
    "             x ='Segment', \n",
    "             y ='total', title='Customer Segment Distribution', \n",
    "             color_discrete_sequence=['darkcyan'],\n",
    "             orientation='v',\n",
    "            height= 450,\n",
    "             text = 'total',\n",
    "            width= 600)\n",
    "fig.update_traces(textposition = 'inside')\n",
    "fig.update_layout(template=\"presentation\", paper_bgcolor=\"rgba(0, 0, 0, 0)\", plot_bgcolor =\"rgba(0, 0, 0, 0)\",\n",
    "                 margin = dict(l=150, r=10, t=50, b=50))\n",
    "fig.show()\n",
    "fig.write_image(os.path.join(results_dir,'customersegment_distribution_bar_plot.jpg'))\n",
    "fig.write_image(os.path.join(results_dir,'customersegment_distribution_bar_plot.png'))\n",
    "fig.write_html(os.path.join(results_dir,'customersegment_distribution_bar_plot.html'))"
   ]
  },
  {
   "cell_type": "markdown",
   "id": "331fcb55-6292-4435-b96a-0d94f6c5b674",
   "metadata": {},
   "source": [
    "## 13. Customer Segment Distribution\n",
    "\n",
    "This bar chart shows the distribution of customers across segments:\n",
    "\n",
    "- **Consumer:** 5,191 customers\n",
    "  \n",
    "- **Corporate:** 3,020 customers\n",
    "  \n",
    "- **Home Office:** 1,783 customers  \n",
    "\n",
    "The Consumer segment represents the largest group, accounting for over half of the customer base. Corporate clients form a significant portion, while Home Office customers make up the smallest segment. This distribution provides insight into the primary market focus of the business.\n"
   ]
  },
  {
   "cell_type": "markdown",
   "id": "bd0ee546-fd2b-4132-a515-649064fb5bad",
   "metadata": {},
   "source": [
    "# 14. Monthly Sales Distribution"
   ]
  },
  {
   "cell_type": "code",
   "execution_count": 25,
   "id": "a3874ef4-8f6b-4394-968f-42741a05dcc7",
   "metadata": {},
   "outputs": [
    {
     "data": {
      "text/plain": [
       "0       11\n",
       "1       11\n",
       "2        6\n",
       "3       10\n",
       "4       10\n",
       "        ..\n",
       "9989     1\n",
       "9990     2\n",
       "9991     2\n",
       "9992     2\n",
       "9993     5\n",
       "Name: Month_num, Length: 9994, dtype: int32"
      ]
     },
     "execution_count": 25,
     "metadata": {},
     "output_type": "execute_result"
    }
   ],
   "source": [
    "super_df['Order Date'] = pd.to_datetime(super_df['Order Date'])\n",
    "super_df['Month'] = super_df['Order Date'].dt.month_name()\n",
    "super_df['Month_num'] = super_df['Order Date'].dt.month\n",
    "super_df['Month_num']"
   ]
  },
  {
   "cell_type": "code",
   "execution_count": 26,
   "id": "51505a8e-4675-4d17-a07d-087a67afdb8e",
   "metadata": {},
   "outputs": [
    {
     "data": {
      "text/html": [
       "<div>\n",
       "<style scoped>\n",
       "    .dataframe tbody tr th:only-of-type {\n",
       "        vertical-align: middle;\n",
       "    }\n",
       "\n",
       "    .dataframe tbody tr th {\n",
       "        vertical-align: top;\n",
       "    }\n",
       "\n",
       "    .dataframe thead th {\n",
       "        text-align: right;\n",
       "    }\n",
       "</style>\n",
       "<table border=\"1\" class=\"dataframe\">\n",
       "  <thead>\n",
       "    <tr style=\"text-align: right;\">\n",
       "      <th></th>\n",
       "      <th>Month_num</th>\n",
       "      <th>Month</th>\n",
       "      <th>Sales</th>\n",
       "    </tr>\n",
       "  </thead>\n",
       "  <tbody>\n",
       "    <tr>\n",
       "      <th>0</th>\n",
       "      <td>1</td>\n",
       "      <td>January</td>\n",
       "      <td>94924.8356</td>\n",
       "    </tr>\n",
       "    <tr>\n",
       "      <th>1</th>\n",
       "      <td>2</td>\n",
       "      <td>February</td>\n",
       "      <td>59751.2514</td>\n",
       "    </tr>\n",
       "    <tr>\n",
       "      <th>2</th>\n",
       "      <td>3</td>\n",
       "      <td>March</td>\n",
       "      <td>205005.4888</td>\n",
       "    </tr>\n",
       "    <tr>\n",
       "      <th>3</th>\n",
       "      <td>4</td>\n",
       "      <td>April</td>\n",
       "      <td>137762.1286</td>\n",
       "    </tr>\n",
       "    <tr>\n",
       "      <th>4</th>\n",
       "      <td>5</td>\n",
       "      <td>May</td>\n",
       "      <td>155028.8117</td>\n",
       "    </tr>\n",
       "    <tr>\n",
       "      <th>5</th>\n",
       "      <td>6</td>\n",
       "      <td>June</td>\n",
       "      <td>152718.6793</td>\n",
       "    </tr>\n",
       "    <tr>\n",
       "      <th>6</th>\n",
       "      <td>7</td>\n",
       "      <td>July</td>\n",
       "      <td>147238.0970</td>\n",
       "    </tr>\n",
       "    <tr>\n",
       "      <th>7</th>\n",
       "      <td>8</td>\n",
       "      <td>August</td>\n",
       "      <td>159044.0630</td>\n",
       "    </tr>\n",
       "    <tr>\n",
       "      <th>8</th>\n",
       "      <td>9</td>\n",
       "      <td>September</td>\n",
       "      <td>307649.9457</td>\n",
       "    </tr>\n",
       "    <tr>\n",
       "      <th>9</th>\n",
       "      <td>10</td>\n",
       "      <td>October</td>\n",
       "      <td>200322.9847</td>\n",
       "    </tr>\n",
       "    <tr>\n",
       "      <th>10</th>\n",
       "      <td>11</td>\n",
       "      <td>November</td>\n",
       "      <td>352461.0710</td>\n",
       "    </tr>\n",
       "    <tr>\n",
       "      <th>11</th>\n",
       "      <td>12</td>\n",
       "      <td>December</td>\n",
       "      <td>325293.5035</td>\n",
       "    </tr>\n",
       "  </tbody>\n",
       "</table>\n",
       "</div>"
      ],
      "text/plain": [
       "    Month_num      Month        Sales\n",
       "0           1    January   94924.8356\n",
       "1           2   February   59751.2514\n",
       "2           3      March  205005.4888\n",
       "3           4      April  137762.1286\n",
       "4           5        May  155028.8117\n",
       "5           6       June  152718.6793\n",
       "6           7       July  147238.0970\n",
       "7           8     August  159044.0630\n",
       "8           9  September  307649.9457\n",
       "9          10    October  200322.9847\n",
       "10         11   November  352461.0710\n",
       "11         12   December  325293.5035"
      ]
     },
     "execution_count": 26,
     "metadata": {},
     "output_type": "execute_result"
    }
   ],
   "source": [
    "sales_by_month = super_df.groupby(['Month_num', 'Month'])['Sales'].sum().reset_index()\n",
    "sales_by_month = sales_by_month.sort_values('Month_num')\n",
    "sales_by_month"
   ]
  },
  {
   "cell_type": "code",
   "execution_count": 27,
   "id": "893bf363-297c-41e5-809f-1e5446bdaa93",
   "metadata": {},
   "outputs": [
    {
     "data": {
      "application/vnd.plotly.v1+json": {
       "config": {
        "plotlyServerURL": "https://plot.ly"
       },
       "data": [
        {
         "hovertemplate": "Month=%{x}<br>Sales=%{y}<extra></extra>",
         "legendgroup": "",
         "line": {
          "color": "darkcyan",
          "dash": "solid",
          "width": 2
         },
         "marker": {
          "symbol": "circle"
         },
         "mode": "lines+markers",
         "name": "",
         "orientation": "v",
         "showlegend": false,
         "type": "scatter",
         "x": [
          "January",
          "February",
          "March",
          "April",
          "May",
          "June",
          "July",
          "August",
          "September",
          "October",
          "November",
          "December"
         ],
         "xaxis": "x",
         "y": {
          "_inputArray": {
           "0": 94924.8356,
           "1": 59751.2514,
           "10": 352461.071,
           "11": 325293.5035,
           "2": 205005.4888,
           "3": 137762.1286,
           "4": 155028.8117,
           "5": 152718.6793,
           "6": 147238.097,
           "7": 159044.063,
           "8": 307649.9457,
           "9": 200322.9847,
           "bdata": "CRueXs0s90BHA3gL6CztQHL5D+lrBglB0m9fBxHRAEHRkVx+puwCQaHWNG91pAJBnu+nxjD5AUHdJAaBIGoDQa+UZcgHxxJBw2Sq4Bd0CEFYObRINIMVQQaBlQO22hNB",
           "dtype": "f8",
           "shape": "12"
          },
          "bdata": "CRueXs0s90BHA3gL6CztQHL5D+lrBglB0m9fBxHRAEHRkVx+puwCQaHWNG91pAJBnu+nxjD5AUHdJAaBIGoDQa+UZcgHxxJBw2Sq4Bd0CEFYObRINIMVQQaBlQO22hNB",
          "dtype": "f8"
         },
         "yaxis": "y"
        }
       ],
       "layout": {
        "height": 600,
        "legend": {
         "tracegroupgap": 0
        },
        "margin": {
         "l": 90,
         "r": 50
        },
        "template": {
         "data": {
          "pie": [
           {
            "automargin": true,
            "type": "pie"
           }
          ],
          "scatter": [
           {
            "line": {
             "width": 3
            },
            "marker": {
             "size": 9
            },
            "type": "scatter"
           }
          ],
          "scatter3d": [
           {
            "line": {
             "width": 3
            },
            "marker": {
             "size": 9
            },
            "type": "scatter3d"
           }
          ],
          "scattergeo": [
           {
            "line": {
             "width": 3
            },
            "marker": {
             "size": 9
            },
            "type": "scattergeo"
           }
          ],
          "scattergl": [
           {
            "line": {
             "width": 3
            },
            "marker": {
             "size": 9
            },
            "type": "scattergl"
           }
          ],
          "scatterpolar": [
           {
            "line": {
             "width": 3
            },
            "marker": {
             "size": 9
            },
            "type": "scatterpolar"
           }
          ],
          "scatterpolargl": [
           {
            "line": {
             "width": 3
            },
            "marker": {
             "size": 9
            },
            "type": "scatterpolargl"
           }
          ],
          "scatterternary": [
           {
            "line": {
             "width": 3
            },
            "marker": {
             "size": 9
            },
            "type": "scatterternary"
           }
          ],
          "table": [
           {
            "cells": {
             "height": 30
            },
            "header": {
             "height": 36
            },
            "type": "table"
           }
          ]
         },
         "layout": {
          "font": {
           "size": 18
          },
          "xaxis": {
           "title": {
            "standoff": 15
           }
          },
          "yaxis": {
           "title": {
            "standoff": 15
           }
          }
         }
        },
        "title": {
         "text": "Sales Trends Over Time"
        },
        "width": 1000,
        "xaxis": {
         "anchor": "y",
         "autorange": true,
         "domain": [
          0,
          1
         ],
         "range": [
          -0.7012454932808915,
          11.701245493280892
         ],
         "title": {
          "text": "Month"
         },
         "type": "category"
        },
        "yaxis": {
         "anchor": "x",
         "autorange": true,
         "domain": [
          0,
          1
         ],
         "range": [
          -0.7985685071574642,
          11.798568507157464
         ],
         "title": {
          "text": "Total Sales"
         },
         "type": "linear"
        }
       }
      },
      "image/png": "[encoded data removed]"
     },
     "metadata": {},
     "output_type": "display_data"
    }
   ],
   "source": [
    "fig = px.line(\n",
    "    sales_by_month,\n",
    "    x='Month',\n",
    "    y='Sales',\n",
    "    title='Sales Trends Over Time',\n",
    "    width= 1000,\n",
    "    height= 600,\n",
    "    markers=True\n",
    ")\n",
    "\n",
    "fig.update_traces(line=dict(color='darkcyan', width=2),)\n",
    "fig.update_layout(\n",
    "    xaxis_title='Month',\n",
    "    yaxis_title='Total Sales',\n",
    "    template='presentation',\n",
    "     margin = dict(l=90, r=50)\n",
    ")\n",
    "\n",
    "fig.show()\n",
    "fig.write_image(os.path.join(results_dir,'salesovertime_line_chart.jpg'))\n",
    "fig.write_image(os.path.join(results_dir,'salesovertime_line_chart.png'))\n",
    "fig.write_html(os.path.join(results_dir,'salesovertime_line_chart.html'))"
   ]
  },
  {
   "cell_type": "markdown",
   "id": "7bb0a7e7-6248-467f-bb88-eb9b5ccfa0f5",
   "metadata": {},
   "source": [
    "## 15. Monthly Sales Distribution\n",
    "\n",
    "This pie chart shows the distribution of total sales across months:\n",
    "\n",
    "- **January:** $94,924\n",
    "  \n",
    "- **February:** $59,751\n",
    "  \n",
    "- **March:** $205,005\n",
    "   \n",
    "- **April:** $137,762\n",
    "    \n",
    "- **May:** $155,028\n",
    "   \n",
    "- **June:** $152,718\n",
    "  \n",
    "- **July:** $147,238\n",
    "  \n",
    "- **August:** $159,044\n",
    "   \n",
    "- **September:** $307,649\n",
    "   \n",
    "- **October:** $200,322\n",
    "    \n",
    "- **November:** $352,461\n",
    "  \n",
    "- **December:** $325,293\n",
    "\n",
    "The distribution shows that **November** and **December** generate the highest sales, reflecting seasonal peaks, likely driven by year-end promotions and holiday shopping. **September** also stands out as a strong sales month. In contrast, **February** and **January** have the lowest sales, possibly due to post-holiday slowdowns. These trends highlight key periods for targeted marketing and inventory planning.\n"
   ]
  },
  {
   "cell_type": "markdown",
   "id": "b78b4bf4-c0af-404d-b83b-1d57165f231e",
   "metadata": {},
   "source": []
  },
  {
   "cell_type": "code",
   "execution_count": null,
   "id": "1f266c49-429b-42f8-8c26-f2e025e4e08e",
   "metadata": {},
   "outputs": [],
   "source": []
  }
 ],
 "metadata": {
  "kernelspec": {
   "display_name": "Python 3 (ipykernel)",
   "language": "python",
   "name": "python3"
  },
  "language_info": {
   "codemirror_mode": {
    "name": "ipython",
    "version": 3
   },
   "file_extension": ".py",
   "mimetype": "text/x-python",
   "name": "python",
   "nbconvert_exporter": "python",
   "pygments_lexer": "ipython3",
   "version": "3.11.7"
  },
  "widgets": {
   "application/vnd.jupyter.widget-state+json": {
    "state": {},
    "version_major": 2,
    "version_minor": 0
   }
  }
 },
 "nbformat": 4,
 "nbformat_minor": 5
}
