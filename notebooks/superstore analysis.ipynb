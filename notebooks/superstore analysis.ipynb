{
 "cells": [
  {
   "cell_type": "markdown",
   "id": "c09d6dd5-9cc4-4527-b33d-2359f75722df",
   "metadata": {},
   "source": [
    "## Superstore Performance Dataset- Exploratory and Descriptive Analysis\n",
    "This notebook is focused on the exploratory and descriptive analysis of the cleaned version of the superstore performance dataset"
   ]
  },
  {
   "cell_type": "code",
   "execution_count": 4,
   "id": "04143bf9-fa84-4640-8e79-bd1323a01701",
   "metadata": {},
   "outputs": [],
   "source": [
    "# Import libraries\n",
    "\n",
    "import pandas as pd\n",
    "import numpy as np\n",
    "import os\n",
    "import plotly.express as px"
   ]
  },
  {
   "cell_type": "markdown",
   "id": "0860732b-e625-472e-a18c-f6f522bd0193",
   "metadata": {},
   "source": [
    "## Define and create paths"
   ]
  },
  {
   "cell_type": "code",
   "execution_count": 5,
   "id": "3b65e634-64a4-42b2-86d6-a208972440e2",
   "metadata": {},
   "outputs": [],
   "source": [
    "# Get working directory\n",
    "current_dir = os.getcwd()\n",
    "# Go one directory up to the root directory\n",
    "project_root_dir = os.path.dirname(current_dir)\n",
    "# define paths to the data files\n",
    "data_dir = os.path.join(project_root_dir, 'data')\n",
    "raw_dir = os.path.join(data_dir, 'raw')\n",
    "processed_dir = os.path.join(data_dir, 'processed')\n",
    "# Define paths to the results folder\n",
    "results_dir  = os.path.join(project_root_dir, 'results')\n",
    "# Define paths to the docs folder\n",
    "docs_dir = os.path.join(project_root_dir, 'docs')\n",
    "\n",
    "# create directories if they do not exist \n",
    "os.makedirs(raw_dir, exist_ok = True )\n",
    "os.makedirs(processed_dir, exist_ok = True )\n",
    "os.makedirs(results_dir, exist_ok = True)\n",
    "os.makedirs(docs_dir, exist_ok = True)"
   ]
  },
  {
   "cell_type": "markdown",
   "id": "74c8d922-9127-430f-9928-d1b0b5148edd",
   "metadata": {},
   "source": [
    "# Read in the data"
   ]
  },
  {
   "cell_type": "code",
   "execution_count": 6,
   "id": "5fbc4146-d944-4582-ba01-5f7765e8cc5a",
   "metadata": {},
   "outputs": [
    {
     "data": {
      "text/html": [
       "<div>\n",
       "<style scoped>\n",
       "    .dataframe tbody tr th:only-of-type {\n",
       "        vertical-align: middle;\n",
       "    }\n",
       "\n",
       "    .dataframe tbody tr th {\n",
       "        vertical-align: top;\n",
       "    }\n",
       "\n",
       "    .dataframe thead th {\n",
       "        text-align: right;\n",
       "    }\n",
       "</style>\n",
       "<table border=\"1\" class=\"dataframe\">\n",
       "  <thead>\n",
       "    <tr style=\"text-align: right;\">\n",
       "      <th></th>\n",
       "      <th>Row ID</th>\n",
       "      <th>Order ID</th>\n",
       "      <th>Order Date</th>\n",
       "      <th>Ship Date</th>\n",
       "      <th>Ship Mode</th>\n",
       "      <th>Customer ID</th>\n",
       "      <th>Customer Name</th>\n",
       "      <th>Segment</th>\n",
       "      <th>Country</th>\n",
       "      <th>City</th>\n",
       "      <th>...</th>\n",
       "      <th>Product ID</th>\n",
       "      <th>Category</th>\n",
       "      <th>Sub-Category</th>\n",
       "      <th>Product Name</th>\n",
       "      <th>Sales</th>\n",
       "      <th>Quantity</th>\n",
       "      <th>Discount</th>\n",
       "      <th>Profit</th>\n",
       "      <th>Returned</th>\n",
       "      <th>Person</th>\n",
       "    </tr>\n",
       "  </thead>\n",
       "  <tbody>\n",
       "    <tr>\n",
       "      <th>0</th>\n",
       "      <td>1</td>\n",
       "      <td>CA-2016-152156</td>\n",
       "      <td>2016-11-08</td>\n",
       "      <td>2016-11-11</td>\n",
       "      <td>Second Class</td>\n",
       "      <td>CG-12520</td>\n",
       "      <td>Claire Gute</td>\n",
       "      <td>Consumer</td>\n",
       "      <td>United States</td>\n",
       "      <td>Henderson</td>\n",
       "      <td>...</td>\n",
       "      <td>FUR-BO-10001798</td>\n",
       "      <td>Furniture</td>\n",
       "      <td>Bookcases</td>\n",
       "      <td>Bush Somerset Collection Bookcase</td>\n",
       "      <td>261.9600</td>\n",
       "      <td>2</td>\n",
       "      <td>0.00</td>\n",
       "      <td>41.9136</td>\n",
       "      <td>NO</td>\n",
       "      <td>Cassandra Brandow</td>\n",
       "    </tr>\n",
       "    <tr>\n",
       "      <th>1</th>\n",
       "      <td>2</td>\n",
       "      <td>CA-2016-152156</td>\n",
       "      <td>2016-11-08</td>\n",
       "      <td>2016-11-11</td>\n",
       "      <td>Second Class</td>\n",
       "      <td>CG-12520</td>\n",
       "      <td>Claire Gute</td>\n",
       "      <td>Consumer</td>\n",
       "      <td>United States</td>\n",
       "      <td>Henderson</td>\n",
       "      <td>...</td>\n",
       "      <td>FUR-CH-10000454</td>\n",
       "      <td>Furniture</td>\n",
       "      <td>Chairs</td>\n",
       "      <td>Hon Deluxe Fabric Upholstered Stacking Chairs,...</td>\n",
       "      <td>731.9400</td>\n",
       "      <td>3</td>\n",
       "      <td>0.00</td>\n",
       "      <td>219.5820</td>\n",
       "      <td>NO</td>\n",
       "      <td>Cassandra Brandow</td>\n",
       "    </tr>\n",
       "    <tr>\n",
       "      <th>2</th>\n",
       "      <td>3</td>\n",
       "      <td>CA-2016-138688</td>\n",
       "      <td>2016-06-12</td>\n",
       "      <td>2016-06-16</td>\n",
       "      <td>Second Class</td>\n",
       "      <td>DV-13045</td>\n",
       "      <td>Darrin Van Huff</td>\n",
       "      <td>Corporate</td>\n",
       "      <td>United States</td>\n",
       "      <td>Los Angeles</td>\n",
       "      <td>...</td>\n",
       "      <td>OFF-LA-10000240</td>\n",
       "      <td>Office Supplies</td>\n",
       "      <td>Labels</td>\n",
       "      <td>Self-Adhesive Address Labels for Typewriters b...</td>\n",
       "      <td>14.6200</td>\n",
       "      <td>2</td>\n",
       "      <td>0.00</td>\n",
       "      <td>6.8714</td>\n",
       "      <td>NO</td>\n",
       "      <td>Anna Andreadi</td>\n",
       "    </tr>\n",
       "    <tr>\n",
       "      <th>3</th>\n",
       "      <td>4</td>\n",
       "      <td>US-2015-108966</td>\n",
       "      <td>2015-10-11</td>\n",
       "      <td>2015-10-18</td>\n",
       "      <td>Standard Class</td>\n",
       "      <td>SO-20335</td>\n",
       "      <td>Sean O'Donnell</td>\n",
       "      <td>Consumer</td>\n",
       "      <td>United States</td>\n",
       "      <td>Fort Lauderdale</td>\n",
       "      <td>...</td>\n",
       "      <td>FUR-TA-10000577</td>\n",
       "      <td>Furniture</td>\n",
       "      <td>Tables</td>\n",
       "      <td>Bretford CR4500 Series Slim Rectangular Table</td>\n",
       "      <td>957.5775</td>\n",
       "      <td>5</td>\n",
       "      <td>0.45</td>\n",
       "      <td>-383.0310</td>\n",
       "      <td>NO</td>\n",
       "      <td>Cassandra Brandow</td>\n",
       "    </tr>\n",
       "    <tr>\n",
       "      <th>4</th>\n",
       "      <td>5</td>\n",
       "      <td>US-2015-108966</td>\n",
       "      <td>2015-10-11</td>\n",
       "      <td>2015-10-18</td>\n",
       "      <td>Standard Class</td>\n",
       "      <td>SO-20335</td>\n",
       "      <td>Sean O'Donnell</td>\n",
       "      <td>Consumer</td>\n",
       "      <td>United States</td>\n",
       "      <td>Fort Lauderdale</td>\n",
       "      <td>...</td>\n",
       "      <td>OFF-ST-10000760</td>\n",
       "      <td>Office Supplies</td>\n",
       "      <td>Storage</td>\n",
       "      <td>Eldon Fold 'N Roll Cart System</td>\n",
       "      <td>22.3680</td>\n",
       "      <td>2</td>\n",
       "      <td>0.20</td>\n",
       "      <td>2.5164</td>\n",
       "      <td>NO</td>\n",
       "      <td>Cassandra Brandow</td>\n",
       "    </tr>\n",
       "    <tr>\n",
       "      <th>5</th>\n",
       "      <td>6</td>\n",
       "      <td>CA-2014-115812</td>\n",
       "      <td>2014-06-09</td>\n",
       "      <td>2014-06-14</td>\n",
       "      <td>Standard Class</td>\n",
       "      <td>BH-11710</td>\n",
       "      <td>Brosina Hoffman</td>\n",
       "      <td>Consumer</td>\n",
       "      <td>United States</td>\n",
       "      <td>Los Angeles</td>\n",
       "      <td>...</td>\n",
       "      <td>FUR-FU-10001487</td>\n",
       "      <td>Furniture</td>\n",
       "      <td>Furnishings</td>\n",
       "      <td>Eldon Expressions Wood and Plastic Desk Access...</td>\n",
       "      <td>48.8600</td>\n",
       "      <td>7</td>\n",
       "      <td>0.00</td>\n",
       "      <td>14.1694</td>\n",
       "      <td>NO</td>\n",
       "      <td>Anna Andreadi</td>\n",
       "    </tr>\n",
       "    <tr>\n",
       "      <th>6</th>\n",
       "      <td>7</td>\n",
       "      <td>CA-2014-115812</td>\n",
       "      <td>2014-06-09</td>\n",
       "      <td>2014-06-14</td>\n",
       "      <td>Standard Class</td>\n",
       "      <td>BH-11710</td>\n",
       "      <td>Brosina Hoffman</td>\n",
       "      <td>Consumer</td>\n",
       "      <td>United States</td>\n",
       "      <td>Los Angeles</td>\n",
       "      <td>...</td>\n",
       "      <td>OFF-AR-10002833</td>\n",
       "      <td>Office Supplies</td>\n",
       "      <td>Art</td>\n",
       "      <td>Newell 322</td>\n",
       "      <td>7.2800</td>\n",
       "      <td>4</td>\n",
       "      <td>0.00</td>\n",
       "      <td>1.9656</td>\n",
       "      <td>NO</td>\n",
       "      <td>Anna Andreadi</td>\n",
       "    </tr>\n",
       "    <tr>\n",
       "      <th>7</th>\n",
       "      <td>8</td>\n",
       "      <td>CA-2014-115812</td>\n",
       "      <td>2014-06-09</td>\n",
       "      <td>2014-06-14</td>\n",
       "      <td>Standard Class</td>\n",
       "      <td>BH-11710</td>\n",
       "      <td>Brosina Hoffman</td>\n",
       "      <td>Consumer</td>\n",
       "      <td>United States</td>\n",
       "      <td>Los Angeles</td>\n",
       "      <td>...</td>\n",
       "      <td>TEC-PH-10002275</td>\n",
       "      <td>Technology</td>\n",
       "      <td>Phones</td>\n",
       "      <td>Mitel 5320 IP Phone VoIP phone</td>\n",
       "      <td>907.1520</td>\n",
       "      <td>6</td>\n",
       "      <td>0.20</td>\n",
       "      <td>90.7152</td>\n",
       "      <td>NO</td>\n",
       "      <td>Anna Andreadi</td>\n",
       "    </tr>\n",
       "    <tr>\n",
       "      <th>8</th>\n",
       "      <td>9</td>\n",
       "      <td>CA-2014-115812</td>\n",
       "      <td>2014-06-09</td>\n",
       "      <td>2014-06-14</td>\n",
       "      <td>Standard Class</td>\n",
       "      <td>BH-11710</td>\n",
       "      <td>Brosina Hoffman</td>\n",
       "      <td>Consumer</td>\n",
       "      <td>United States</td>\n",
       "      <td>Los Angeles</td>\n",
       "      <td>...</td>\n",
       "      <td>OFF-BI-10003910</td>\n",
       "      <td>Office Supplies</td>\n",
       "      <td>Binders</td>\n",
       "      <td>DXL Angle-View Binders with Locking Rings by S...</td>\n",
       "      <td>18.5040</td>\n",
       "      <td>3</td>\n",
       "      <td>0.20</td>\n",
       "      <td>5.7825</td>\n",
       "      <td>NO</td>\n",
       "      <td>Anna Andreadi</td>\n",
       "    </tr>\n",
       "    <tr>\n",
       "      <th>9</th>\n",
       "      <td>10</td>\n",
       "      <td>CA-2014-115812</td>\n",
       "      <td>2014-06-09</td>\n",
       "      <td>2014-06-14</td>\n",
       "      <td>Standard Class</td>\n",
       "      <td>BH-11710</td>\n",
       "      <td>Brosina Hoffman</td>\n",
       "      <td>Consumer</td>\n",
       "      <td>United States</td>\n",
       "      <td>Los Angeles</td>\n",
       "      <td>...</td>\n",
       "      <td>OFF-AP-10002892</td>\n",
       "      <td>Office Supplies</td>\n",
       "      <td>Appliances</td>\n",
       "      <td>Belkin F5C206VTEL 6 Outlet Surge</td>\n",
       "      <td>114.9000</td>\n",
       "      <td>5</td>\n",
       "      <td>0.00</td>\n",
       "      <td>34.4700</td>\n",
       "      <td>NO</td>\n",
       "      <td>Anna Andreadi</td>\n",
       "    </tr>\n",
       "  </tbody>\n",
       "</table>\n",
       "<p>10 rows × 23 columns</p>\n",
       "</div>"
      ],
      "text/plain": [
       "   Row ID        Order ID  Order Date   Ship Date       Ship Mode Customer ID  \\\n",
       "0       1  CA-2016-152156  2016-11-08  2016-11-11    Second Class    CG-12520   \n",
       "1       2  CA-2016-152156  2016-11-08  2016-11-11    Second Class    CG-12520   \n",
       "2       3  CA-2016-138688  2016-06-12  2016-06-16    Second Class    DV-13045   \n",
       "3       4  US-2015-108966  2015-10-11  2015-10-18  Standard Class    SO-20335   \n",
       "4       5  US-2015-108966  2015-10-11  2015-10-18  Standard Class    SO-20335   \n",
       "5       6  CA-2014-115812  2014-06-09  2014-06-14  Standard Class    BH-11710   \n",
       "6       7  CA-2014-115812  2014-06-09  2014-06-14  Standard Class    BH-11710   \n",
       "7       8  CA-2014-115812  2014-06-09  2014-06-14  Standard Class    BH-11710   \n",
       "8       9  CA-2014-115812  2014-06-09  2014-06-14  Standard Class    BH-11710   \n",
       "9      10  CA-2014-115812  2014-06-09  2014-06-14  Standard Class    BH-11710   \n",
       "\n",
       "     Customer Name    Segment        Country             City  ...  \\\n",
       "0      Claire Gute   Consumer  United States        Henderson  ...   \n",
       "1      Claire Gute   Consumer  United States        Henderson  ...   \n",
       "2  Darrin Van Huff  Corporate  United States      Los Angeles  ...   \n",
       "3   Sean O'Donnell   Consumer  United States  Fort Lauderdale  ...   \n",
       "4   Sean O'Donnell   Consumer  United States  Fort Lauderdale  ...   \n",
       "5  Brosina Hoffman   Consumer  United States      Los Angeles  ...   \n",
       "6  Brosina Hoffman   Consumer  United States      Los Angeles  ...   \n",
       "7  Brosina Hoffman   Consumer  United States      Los Angeles  ...   \n",
       "8  Brosina Hoffman   Consumer  United States      Los Angeles  ...   \n",
       "9  Brosina Hoffman   Consumer  United States      Los Angeles  ...   \n",
       "\n",
       "        Product ID         Category Sub-Category  \\\n",
       "0  FUR-BO-10001798        Furniture    Bookcases   \n",
       "1  FUR-CH-10000454        Furniture       Chairs   \n",
       "2  OFF-LA-10000240  Office Supplies       Labels   \n",
       "3  FUR-TA-10000577        Furniture       Tables   \n",
       "4  OFF-ST-10000760  Office Supplies      Storage   \n",
       "5  FUR-FU-10001487        Furniture  Furnishings   \n",
       "6  OFF-AR-10002833  Office Supplies          Art   \n",
       "7  TEC-PH-10002275       Technology       Phones   \n",
       "8  OFF-BI-10003910  Office Supplies      Binders   \n",
       "9  OFF-AP-10002892  Office Supplies   Appliances   \n",
       "\n",
       "                                        Product Name     Sales Quantity  \\\n",
       "0                  Bush Somerset Collection Bookcase  261.9600        2   \n",
       "1  Hon Deluxe Fabric Upholstered Stacking Chairs,...  731.9400        3   \n",
       "2  Self-Adhesive Address Labels for Typewriters b...   14.6200        2   \n",
       "3      Bretford CR4500 Series Slim Rectangular Table  957.5775        5   \n",
       "4                     Eldon Fold 'N Roll Cart System   22.3680        2   \n",
       "5  Eldon Expressions Wood and Plastic Desk Access...   48.8600        7   \n",
       "6                                         Newell 322    7.2800        4   \n",
       "7                     Mitel 5320 IP Phone VoIP phone  907.1520        6   \n",
       "8  DXL Angle-View Binders with Locking Rings by S...   18.5040        3   \n",
       "9                   Belkin F5C206VTEL 6 Outlet Surge  114.9000        5   \n",
       "\n",
       "  Discount    Profit  Returned             Person  \n",
       "0     0.00   41.9136        NO  Cassandra Brandow  \n",
       "1     0.00  219.5820        NO  Cassandra Brandow  \n",
       "2     0.00    6.8714        NO      Anna Andreadi  \n",
       "3     0.45 -383.0310        NO  Cassandra Brandow  \n",
       "4     0.20    2.5164        NO  Cassandra Brandow  \n",
       "5     0.00   14.1694        NO      Anna Andreadi  \n",
       "6     0.00    1.9656        NO      Anna Andreadi  \n",
       "7     0.20   90.7152        NO      Anna Andreadi  \n",
       "8     0.20    5.7825        NO      Anna Andreadi  \n",
       "9     0.00   34.4700        NO      Anna Andreadi  \n",
       "\n",
       "[10 rows x 23 columns]"
      ]
     },
     "execution_count": 6,
     "metadata": {},
     "output_type": "execute_result"
    }
   ],
   "source": [
    "store_data_filename = os.path.join(processed_dir, \"SuperStore-Cleaned.csv\")\n",
    "super_df = pd.read_csv(store_data_filename)\n",
    "super_df.head(10)"
   ]
  },
  {
   "cell_type": "markdown",
   "id": "0d28448f-d834-42c6-9ad5-d83a7890eaba",
   "metadata": {},
   "source": [
    "## check the shape of the dataset and data types"
   ]
  },
  {
   "cell_type": "code",
   "execution_count": 4,
   "id": "adb6002e-dad7-4657-9048-a4e549b6b368",
   "metadata": {},
   "outputs": [
    {
     "data": {
      "text/plain": [
       "(9994, 23)"
      ]
     },
     "execution_count": 4,
     "metadata": {},
     "output_type": "execute_result"
    }
   ],
   "source": [
    "super_df.shape"
   ]
  },
  {
   "cell_type": "code",
   "execution_count": 5,
   "id": "8657b72f-9951-443c-9c6a-90569d8c0112",
   "metadata": {},
   "outputs": [
    {
     "name": "stdout",
     "output_type": "stream",
     "text": [
      "<class 'pandas.core.frame.DataFrame'>\n",
      "RangeIndex: 9994 entries, 0 to 9993\n",
      "Data columns (total 23 columns):\n",
      " #   Column         Non-Null Count  Dtype  \n",
      "---  ------         --------------  -----  \n",
      " 0   Row ID         9994 non-null   int64  \n",
      " 1   Order ID       9994 non-null   object \n",
      " 2   Order Date     9994 non-null   object \n",
      " 3   Ship Date      9994 non-null   object \n",
      " 4   Ship Mode      9994 non-null   object \n",
      " 5   Customer ID    9994 non-null   object \n",
      " 6   Customer Name  9994 non-null   object \n",
      " 7   Segment        9994 non-null   object \n",
      " 8   Country        9994 non-null   object \n",
      " 9   City           9994 non-null   object \n",
      " 10  State          9994 non-null   object \n",
      " 11  Postal Code    9994 non-null   int64  \n",
      " 12  Region         9994 non-null   object \n",
      " 13  Product ID     9994 non-null   object \n",
      " 14  Category       9994 non-null   object \n",
      " 15  Sub-Category   9994 non-null   object \n",
      " 16  Product Name   9994 non-null   object \n",
      " 17  Sales          9994 non-null   float64\n",
      " 18  Quantity       9994 non-null   int64  \n",
      " 19  Discount       9994 non-null   float64\n",
      " 20  Profit         9994 non-null   float64\n",
      " 21  Returned       9994 non-null   object \n",
      " 22  Person         9994 non-null   object \n",
      "dtypes: float64(3), int64(3), object(17)\n",
      "memory usage: 1.8+ MB\n"
     ]
    }
   ],
   "source": [
    "super_df.info()"
   ]
  },
  {
   "cell_type": "markdown",
   "id": "4a188359-784a-4af2-b22a-9ba8478dc93a",
   "metadata": {},
   "source": [
    "## Summary Statistics"
   ]
  },
  {
   "cell_type": "markdown",
   "id": "6c752127-cae6-4e1a-9495-a06a69e746a7",
   "metadata": {},
   "source": [
    "## Numerical Variables"
   ]
  },
  {
   "cell_type": "code",
   "execution_count": 6,
   "id": "6ff54b13-e046-48f5-a919-600c5cf491a3",
   "metadata": {},
   "outputs": [
    {
     "data": {
      "text/html": [
       "<div>\n",
       "<style scoped>\n",
       "    .dataframe tbody tr th:only-of-type {\n",
       "        vertical-align: middle;\n",
       "    }\n",
       "\n",
       "    .dataframe tbody tr th {\n",
       "        vertical-align: top;\n",
       "    }\n",
       "\n",
       "    .dataframe thead th {\n",
       "        text-align: right;\n",
       "    }\n",
       "</style>\n",
       "<table border=\"1\" class=\"dataframe\">\n",
       "  <thead>\n",
       "    <tr style=\"text-align: right;\">\n",
       "      <th></th>\n",
       "      <th>Row ID</th>\n",
       "      <th>Postal Code</th>\n",
       "      <th>Sales</th>\n",
       "      <th>Quantity</th>\n",
       "      <th>Discount</th>\n",
       "      <th>Profit</th>\n",
       "    </tr>\n",
       "  </thead>\n",
       "  <tbody>\n",
       "    <tr>\n",
       "      <th>count</th>\n",
       "      <td>9994.000000</td>\n",
       "      <td>9994.000000</td>\n",
       "      <td>9994.000000</td>\n",
       "      <td>9994.000000</td>\n",
       "      <td>9994.000000</td>\n",
       "      <td>9994.000000</td>\n",
       "    </tr>\n",
       "    <tr>\n",
       "      <th>mean</th>\n",
       "      <td>4997.500000</td>\n",
       "      <td>55190.379428</td>\n",
       "      <td>229.858001</td>\n",
       "      <td>3.789574</td>\n",
       "      <td>0.156203</td>\n",
       "      <td>28.656896</td>\n",
       "    </tr>\n",
       "    <tr>\n",
       "      <th>std</th>\n",
       "      <td>2885.163629</td>\n",
       "      <td>32063.693350</td>\n",
       "      <td>623.245101</td>\n",
       "      <td>2.225110</td>\n",
       "      <td>0.206452</td>\n",
       "      <td>234.260108</td>\n",
       "    </tr>\n",
       "    <tr>\n",
       "      <th>min</th>\n",
       "      <td>1.000000</td>\n",
       "      <td>1040.000000</td>\n",
       "      <td>0.444000</td>\n",
       "      <td>1.000000</td>\n",
       "      <td>0.000000</td>\n",
       "      <td>-6599.978000</td>\n",
       "    </tr>\n",
       "    <tr>\n",
       "      <th>25%</th>\n",
       "      <td>2499.250000</td>\n",
       "      <td>23223.000000</td>\n",
       "      <td>17.280000</td>\n",
       "      <td>2.000000</td>\n",
       "      <td>0.000000</td>\n",
       "      <td>1.728750</td>\n",
       "    </tr>\n",
       "    <tr>\n",
       "      <th>50%</th>\n",
       "      <td>4997.500000</td>\n",
       "      <td>56430.500000</td>\n",
       "      <td>54.490000</td>\n",
       "      <td>3.000000</td>\n",
       "      <td>0.200000</td>\n",
       "      <td>8.666500</td>\n",
       "    </tr>\n",
       "    <tr>\n",
       "      <th>75%</th>\n",
       "      <td>7495.750000</td>\n",
       "      <td>90008.000000</td>\n",
       "      <td>209.940000</td>\n",
       "      <td>5.000000</td>\n",
       "      <td>0.200000</td>\n",
       "      <td>29.364000</td>\n",
       "    </tr>\n",
       "    <tr>\n",
       "      <th>max</th>\n",
       "      <td>9994.000000</td>\n",
       "      <td>99301.000000</td>\n",
       "      <td>22638.480000</td>\n",
       "      <td>14.000000</td>\n",
       "      <td>0.800000</td>\n",
       "      <td>8399.976000</td>\n",
       "    </tr>\n",
       "  </tbody>\n",
       "</table>\n",
       "</div>"
      ],
      "text/plain": [
       "            Row ID   Postal Code         Sales     Quantity     Discount  \\\n",
       "count  9994.000000   9994.000000   9994.000000  9994.000000  9994.000000   \n",
       "mean   4997.500000  55190.379428    229.858001     3.789574     0.156203   \n",
       "std    2885.163629  32063.693350    623.245101     2.225110     0.206452   \n",
       "min       1.000000   1040.000000      0.444000     1.000000     0.000000   \n",
       "25%    2499.250000  23223.000000     17.280000     2.000000     0.000000   \n",
       "50%    4997.500000  56430.500000     54.490000     3.000000     0.200000   \n",
       "75%    7495.750000  90008.000000    209.940000     5.000000     0.200000   \n",
       "max    9994.000000  99301.000000  22638.480000    14.000000     0.800000   \n",
       "\n",
       "            Profit  \n",
       "count  9994.000000  \n",
       "mean     28.656896  \n",
       "std     234.260108  \n",
       "min   -6599.978000  \n",
       "25%       1.728750  \n",
       "50%       8.666500  \n",
       "75%      29.364000  \n",
       "max    8399.976000  "
      ]
     },
     "execution_count": 6,
     "metadata": {},
     "output_type": "execute_result"
    }
   ],
   "source": [
    "super_df.describe()"
   ]
  },
  {
   "cell_type": "markdown",
   "id": "b30d287f-c533-47d0-9c03-b4d7ccc5cced",
   "metadata": {},
   "source": [
    "## Categorical Variables"
   ]
  },
  {
   "cell_type": "code",
   "execution_count": 7,
   "id": "0c0188d4-26e8-418e-aaf6-5501b9551bd2",
   "metadata": {},
   "outputs": [
    {
     "data": {
      "text/html": [
       "<div>\n",
       "<style scoped>\n",
       "    .dataframe tbody tr th:only-of-type {\n",
       "        vertical-align: middle;\n",
       "    }\n",
       "\n",
       "    .dataframe tbody tr th {\n",
       "        vertical-align: top;\n",
       "    }\n",
       "\n",
       "    .dataframe thead th {\n",
       "        text-align: right;\n",
       "    }\n",
       "</style>\n",
       "<table border=\"1\" class=\"dataframe\">\n",
       "  <thead>\n",
       "    <tr style=\"text-align: right;\">\n",
       "      <th></th>\n",
       "      <th>Order ID</th>\n",
       "      <th>Order Date</th>\n",
       "      <th>Ship Date</th>\n",
       "      <th>Ship Mode</th>\n",
       "      <th>Customer ID</th>\n",
       "      <th>Customer Name</th>\n",
       "      <th>Segment</th>\n",
       "      <th>Country</th>\n",
       "      <th>City</th>\n",
       "      <th>State</th>\n",
       "      <th>Region</th>\n",
       "      <th>Product ID</th>\n",
       "      <th>Category</th>\n",
       "      <th>Sub-Category</th>\n",
       "      <th>Product Name</th>\n",
       "      <th>Returned</th>\n",
       "      <th>Person</th>\n",
       "    </tr>\n",
       "  </thead>\n",
       "  <tbody>\n",
       "    <tr>\n",
       "      <th>count</th>\n",
       "      <td>9994</td>\n",
       "      <td>9994</td>\n",
       "      <td>9994</td>\n",
       "      <td>9994</td>\n",
       "      <td>9994</td>\n",
       "      <td>9994</td>\n",
       "      <td>9994</td>\n",
       "      <td>9994</td>\n",
       "      <td>9994</td>\n",
       "      <td>9994</td>\n",
       "      <td>9994</td>\n",
       "      <td>9994</td>\n",
       "      <td>9994</td>\n",
       "      <td>9994</td>\n",
       "      <td>9994</td>\n",
       "      <td>9994</td>\n",
       "      <td>9994</td>\n",
       "    </tr>\n",
       "    <tr>\n",
       "      <th>unique</th>\n",
       "      <td>5009</td>\n",
       "      <td>1237</td>\n",
       "      <td>1334</td>\n",
       "      <td>4</td>\n",
       "      <td>793</td>\n",
       "      <td>793</td>\n",
       "      <td>3</td>\n",
       "      <td>1</td>\n",
       "      <td>531</td>\n",
       "      <td>49</td>\n",
       "      <td>4</td>\n",
       "      <td>1862</td>\n",
       "      <td>3</td>\n",
       "      <td>17</td>\n",
       "      <td>1850</td>\n",
       "      <td>2</td>\n",
       "      <td>4</td>\n",
       "    </tr>\n",
       "    <tr>\n",
       "      <th>top</th>\n",
       "      <td>CA-2017-100111</td>\n",
       "      <td>2016-09-05</td>\n",
       "      <td>2015-12-16</td>\n",
       "      <td>Standard Class</td>\n",
       "      <td>WB-21850</td>\n",
       "      <td>William Brown</td>\n",
       "      <td>Consumer</td>\n",
       "      <td>United States</td>\n",
       "      <td>New York City</td>\n",
       "      <td>California</td>\n",
       "      <td>West</td>\n",
       "      <td>OFF-PA-10001970</td>\n",
       "      <td>Office Supplies</td>\n",
       "      <td>Binders</td>\n",
       "      <td>Staple envelope</td>\n",
       "      <td>NO</td>\n",
       "      <td>Anna Andreadi</td>\n",
       "    </tr>\n",
       "    <tr>\n",
       "      <th>freq</th>\n",
       "      <td>14</td>\n",
       "      <td>38</td>\n",
       "      <td>35</td>\n",
       "      <td>5968</td>\n",
       "      <td>37</td>\n",
       "      <td>37</td>\n",
       "      <td>5191</td>\n",
       "      <td>9994</td>\n",
       "      <td>915</td>\n",
       "      <td>2001</td>\n",
       "      <td>3203</td>\n",
       "      <td>19</td>\n",
       "      <td>6026</td>\n",
       "      <td>1523</td>\n",
       "      <td>48</td>\n",
       "      <td>9194</td>\n",
       "      <td>3203</td>\n",
       "    </tr>\n",
       "  </tbody>\n",
       "</table>\n",
       "</div>"
      ],
      "text/plain": [
       "              Order ID  Order Date   Ship Date       Ship Mode Customer ID  \\\n",
       "count             9994        9994        9994            9994        9994   \n",
       "unique            5009        1237        1334               4         793   \n",
       "top     CA-2017-100111  2016-09-05  2015-12-16  Standard Class    WB-21850   \n",
       "freq                14          38          35            5968          37   \n",
       "\n",
       "        Customer Name   Segment        Country           City       State  \\\n",
       "count            9994      9994           9994           9994        9994   \n",
       "unique            793         3              1            531          49   \n",
       "top     William Brown  Consumer  United States  New York City  California   \n",
       "freq               37      5191           9994            915        2001   \n",
       "\n",
       "       Region       Product ID         Category Sub-Category     Product Name  \\\n",
       "count    9994             9994             9994         9994             9994   \n",
       "unique      4             1862                3           17             1850   \n",
       "top      West  OFF-PA-10001970  Office Supplies      Binders  Staple envelope   \n",
       "freq     3203               19             6026         1523               48   \n",
       "\n",
       "       Returned         Person  \n",
       "count      9994           9994  \n",
       "unique        2              4  \n",
       "top          NO  Anna Andreadi  \n",
       "freq       9194           3203  "
      ]
     },
     "execution_count": 7,
     "metadata": {},
     "output_type": "execute_result"
    }
   ],
   "source": [
    "super_df.describe(include='object')"
   ]
  },
  {
   "cell_type": "code",
   "execution_count": 8,
   "id": "0fef47f6-1197-4ae6-8d37-7bd37974ad68",
   "metadata": {},
   "outputs": [
    {
     "data": {
      "text/plain": [
       "Ship Mode\n",
       "Standard Class    0.597158\n",
       "Second Class      0.194617\n",
       "First Class       0.153892\n",
       "Same Day          0.054333\n",
       "Name: proportion, dtype: float64"
      ]
     },
     "execution_count": 8,
     "metadata": {},
     "output_type": "execute_result"
    }
   ],
   "source": [
    "super_df['Ship Mode'].value_counts(normalize=True)"
   ]
  },
  {
   "cell_type": "code",
   "execution_count": 9,
   "id": "d4355b36-fb11-4b52-bef7-cfbd392e87f5",
   "metadata": {},
   "outputs": [
    {
     "data": {
      "text/plain": [
       "Segment\n",
       "Consumer       0.519412\n",
       "Corporate      0.302181\n",
       "Home Office    0.178407\n",
       "Name: proportion, dtype: float64"
      ]
     },
     "execution_count": 9,
     "metadata": {},
     "output_type": "execute_result"
    }
   ],
   "source": [
    "super_df['Segment'].value_counts(normalize=True)"
   ]
  },
  {
   "cell_type": "code",
   "execution_count": 10,
   "id": "7e9c94f6-3c07-4ffd-a4ca-d40d3c21db08",
   "metadata": {},
   "outputs": [
    {
     "data": {
      "text/plain": [
       "City\n",
       "New York City      0.091555\n",
       "Los Angeles        0.074745\n",
       "Philadelphia       0.053732\n",
       "San Francisco      0.051031\n",
       "Seattle            0.042826\n",
       "                     ...   \n",
       "Glenview           0.000100\n",
       "Missouri City      0.000100\n",
       "Rochester Hills    0.000100\n",
       "Palatine           0.000100\n",
       "Manhattan          0.000100\n",
       "Name: proportion, Length: 531, dtype: float64"
      ]
     },
     "execution_count": 10,
     "metadata": {},
     "output_type": "execute_result"
    }
   ],
   "source": [
    "super_df['City'].value_counts(normalize=True)"
   ]
  },
  {
   "cell_type": "code",
   "execution_count": 11,
   "id": "d052ed16-4e60-45cc-9aa3-e4e1877af571",
   "metadata": {},
   "outputs": [
    {
     "data": {
      "text/plain": [
       "Region\n",
       "West       0.320492\n",
       "East       0.284971\n",
       "Central    0.232439\n",
       "South      0.162097\n",
       "Name: proportion, dtype: float64"
      ]
     },
     "execution_count": 11,
     "metadata": {},
     "output_type": "execute_result"
    }
   ],
   "source": [
    "super_df['Region'].value_counts(normalize=True)"
   ]
  },
  {
   "cell_type": "code",
   "execution_count": 12,
   "id": "8b9b5f28-abd8-47ed-8b79-7c378e632fab",
   "metadata": {},
   "outputs": [
    {
     "data": {
      "text/plain": [
       "Sub-Category\n",
       "Binders        0.152391\n",
       "Paper          0.137082\n",
       "Furnishings    0.095757\n",
       "Phones         0.088953\n",
       "Storage        0.084651\n",
       "Art            0.079648\n",
       "Accessories    0.077547\n",
       "Chairs         0.061737\n",
       "Appliances     0.046628\n",
       "Labels         0.036422\n",
       "Tables         0.031919\n",
       "Envelopes      0.025415\n",
       "Bookcases      0.022814\n",
       "Fasteners      0.021713\n",
       "Supplies       0.019011\n",
       "Machines       0.011507\n",
       "Copiers        0.006804\n",
       "Name: proportion, dtype: float64"
      ]
     },
     "execution_count": 12,
     "metadata": {},
     "output_type": "execute_result"
    }
   ],
   "source": [
    "super_df['Sub-Category'].value_counts(normalize=True)"
   ]
  },
  {
   "cell_type": "markdown",
   "id": "5601e81e-4292-4e02-a697-62796b39c40b",
   "metadata": {},
   "source": [
    "# Category Distribution "
   ]
  },
  {
   "cell_type": "code",
   "execution_count": 12,
   "id": "01764bef-532b-479a-bbe2-cf1e90a942e7",
   "metadata": {},
   "outputs": [
    {
     "data": {
      "text/html": [
       "<div>\n",
       "<style scoped>\n",
       "    .dataframe tbody tr th:only-of-type {\n",
       "        vertical-align: middle;\n",
       "    }\n",
       "\n",
       "    .dataframe tbody tr th {\n",
       "        vertical-align: top;\n",
       "    }\n",
       "\n",
       "    .dataframe thead th {\n",
       "        text-align: right;\n",
       "    }\n",
       "</style>\n",
       "<table border=\"1\" class=\"dataframe\">\n",
       "  <thead>\n",
       "    <tr style=\"text-align: right;\">\n",
       "      <th></th>\n",
       "      <th>Category</th>\n",
       "      <th>total</th>\n",
       "    </tr>\n",
       "  </thead>\n",
       "  <tbody>\n",
       "    <tr>\n",
       "      <th>0</th>\n",
       "      <td>Furniture</td>\n",
       "      <td>2121</td>\n",
       "    </tr>\n",
       "    <tr>\n",
       "      <th>1</th>\n",
       "      <td>Office Supplies</td>\n",
       "      <td>6026</td>\n",
       "    </tr>\n",
       "    <tr>\n",
       "      <th>2</th>\n",
       "      <td>Technology</td>\n",
       "      <td>1847</td>\n",
       "    </tr>\n",
       "  </tbody>\n",
       "</table>\n",
       "</div>"
      ],
      "text/plain": [
       "          Category  total\n",
       "0        Furniture   2121\n",
       "1  Office Supplies   6026\n",
       "2       Technology   1847"
      ]
     },
     "execution_count": 12,
     "metadata": {},
     "output_type": "execute_result"
    }
   ],
   "source": [
    "super_df_category = super_df.groupby('Category').size().reset_index(name = 'total')\n",
    "super_df_category"
   ]
  },
  {
   "cell_type": "code",
   "execution_count": 13,
   "id": "83bdc6a1-ecc6-4e89-9eb5-df7f8ea705e6",
   "metadata": {},
   "outputs": [
    {
     "data": {
      "application/vnd.plotly.v1+json": {
       "config": {
        "plotlyServerURL": "https://plot.ly"
       },
       "data": [
        {
         "domain": {
          "x": [
           0,
           1
          ],
          "y": [
           0,
           1
          ]
         },
         "hovertemplate": "Category=%{label}<br>total=%{value}<extra></extra>",
         "labels": [
          "Furniture",
          "Office Supplies",
          "Technology"
         ],
         "legendgroup": "",
         "name": "",
         "showlegend": true,
         "type": "pie",
         "values": {
          "_inputArray": {
           "0": 2121,
           "1": 6026,
           "2": 1847,
           "bdata": "SQiKFzcH",
           "dtype": "i2",
           "shape": "3"
          },
          "bdata": "SQiKFzcH",
          "dtype": "i2"
         }
        }
       ],
       "layout": {
        "autosize": true,
        "legend": {
         "tracegroupgap": 0
        },
        "paper_bgcolor": "rgba(0, 0, 0, 0)",
        "piecolorway": [
         "darkcyan",
         "skyblue",
         "#82EEFD"
        ],
        "plot_bgcolor": "rgba(0, 0, 0, 0)",
        "template": {
         "data": {
          "pie": [
           {
            "automargin": true,
            "type": "pie"
           }
          ],
          "scatter": [
           {
            "line": {
             "width": 3
            },
            "marker": {
             "size": 9
            },
            "type": "scatter"
           }
          ],
          "scatter3d": [
           {
            "line": {
             "width": 3
            },
            "marker": {
             "size": 9
            },
            "type": "scatter3d"
           }
          ],
          "scattergeo": [
           {
            "line": {
             "width": 3
            },
            "marker": {
             "size": 9
            },
            "type": "scattergeo"
           }
          ],
          "scattergl": [
           {
            "line": {
             "width": 3
            },
            "marker": {
             "size": 9
            },
            "type": "scattergl"
           }
          ],
          "scatterpolar": [
           {
            "line": {
             "width": 3
            },
            "marker": {
             "size": 9
            },
            "type": "scatterpolar"
           }
          ],
          "scatterpolargl": [
           {
            "line": {
             "width": 3
            },
            "marker": {
             "size": 9
            },
            "type": "scatterpolargl"
           }
          ],
          "scatterternary": [
           {
            "line": {
             "width": 3
            },
            "marker": {
             "size": 9
            },
            "type": "scatterternary"
           }
          ],
          "table": [
           {
            "cells": {
             "height": 30
            },
            "header": {
             "height": 36
            },
            "type": "table"
           }
          ]
         },
         "layout": {
          "font": {
           "size": 18
          },
          "xaxis": {
           "title": {
            "standoff": 15
           }
          },
          "yaxis": {
           "title": {
            "standoff": 15
           }
          }
         }
        },
        "title": {
         "text": "Overall Category Distribution"
        }
       }
      },
      "image/png": "[encoded data removed]"
     },
     "metadata": {},
     "output_type": "display_data"
    }
   ],
   "source": [
    "fig = px.pie(super_df_category, names='Category', values='total', title='Overall Category Distribution', \n",
    "             color_discrete_sequence=['darkcyan','skyblue','#82EEFD'])\n",
    "fig.update_layout(template=\"presentation\", paper_bgcolor=\"rgba(0, 0, 0, 0)\", plot_bgcolor =\"rgba(0, 0, 0, 0)\")\n",
    "fig.show()\n",
    "fig.write_image(os.path.join(results_dir,'distribution_category_pie_chart.jpg'))\n",
    "fig.write_image(os.path.join(results_dir,'distribution_category_pie_chart.png'))\n",
    "fig.write_html(os.path.join(results_dir,'distribution_category_pie_chart.html'))"
   ]
  },
  {
   "cell_type": "markdown",
   "id": "ea6023b2-0eac-4eb3-94b8-4e58261e012c",
   "metadata": {},
   "source": [
    "## Sales Distribution by Category"
   ]
  },
  {
   "cell_type": "code",
   "execution_count": 14,
   "id": "e4ba6eb2-ae4c-415b-881d-e7c09bcf1afb",
   "metadata": {},
   "outputs": [
    {
     "data": {
      "text/html": [
       "<div>\n",
       "<style scoped>\n",
       "    .dataframe tbody tr th:only-of-type {\n",
       "        vertical-align: middle;\n",
       "    }\n",
       "\n",
       "    .dataframe tbody tr th {\n",
       "        vertical-align: top;\n",
       "    }\n",
       "\n",
       "    .dataframe thead th {\n",
       "        text-align: right;\n",
       "    }\n",
       "</style>\n",
       "<table border=\"1\" class=\"dataframe\">\n",
       "  <thead>\n",
       "    <tr style=\"text-align: right;\">\n",
       "      <th></th>\n",
       "      <th>Category</th>\n",
       "      <th>Sales</th>\n",
       "    </tr>\n",
       "  </thead>\n",
       "  <tbody>\n",
       "    <tr>\n",
       "      <th>0</th>\n",
       "      <td>Furniture</td>\n",
       "      <td>741999.7953</td>\n",
       "    </tr>\n",
       "    <tr>\n",
       "      <th>1</th>\n",
       "      <td>Office Supplies</td>\n",
       "      <td>719047.0320</td>\n",
       "    </tr>\n",
       "    <tr>\n",
       "      <th>2</th>\n",
       "      <td>Technology</td>\n",
       "      <td>836154.0330</td>\n",
       "    </tr>\n",
       "  </tbody>\n",
       "</table>\n",
       "</div>"
      ],
      "text/plain": [
       "          Category        Sales\n",
       "0        Furniture  741999.7953\n",
       "1  Office Supplies  719047.0320\n",
       "2       Technology  836154.0330"
      ]
     },
     "execution_count": 14,
     "metadata": {},
     "output_type": "execute_result"
    }
   ],
   "source": [
    "sales_by_category = super_df.groupby('Category')['Sales'].sum().reset_index()\n",
    "sales_by_category "
   ]
  },
  {
   "cell_type": "code",
   "execution_count": 62,
   "id": "07fc6103-d226-417e-89cf-0e1e9329a060",
   "metadata": {},
   "outputs": [
    {
     "data": {
      "application/vnd.plotly.v1+json": {
       "config": {
        "plotlyServerURL": "https://plot.ly"
       },
       "data": [
        {
         "domain": {
          "x": [
           0,
           1
          ],
          "y": [
           0,
           1
          ]
         },
         "hovertemplate": "Category=%{label}<br>Sales=%{value}<extra></extra>",
         "labels": [
          "Furniture",
          "Office Supplies",
          "Technology"
         ],
         "legendgroup": "",
         "name": "",
         "showlegend": true,
         "type": "pie",
         "values": {
          "_inputArray": {
           "0": 741999.7953,
           "1": 719047.032,
           "2": 836154.033,
           "bdata": "xY8xl9+kJkHTTWIQjvElQUJg5RB0hClB",
           "dtype": "f8",
           "shape": "3"
          },
          "bdata": "xY8xl9+kJkHTTWIQjvElQUJg5RB0hClB",
          "dtype": "f8"
         }
        }
       ],
       "layout": {
        "autosize": true,
        "legend": {
         "tracegroupgap": 0
        },
        "paper_bgcolor": "rgba(0, 0, 0, 0)",
        "piecolorway": [
         "darkcyan",
         "skyblue",
         "#82EEFD"
        ],
        "plot_bgcolor": "rgba(0, 0, 0, 0)",
        "template": {
         "data": {
          "pie": [
           {
            "automargin": true,
            "type": "pie"
           }
          ],
          "scatter": [
           {
            "line": {
             "width": 3
            },
            "marker": {
             "size": 9
            },
            "type": "scatter"
           }
          ],
          "scatter3d": [
           {
            "line": {
             "width": 3
            },
            "marker": {
             "size": 9
            },
            "type": "scatter3d"
           }
          ],
          "scattergeo": [
           {
            "line": {
             "width": 3
            },
            "marker": {
             "size": 9
            },
            "type": "scattergeo"
           }
          ],
          "scattergl": [
           {
            "line": {
             "width": 3
            },
            "marker": {
             "size": 9
            },
            "type": "scattergl"
           }
          ],
          "scatterpolar": [
           {
            "line": {
             "width": 3
            },
            "marker": {
             "size": 9
            },
            "type": "scatterpolar"
           }
          ],
          "scatterpolargl": [
           {
            "line": {
             "width": 3
            },
            "marker": {
             "size": 9
            },
            "type": "scatterpolargl"
           }
          ],
          "scatterternary": [
           {
            "line": {
             "width": 3
            },
            "marker": {
             "size": 9
            },
            "type": "scatterternary"
           }
          ],
          "table": [
           {
            "cells": {
             "height": 30
            },
            "header": {
             "height": 36
            },
            "type": "table"
           }
          ]
         },
         "layout": {
          "font": {
           "size": 18
          },
          "xaxis": {
           "title": {
            "standoff": 15
           }
          },
          "yaxis": {
           "title": {
            "standoff": 15
           }
          }
         }
        },
        "title": {
         "text": "Sales Distribution by Category"
        }
       }
      },
      "image/png": "[encoded data removed]"
     },
     "metadata": {},
     "output_type": "display_data"
    }
   ],
   "source": [
    "fig = px.pie(sales_by_category, names='Category', values='Sales', title='Sales Distribution by Category', \n",
    "             color_discrete_sequence=['darkcyan','skyblue','#82EEFD'])\n",
    "fig.update_layout(template=\"presentation\", paper_bgcolor=\"rgba(0, 0, 0, 0)\", plot_bgcolor =\"rgba(0, 0, 0, 0)\")\n",
    "fig.show()\n",
    "fig.write_image(os.path.join(results_dir,'sales_distribution_category_pie_chart.jpg'))\n",
    "fig.write_image(os.path.join(results_dir,'sales_distribution_category_pie_chart.png'))\n",
    "fig.write_html(os.path.join(results_dir,'sales_distribution_category_pie_chart.html'))"
   ]
  },
  {
   "cell_type": "markdown",
   "id": "10a144d7-21bd-4a46-8537-cf827adfd584",
   "metadata": {},
   "source": [
    "## Sales Distribution by Sub-Category"
   ]
  },
  {
   "cell_type": "code",
   "execution_count": 16,
   "id": "a9a18a88-de33-41dd-a25f-9fb709bfff51",
   "metadata": {},
   "outputs": [
    {
     "data": {
      "text/html": [
       "<div>\n",
       "<style scoped>\n",
       "    .dataframe tbody tr th:only-of-type {\n",
       "        vertical-align: middle;\n",
       "    }\n",
       "\n",
       "    .dataframe tbody tr th {\n",
       "        vertical-align: top;\n",
       "    }\n",
       "\n",
       "    .dataframe thead th {\n",
       "        text-align: right;\n",
       "    }\n",
       "</style>\n",
       "<table border=\"1\" class=\"dataframe\">\n",
       "  <thead>\n",
       "    <tr style=\"text-align: right;\">\n",
       "      <th></th>\n",
       "      <th>Sub-Category</th>\n",
       "      <th>Sales</th>\n",
       "    </tr>\n",
       "  </thead>\n",
       "  <tbody>\n",
       "    <tr>\n",
       "      <th>8</th>\n",
       "      <td>Fasteners</td>\n",
       "      <td>3024.2800</td>\n",
       "    </tr>\n",
       "    <tr>\n",
       "      <th>10</th>\n",
       "      <td>Labels</td>\n",
       "      <td>12486.3120</td>\n",
       "    </tr>\n",
       "    <tr>\n",
       "      <th>7</th>\n",
       "      <td>Envelopes</td>\n",
       "      <td>16476.4020</td>\n",
       "    </tr>\n",
       "    <tr>\n",
       "      <th>2</th>\n",
       "      <td>Art</td>\n",
       "      <td>27118.7920</td>\n",
       "    </tr>\n",
       "    <tr>\n",
       "      <th>15</th>\n",
       "      <td>Supplies</td>\n",
       "      <td>46673.5380</td>\n",
       "    </tr>\n",
       "    <tr>\n",
       "      <th>12</th>\n",
       "      <td>Paper</td>\n",
       "      <td>78479.2060</td>\n",
       "    </tr>\n",
       "    <tr>\n",
       "      <th>9</th>\n",
       "      <td>Furnishings</td>\n",
       "      <td>91705.1640</td>\n",
       "    </tr>\n",
       "    <tr>\n",
       "      <th>1</th>\n",
       "      <td>Appliances</td>\n",
       "      <td>107532.1610</td>\n",
       "    </tr>\n",
       "    <tr>\n",
       "      <th>4</th>\n",
       "      <td>Bookcases</td>\n",
       "      <td>114879.9963</td>\n",
       "    </tr>\n",
       "    <tr>\n",
       "      <th>6</th>\n",
       "      <td>Copiers</td>\n",
       "      <td>149528.0300</td>\n",
       "    </tr>\n",
       "    <tr>\n",
       "      <th>0</th>\n",
       "      <td>Accessories</td>\n",
       "      <td>167380.3180</td>\n",
       "    </tr>\n",
       "    <tr>\n",
       "      <th>11</th>\n",
       "      <td>Machines</td>\n",
       "      <td>189238.6310</td>\n",
       "    </tr>\n",
       "    <tr>\n",
       "      <th>3</th>\n",
       "      <td>Binders</td>\n",
       "      <td>203412.7330</td>\n",
       "    </tr>\n",
       "    <tr>\n",
       "      <th>16</th>\n",
       "      <td>Tables</td>\n",
       "      <td>206965.5320</td>\n",
       "    </tr>\n",
       "    <tr>\n",
       "      <th>14</th>\n",
       "      <td>Storage</td>\n",
       "      <td>223843.6080</td>\n",
       "    </tr>\n",
       "    <tr>\n",
       "      <th>5</th>\n",
       "      <td>Chairs</td>\n",
       "      <td>328449.1030</td>\n",
       "    </tr>\n",
       "    <tr>\n",
       "      <th>13</th>\n",
       "      <td>Phones</td>\n",
       "      <td>330007.0540</td>\n",
       "    </tr>\n",
       "  </tbody>\n",
       "</table>\n",
       "</div>"
      ],
      "text/plain": [
       "   Sub-Category        Sales\n",
       "8     Fasteners    3024.2800\n",
       "10       Labels   12486.3120\n",
       "7     Envelopes   16476.4020\n",
       "2           Art   27118.7920\n",
       "15     Supplies   46673.5380\n",
       "12        Paper   78479.2060\n",
       "9   Furnishings   91705.1640\n",
       "1    Appliances  107532.1610\n",
       "4     Bookcases  114879.9963\n",
       "6       Copiers  149528.0300\n",
       "0   Accessories  167380.3180\n",
       "11     Machines  189238.6310\n",
       "3       Binders  203412.7330\n",
       "16       Tables  206965.5320\n",
       "14      Storage  223843.6080\n",
       "5        Chairs  328449.1030\n",
       "13       Phones  330007.0540"
      ]
     },
     "execution_count": 16,
     "metadata": {},
     "output_type": "execute_result"
    }
   ],
   "source": [
    "sales_by_sub_category = super_df.groupby('Sub-Category')['Sales'].sum().reset_index().sort_values(by='Sales', ascending=True)\n",
    "sales_by_sub_category "
   ]
  },
  {
   "cell_type": "code",
   "execution_count": 17,
   "id": "250b0ff0-16b7-4b15-a700-0ffd378f28e2",
   "metadata": {},
   "outputs": [
    {
     "data": {
      "application/vnd.plotly.v1+json": {
       "config": {
        "plotlyServerURL": "https://plot.ly"
       },
       "data": [
        {
         "hovertemplate": "Sales=%{text}<br>Sub-Category=%{y}<extra></extra>",
         "legendgroup": "",
         "marker": {
          "color": "darkcyan",
          "pattern": {
           "shape": ""
          }
         },
         "name": "",
         "orientation": "h",
         "showlegend": false,
         "text": {
          "_inputArray": {
           "0": 3024.28,
           "1": 12486.312,
           "10": 167380.318,
           "11": 189238.631,
           "12": 203412.733,
           "13": 206965.532,
           "14": 223843.608,
           "15": 328449.103,
           "16": 330007.054,
           "2": 16476.402000000002,
           "3": 27118.792,
           "4": 46673.538,
           "5": 78479.206,
           "6": 91705.164,
           "7": 107532.161,
           "8": 114879.9963,
           "9": 149528.03,
           "bdata": "w/UoXI+gp0Atsp3vJ2PIQEA1XroZF9BAnMQgsLJ72kCoxks3McrmQPCnxkvzKPNAyXa+n5Jj9kBqvHSTwkD6QNBE2PD/C/xA16NwPcBAAkGBlUOLom4EQV66SQy1GQdBoBov3aXUCEFMN4lBrEMJQaAaL90cUwtB/tR4aQQMFEGoxks3XCQUQQ==",
           "dtype": "f8",
           "shape": "17"
          },
          "bdata": "w/UoXI+gp0Atsp3vJ2PIQEA1XroZF9BAnMQgsLJ72kCoxks3McrmQPCnxkvzKPNAyXa+n5Jj9kBqvHSTwkD6QNBE2PD/C/xA16NwPcBAAkGBlUOLom4EQV66SQy1GQdBoBov3aXUCEFMN4lBrEMJQaAaL90cUwtB/tR4aQQMFEGoxks3XCQUQQ==",
          "dtype": "f8"
         },
         "textposition": "inside",
         "type": "bar",
         "x": {
          "_inputArray": {
           "0": 3024.28,
           "1": 12486.312,
           "10": 167380.318,
           "11": 189238.631,
           "12": 203412.733,
           "13": 206965.532,
           "14": 223843.608,
           "15": 328449.103,
           "16": 330007.054,
           "2": 16476.402000000002,
           "3": 27118.792,
           "4": 46673.538,
           "5": 78479.206,
           "6": 91705.164,
           "7": 107532.161,
           "8": 114879.9963,
           "9": 149528.03,
           "bdata": "w/UoXI+gp0Atsp3vJ2PIQEA1XroZF9BAnMQgsLJ72kCoxks3McrmQPCnxkvzKPNAyXa+n5Jj9kBqvHSTwkD6QNBE2PD/C/xA16NwPcBAAkGBlUOLom4EQV66SQy1GQdBoBov3aXUCEFMN4lBrEMJQaAaL90cUwtB/tR4aQQMFEGoxks3XCQUQQ==",
           "dtype": "f8",
           "shape": "17"
          },
          "bdata": "w/UoXI+gp0Atsp3vJ2PIQEA1XroZF9BAnMQgsLJ72kCoxks3McrmQPCnxkvzKPNAyXa+n5Jj9kBqvHSTwkD6QNBE2PD/C/xA16NwPcBAAkGBlUOLom4EQV66SQy1GQdBoBov3aXUCEFMN4lBrEMJQaAaL90cUwtB/tR4aQQMFEGoxks3XCQUQQ==",
          "dtype": "f8"
         },
         "xaxis": "x",
         "y": [
          "Fasteners",
          "Labels",
          "Envelopes",
          "Art",
          "Supplies",
          "Paper",
          "Furnishings",
          "Appliances",
          "Bookcases",
          "Copiers",
          "Accessories",
          "Machines",
          "Binders",
          "Tables",
          "Storage",
          "Chairs",
          "Phones"
         ],
         "yaxis": "y"
        }
       ],
       "layout": {
        "barmode": "relative",
        "height": 550,
        "legend": {
         "tracegroupgap": 0
        },
        "margin": {
         "b": 50,
         "l": 150,
         "r": 10,
         "t": 50
        },
        "paper_bgcolor": "rgba(0, 0, 0, 0)",
        "plot_bgcolor": "rgba(0, 0, 0, 0)",
        "template": {
         "data": {
          "pie": [
           {
            "automargin": true,
            "type": "pie"
           }
          ],
          "scatter": [
           {
            "line": {
             "width": 3
            },
            "marker": {
             "size": 9
            },
            "type": "scatter"
           }
          ],
          "scatter3d": [
           {
            "line": {
             "width": 3
            },
            "marker": {
             "size": 9
            },
            "type": "scatter3d"
           }
          ],
          "scattergeo": [
           {
            "line": {
             "width": 3
            },
            "marker": {
             "size": 9
            },
            "type": "scattergeo"
           }
          ],
          "scattergl": [
           {
            "line": {
             "width": 3
            },
            "marker": {
             "size": 9
            },
            "type": "scattergl"
           }
          ],
          "scatterpolar": [
           {
            "line": {
             "width": 3
            },
            "marker": {
             "size": 9
            },
            "type": "scatterpolar"
           }
          ],
          "scatterpolargl": [
           {
            "line": {
             "width": 3
            },
            "marker": {
             "size": 9
            },
            "type": "scatterpolargl"
           }
          ],
          "scatterternary": [
           {
            "line": {
             "width": 3
            },
            "marker": {
             "size": 9
            },
            "type": "scatterternary"
           }
          ],
          "table": [
           {
            "cells": {
             "height": 30
            },
            "header": {
             "height": 36
            },
            "type": "table"
           }
          ]
         },
         "layout": {
          "font": {
           "size": 18
          },
          "xaxis": {
           "title": {
            "standoff": 15
           }
          },
          "yaxis": {
           "title": {
            "standoff": 15
           }
          }
         }
        },
        "title": {
         "text": "Sales Distribution by sub-Category"
        },
        "width": 900,
        "xaxis": {
         "anchor": "y",
         "autorange": true,
         "domain": [
          0,
          1
         ],
         "range": [
          0,
          347375.8463157895
         ],
         "title": {
          "text": "Sales"
         },
         "type": "linear"
        },
        "yaxis": {
         "anchor": "x",
         "autorange": true,
         "domain": [
          0,
          1
         ],
         "range": [
          -0.5,
          16.5
         ],
         "title": {
          "text": "Sub-Category"
         },
         "type": "category"
        }
       }
      },
      "image/png": "[encoded data removed]"
     },
     "metadata": {},
     "output_type": "display_data"
    }
   ],
   "source": [
    "fig = px.bar(sales_by_sub_category, \n",
    "             x ='Sales', \n",
    "             y ='Sub-Category', title='Sales Distribution by sub-Category', \n",
    "             color_discrete_sequence=['darkcyan'],\n",
    "             orientation='h',\n",
    "            height= 550,\n",
    "             text = 'Sales',\n",
    "            width= 900)\n",
    "fig.update_traces(textposition = 'inside')\n",
    "fig.update_layout(template=\"presentation\", paper_bgcolor=\"rgba(0, 0, 0, 0)\", plot_bgcolor =\"rgba(0, 0, 0, 0)\",\n",
    "                 margin = dict(l=150, r=10, t=50, b=50))\n",
    "fig.show()\n",
    "fig.write_image(os.path.join(results_dir,'sales_distribution_sub_category_bar_plot.jpg'))\n",
    "fig.write_image(os.path.join(results_dir,'sales_distribution_sub_category_bar_plot.png'))\n",
    "fig.write_html(os.path.join(results_dir,'sales_distribution_sub_category_bar_plot.html'))"
   ]
  },
  {
   "cell_type": "markdown",
   "id": "76e787f8-ae8d-4991-8af8-feef83a08148",
   "metadata": {},
   "source": [
    "## Sales Distribution by Ship Mode"
   ]
  },
  {
   "cell_type": "code",
   "execution_count": 7,
   "id": "c738a022-8ca5-4903-8f33-405cb915570d",
   "metadata": {},
   "outputs": [
    {
     "data": {
      "text/html": [
       "<div>\n",
       "<style scoped>\n",
       "    .dataframe tbody tr th:only-of-type {\n",
       "        vertical-align: middle;\n",
       "    }\n",
       "\n",
       "    .dataframe tbody tr th {\n",
       "        vertical-align: top;\n",
       "    }\n",
       "\n",
       "    .dataframe thead th {\n",
       "        text-align: right;\n",
       "    }\n",
       "</style>\n",
       "<table border=\"1\" class=\"dataframe\">\n",
       "  <thead>\n",
       "    <tr style=\"text-align: right;\">\n",
       "      <th></th>\n",
       "      <th>Ship Mode</th>\n",
       "      <th>Sales</th>\n",
       "    </tr>\n",
       "  </thead>\n",
       "  <tbody>\n",
       "    <tr>\n",
       "      <th>1</th>\n",
       "      <td>Same Day</td>\n",
       "      <td>1.283631e+05</td>\n",
       "    </tr>\n",
       "    <tr>\n",
       "      <th>0</th>\n",
       "      <td>First Class</td>\n",
       "      <td>3.514284e+05</td>\n",
       "    </tr>\n",
       "    <tr>\n",
       "      <th>2</th>\n",
       "      <td>Second Class</td>\n",
       "      <td>4.591936e+05</td>\n",
       "    </tr>\n",
       "    <tr>\n",
       "      <th>3</th>\n",
       "      <td>Standard Class</td>\n",
       "      <td>1.358216e+06</td>\n",
       "    </tr>\n",
       "  </tbody>\n",
       "</table>\n",
       "</div>"
      ],
      "text/plain": [
       "        Ship Mode         Sales\n",
       "1        Same Day  1.283631e+05\n",
       "0     First Class  3.514284e+05\n",
       "2    Second Class  4.591936e+05\n",
       "3  Standard Class  1.358216e+06"
      ]
     },
     "execution_count": 7,
     "metadata": {},
     "output_type": "execute_result"
    }
   ],
   "source": [
    "sales_by_sub_ship = super_df.groupby('Ship Mode')['Sales'].sum().reset_index().sort_values(by='Sales', ascending=True)\n",
    "sales_by_sub_ship"
   ]
  },
  {
   "cell_type": "code",
   "execution_count": null,
   "id": "7490a2a7-41fc-4de3-8cb7-83fec74ad18a",
   "metadata": {},
   "outputs": [
    {
     "data": {
      "application/vnd.plotly.v1+json": {
       "config": {
        "plotlyServerURL": "https://plot.ly"
       },
       "data": [
        {
         "hovertemplate": "Ship Mode=%{x}<br>Sales=%{text}<extra></extra>",
         "legendgroup": "",
         "marker": {
          "color": "darkcyan",
          "pattern": {
           "shape": ""
          }
         },
         "name": "",
         "orientation": "v",
         "showlegend": false,
         "text": {
          "_inputArray": {
           "0": 128363.125,
           "1": 351428.4229,
           "2": 459193.56940000004,
           "3": 1358215.743,
           "bdata": "AAAAALJW/0CWsgyxEXMVQSrLEEfmBhxBfT81voe5NEE=",
           "dtype": "f8",
           "shape": "4"
          },
          "bdata": "AAAAALJW/0CWsgyxEXMVQSrLEEfmBhxBfT81voe5NEE=",
          "dtype": "f8"
         },
         "textposition": "inside",
         "type": "bar",
         "x": [
          "Same Day",
          "First Class",
          "Second Class",
          "Standard Class"
         ],
         "xaxis": "x",
         "y": {
          "_inputArray": {
           "0": 128363.125,
           "1": 351428.4229,
           "2": 459193.56940000004,
           "3": 1358215.743,
           "bdata": "AAAAALJW/0CWsgyxEXMVQSrLEEfmBhxBfT81voe5NEE=",
           "dtype": "f8",
           "shape": "4"
          },
          "bdata": "AAAAALJW/0CWsgyxEXMVQSrLEEfmBhxBfT81voe5NEE=",
          "dtype": "f8"
         },
         "yaxis": "y"
        }
       ],
       "layout": {
        "autosize": true,
        "barmode": "relative",
        "legend": {
         "tracegroupgap": 0
        },
        "paper_bgcolor": "rgba(0, 0, 0, 0)",
        "plot_bgcolor": "rgba(0, 0, 0, 0)",
        "template": {
         "data": {
          "pie": [
           {
            "automargin": true,
            "type": "pie"
           }
          ],
          "scatter": [
           {
            "line": {
             "width": 3
            },
            "marker": {
             "size": 9
            },
            "type": "scatter"
           }
          ],
          "scatter3d": [
           {
            "line": {
             "width": 3
            },
            "marker": {
             "size": 9
            },
            "type": "scatter3d"
           }
          ],
          "scattergeo": [
           {
            "line": {
             "width": 3
            },
            "marker": {
             "size": 9
            },
            "type": "scattergeo"
           }
          ],
          "scattergl": [
           {
            "line": {
             "width": 3
            },
            "marker": {
             "size": 9
            },
            "type": "scattergl"
           }
          ],
          "scatterpolar": [
           {
            "line": {
             "width": 3
            },
            "marker": {
             "size": 9
            },
            "type": "scatterpolar"
           }
          ],
          "scatterpolargl": [
           {
            "line": {
             "width": 3
            },
            "marker": {
             "size": 9
            },
            "type": "scatterpolargl"
           }
          ],
          "scatterternary": [
           {
            "line": {
             "width": 3
            },
            "marker": {
             "size": 9
            },
            "type": "scatterternary"
           }
          ],
          "table": [
           {
            "cells": {
             "height": 30
            },
            "header": {
             "height": 36
            },
            "type": "table"
           }
          ]
         },
         "layout": {
          "font": {
           "size": 18
          },
          "xaxis": {
           "title": {
            "standoff": 15
           }
          },
          "yaxis": {
           "title": {
            "standoff": 15
           }
          }
         }
        },
        "title": {
         "text": "Sales Distribution by Ship Mode"
        },
        "xaxis": {
         "anchor": "y",
         "autorange": true,
         "domain": [
          0,
          1
         ],
         "range": [
          -0.5,
          3.5
         ],
         "title": {
          "text": "Ship Mode"
         },
         "type": "category"
        },
        "yaxis": {
         "anchor": "x",
         "autorange": true,
         "domain": [
          0,
          1
         ],
         "range": [
          0,
          1429700.782105263
         ],
         "title": {
          "text": "Sales"
         },
         "type": "linear"
        }
       }
      },
      "image/png": "[encoded data removed]"
     },
     "metadata": {},
     "output_type": "display_data"
    }
   ],
   "source": [
    "fig = px.bar(sales_by_sub_ship, \n",
    "             y='Sales', \n",
    "              x='Ship Mode', title='Sales Distribution by Ship Mode', \n",
    "             color_discrete_sequence=['darkcyan'],\n",
    "             orientation='v',\n",
    "             text='Sales'\n",
    "            )\n",
    "fig.update_traces(textposition = 'inside')\n",
    "fig.update_layout(template=\"presentation\", paper_bgcolor=\"rgba(0, 0, 0, 0)\", plot_bgcolor =\"rgba(0, 0, 0, 0)\",)\n",
    "fig.show()\n",
    "fig.write_image(os.path.join(results_dir,'sales_distribution_shipmode_bar_plot.jpg'))\n",
    "fig.write_image(os.path.join(results_dir,'sales_distribution_shipmode_bar_plot.png'))\n",
    "fig.write_html(os.path.join(results_dir,'sales_distribution_shipmode_bar_plot.html'))"
   ]
  },
  {
   "cell_type": "markdown",
   "id": "27a46f13-b4da-4742-a6ce-7529e15839af",
   "metadata": {},
   "source": [
    "## Sales Distribution by Region"
   ]
  },
  {
   "cell_type": "code",
   "execution_count": 24,
   "id": "9bd4d33e-3b13-4016-864f-94b81d1827c9",
   "metadata": {},
   "outputs": [
    {
     "data": {
      "text/html": [
       "<div>\n",
       "<style scoped>\n",
       "    .dataframe tbody tr th:only-of-type {\n",
       "        vertical-align: middle;\n",
       "    }\n",
       "\n",
       "    .dataframe tbody tr th {\n",
       "        vertical-align: top;\n",
       "    }\n",
       "\n",
       "    .dataframe thead th {\n",
       "        text-align: right;\n",
       "    }\n",
       "</style>\n",
       "<table border=\"1\" class=\"dataframe\">\n",
       "  <thead>\n",
       "    <tr style=\"text-align: right;\">\n",
       "      <th></th>\n",
       "      <th>Region</th>\n",
       "      <th>Sales</th>\n",
       "    </tr>\n",
       "  </thead>\n",
       "  <tbody>\n",
       "    <tr>\n",
       "      <th>2</th>\n",
       "      <td>South</td>\n",
       "      <td>391721.9050</td>\n",
       "    </tr>\n",
       "    <tr>\n",
       "      <th>0</th>\n",
       "      <td>Central</td>\n",
       "      <td>501239.8908</td>\n",
       "    </tr>\n",
       "    <tr>\n",
       "      <th>1</th>\n",
       "      <td>East</td>\n",
       "      <td>678781.2400</td>\n",
       "    </tr>\n",
       "    <tr>\n",
       "      <th>3</th>\n",
       "      <td>West</td>\n",
       "      <td>725457.8245</td>\n",
       "    </tr>\n",
       "  </tbody>\n",
       "</table>\n",
       "</div>"
      ],
      "text/plain": [
       "    Region        Sales\n",
       "2    South  391721.9050\n",
       "0  Central  501239.8908\n",
       "1     East  678781.2400\n",
       "3     West  725457.8245"
      ]
     },
     "execution_count": 24,
     "metadata": {},
     "output_type": "execute_result"
    }
   ],
   "source": [
    "sales_by_region = super_df.groupby('Region')['Sales'].sum().reset_index().sort_values(by='Sales', ascending=True)\n",
    "sales_by_region"
   ]
  },
  {
   "cell_type": "code",
   "execution_count": 36,
   "id": "bdbe3de8-99df-4096-8514-4ff8ec66f6c3",
   "metadata": {},
   "outputs": [
    {
     "data": {
      "application/vnd.plotly.v1+json": {
       "config": {
        "plotlyServerURL": "https://plot.ly"
       },
       "data": [
        {
         "hovertemplate": "Sales=%{text}<br>Region=%{y}<extra></extra>",
         "legendgroup": "",
         "marker": {
          "color": "darkcyan",
          "pattern": {
           "shape": ""
          }
         },
         "name": "",
         "orientation": "h",
         "showlegend": false,
         "text": {
          "_inputArray": {
           "0": 391721.905,
           "1": 501239.8908,
           "2": 678781.24,
           "3": 725457.8245,
           "bdata": "7FG4nqfoF0EN4C2Q35ceQa5H4Xr6tiRBL90kpqMjJkE=",
           "dtype": "f8",
           "shape": "4"
          },
          "bdata": "7FG4nqfoF0EN4C2Q35ceQa5H4Xr6tiRBL90kpqMjJkE=",
          "dtype": "f8"
         },
         "textposition": "inside",
         "type": "bar",
         "x": {
          "_inputArray": {
           "0": 391721.905,
           "1": 501239.8908,
           "2": 678781.24,
           "3": 725457.8245,
           "bdata": "7FG4nqfoF0EN4C2Q35ceQa5H4Xr6tiRBL90kpqMjJkE=",
           "dtype": "f8",
           "shape": "4"
          },
          "bdata": "7FG4nqfoF0EN4C2Q35ceQa5H4Xr6tiRBL90kpqMjJkE=",
          "dtype": "f8"
         },
         "xaxis": "x",
         "y": [
          "South",
          "Central",
          "East",
          "West"
         ],
         "yaxis": "y"
        }
       ],
       "layout": {
        "autosize": true,
        "barmode": "relative",
        "legend": {
         "tracegroupgap": 0
        },
        "margin": {
         "b": 50,
         "l": 150,
         "r": 10,
         "t": 50
        },
        "paper_bgcolor": "rgba(0, 0, 0, 0)",
        "plot_bgcolor": "rgba(0, 0, 0, 0)",
        "template": {
         "data": {
          "pie": [
           {
            "automargin": true,
            "type": "pie"
           }
          ],
          "scatter": [
           {
            "line": {
             "width": 3
            },
            "marker": {
             "size": 9
            },
            "type": "scatter"
           }
          ],
          "scatter3d": [
           {
            "line": {
             "width": 3
            },
            "marker": {
             "size": 9
            },
            "type": "scatter3d"
           }
          ],
          "scattergeo": [
           {
            "line": {
             "width": 3
            },
            "marker": {
             "size": 9
            },
            "type": "scattergeo"
           }
          ],
          "scattergl": [
           {
            "line": {
             "width": 3
            },
            "marker": {
             "size": 9
            },
            "type": "scattergl"
           }
          ],
          "scatterpolar": [
           {
            "line": {
             "width": 3
            },
            "marker": {
             "size": 9
            },
            "type": "scatterpolar"
           }
          ],
          "scatterpolargl": [
           {
            "line": {
             "width": 3
            },
            "marker": {
             "size": 9
            },
            "type": "scatterpolargl"
           }
          ],
          "scatterternary": [
           {
            "line": {
             "width": 3
            },
            "marker": {
             "size": 9
            },
            "type": "scatterternary"
           }
          ],
          "table": [
           {
            "cells": {
             "height": 30
            },
            "header": {
             "height": 36
            },
            "type": "table"
           }
          ]
         },
         "layout": {
          "font": {
           "size": 18
          },
          "xaxis": {
           "title": {
            "standoff": 15
           }
          },
          "yaxis": {
           "title": {
            "standoff": 15
           }
          }
         }
        },
        "title": {
         "text": "Sales Distribution by Region"
        },
        "xaxis": {
         "anchor": "y",
         "autorange": true,
         "domain": [
          0,
          1
         ],
         "range": [
          0,
          763639.815263158
         ],
         "title": {
          "text": "Sales"
         },
         "type": "linear"
        },
        "yaxis": {
         "anchor": "x",
         "autorange": true,
         "domain": [
          0,
          1
         ],
         "range": [
          -0.5,
          3.5
         ],
         "title": {
          "text": "Region"
         },
         "type": "category"
        }
       }
      },
      "image/png": "[encoded data removed]"
     },
     "metadata": {},
     "output_type": "display_data"
    }
   ],
   "source": [
    "fig = px.bar(sales_by_region, \n",
    "             x ='Sales', \n",
    "             y ='Region', title='Sales Distribution by Region', \n",
    "             color_discrete_sequence=['darkcyan'],\n",
    "             text='Sales'\n",
    "            )\n",
    "fig.update_layout(template=\"presentation\", paper_bgcolor=\"rgba(0, 0, 0, 0)\", plot_bgcolor =\"rgba(0, 0, 0, 0)\", margin = dict(l=150, r=10, t=50, b=50))\n",
    "fig.update_traces(textposition = 'inside')\n",
    "fig.show()\n",
    "fig.write_image(os.path.join(results_dir,'sales_distribution_region_pie_chart.jpg'))\n",
    "fig.write_image(os.path.join(results_dir,'sales_distribution_region_pie_chart.png'))\n",
    "fig.write_html(os.path.join(results_dir,'sales_distribution_region_pie_chart.html'))"
   ]
  },
  {
   "cell_type": "markdown",
   "id": "268b9e56-ccee-455e-93b2-549fc96db2c7",
   "metadata": {},
   "source": [
    "# Customer Segment Distribution"
   ]
  },
  {
   "cell_type": "code",
   "execution_count": 27,
   "id": "84f13c21-9e95-4113-81ce-e5a12d3bbf7a",
   "metadata": {},
   "outputs": [
    {
     "data": {
      "text/html": [
       "<div>\n",
       "<style scoped>\n",
       "    .dataframe tbody tr th:only-of-type {\n",
       "        vertical-align: middle;\n",
       "    }\n",
       "\n",
       "    .dataframe tbody tr th {\n",
       "        vertical-align: top;\n",
       "    }\n",
       "\n",
       "    .dataframe thead th {\n",
       "        text-align: right;\n",
       "    }\n",
       "</style>\n",
       "<table border=\"1\" class=\"dataframe\">\n",
       "  <thead>\n",
       "    <tr style=\"text-align: right;\">\n",
       "      <th></th>\n",
       "      <th>Segment</th>\n",
       "      <th>total</th>\n",
       "    </tr>\n",
       "  </thead>\n",
       "  <tbody>\n",
       "    <tr>\n",
       "      <th>0</th>\n",
       "      <td>Consumer</td>\n",
       "      <td>5191</td>\n",
       "    </tr>\n",
       "    <tr>\n",
       "      <th>1</th>\n",
       "      <td>Corporate</td>\n",
       "      <td>3020</td>\n",
       "    </tr>\n",
       "    <tr>\n",
       "      <th>2</th>\n",
       "      <td>Home Office</td>\n",
       "      <td>1783</td>\n",
       "    </tr>\n",
       "  </tbody>\n",
       "</table>\n",
       "</div>"
      ],
      "text/plain": [
       "       Segment  total\n",
       "0     Consumer   5191\n",
       "1    Corporate   3020\n",
       "2  Home Office   1783"
      ]
     },
     "execution_count": 27,
     "metadata": {},
     "output_type": "execute_result"
    }
   ],
   "source": [
    "customer_segment = super_df.groupby('Segment').size().reset_index(name = 'total')\n",
    "customer_segment"
   ]
  },
  {
   "cell_type": "code",
   "execution_count": 30,
   "id": "e25a8924-ebca-422a-a6b7-a0a9ccb80998",
   "metadata": {},
   "outputs": [
    {
     "data": {
      "application/vnd.plotly.v1+json": {
       "config": {
        "plotlyServerURL": "https://plot.ly"
       },
       "data": [
        {
         "hovertemplate": "Segment=%{x}<br>total=%{text}<extra></extra>",
         "legendgroup": "",
         "marker": {
          "color": "darkcyan",
          "pattern": {
           "shape": ""
          }
         },
         "name": "",
         "orientation": "v",
         "showlegend": false,
         "text": {
          "_inputArray": {
           "0": 5191,
           "1": 3020,
           "2": 1783,
           "bdata": "AAAAAABHtEAAAAAAAJinQAAAAAAA3JtA",
           "dtype": "f8",
           "shape": "3"
          },
          "bdata": "AAAAAABHtEAAAAAAAJinQAAAAAAA3JtA",
          "dtype": "f8"
         },
         "textposition": "inside",
         "type": "bar",
         "x": [
          "Consumer",
          "Corporate",
          "Home Office"
         ],
         "xaxis": "x",
         "y": {
          "_inputArray": {
           "0": 5191,
           "1": 3020,
           "2": 1783,
           "bdata": "RxTMC/cG",
           "dtype": "i2",
           "shape": "3"
          },
          "bdata": "RxTMC/cG",
          "dtype": "i2"
         },
         "yaxis": "y"
        }
       ],
       "layout": {
        "barmode": "relative",
        "height": 450,
        "legend": {
         "tracegroupgap": 0
        },
        "margin": {
         "b": 50,
         "l": 150,
         "r": 10,
         "t": 50
        },
        "paper_bgcolor": "rgba(0, 0, 0, 0)",
        "plot_bgcolor": "rgba(0, 0, 0, 0)",
        "template": {
         "data": {
          "pie": [
           {
            "automargin": true,
            "type": "pie"
           }
          ],
          "scatter": [
           {
            "line": {
             "width": 3
            },
            "marker": {
             "size": 9
            },
            "type": "scatter"
           }
          ],
          "scatter3d": [
           {
            "line": {
             "width": 3
            },
            "marker": {
             "size": 9
            },
            "type": "scatter3d"
           }
          ],
          "scattergeo": [
           {
            "line": {
             "width": 3
            },
            "marker": {
             "size": 9
            },
            "type": "scattergeo"
           }
          ],
          "scattergl": [
           {
            "line": {
             "width": 3
            },
            "marker": {
             "size": 9
            },
            "type": "scattergl"
           }
          ],
          "scatterpolar": [
           {
            "line": {
             "width": 3
            },
            "marker": {
             "size": 9
            },
            "type": "scatterpolar"
           }
          ],
          "scatterpolargl": [
           {
            "line": {
             "width": 3
            },
            "marker": {
             "size": 9
            },
            "type": "scatterpolargl"
           }
          ],
          "scatterternary": [
           {
            "line": {
             "width": 3
            },
            "marker": {
             "size": 9
            },
            "type": "scatterternary"
           }
          ],
          "table": [
           {
            "cells": {
             "height": 30
            },
            "header": {
             "height": 36
            },
            "type": "table"
           }
          ]
         },
         "layout": {
          "font": {
           "size": 18
          },
          "xaxis": {
           "title": {
            "standoff": 15
           }
          },
          "yaxis": {
           "title": {
            "standoff": 15
           }
          }
         }
        },
        "title": {
         "text": "Customer Segment Distribution"
        },
        "width": 600,
        "xaxis": {
         "anchor": "y",
         "autorange": true,
         "domain": [
          0,
          1
         ],
         "range": [
          -0.5,
          2.5
         ],
         "title": {
          "text": "Segment"
         },
         "type": "category"
        },
        "yaxis": {
         "anchor": "x",
         "autorange": true,
         "domain": [
          0,
          1
         ],
         "range": [
          0,
          5464.210526315789
         ],
         "title": {
          "text": "total"
         },
         "type": "linear"
        }
       }
      },
      "image/png": "[encoded data removed]"
     },
     "metadata": {},
     "output_type": "display_data"
    }
   ],
   "source": [
    "fig = px.bar(customer_segment, \n",
    "             x ='Segment', \n",
    "             y ='total', title='Customer Segment Distribution', \n",
    "             color_discrete_sequence=['darkcyan'],\n",
    "             orientation='v',\n",
    "            height= 450,\n",
    "             text = 'total',\n",
    "            width= 600)\n",
    "fig.update_traces(textposition = 'inside')\n",
    "fig.update_layout(template=\"presentation\", paper_bgcolor=\"rgba(0, 0, 0, 0)\", plot_bgcolor =\"rgba(0, 0, 0, 0)\",\n",
    "                 margin = dict(l=150, r=10, t=50, b=50))\n",
    "fig.show()\n",
    "fig.write_image(os.path.join(results_dir,'customersegment_distribution_bar_plot.jpg'))\n",
    "fig.write_image(os.path.join(results_dir,'customersegment_distribution_bar_plot.png'))\n",
    "fig.write_html(os.path.join(results_dir,'customersegment_distribution_bar_plot.html'))"
   ]
  },
  {
   "cell_type": "code",
   "execution_count": null,
   "id": "a3874ef4-8f6b-4394-968f-42741a05dcc7",
   "metadata": {},
   "outputs": [],
   "source": []
  }
 ],
 "metadata": {
  "kernelspec": {
   "display_name": "Python 3 (ipykernel)",
   "language": "python",
   "name": "python3"
  },
  "language_info": {
   "codemirror_mode": {
    "name": "ipython",
    "version": 3
   },
   "file_extension": ".py",
   "mimetype": "text/x-python",
   "name": "python",
   "nbconvert_exporter": "python",
   "pygments_lexer": "ipython3",
   "version": "3.11.7"
  },
  "widgets": {
   "application/vnd.jupyter.widget-state+json": {
    "state": {},
    "version_major": 2,
    "version_minor": 0
   }
  }
 },
 "nbformat": 4,
 "nbformat_minor": 5
}
